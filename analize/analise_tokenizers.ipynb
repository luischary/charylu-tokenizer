{
 "cells": [
  {
   "cell_type": "code",
   "execution_count": 1,
   "metadata": {},
   "outputs": [],
   "source": [
    "import pandas as pd\n",
    "from tqdm import tqdm\n",
    "\n",
    "from data.tokenizer import MyTokenizer"
   ]
  },
  {
   "cell_type": "code",
   "execution_count": 2,
   "metadata": {},
   "outputs": [
    {
     "data": {
      "text/html": [
       "<div>\n",
       "<style scoped>\n",
       "    .dataframe tbody tr th:only-of-type {\n",
       "        vertical-align: middle;\n",
       "    }\n",
       "\n",
       "    .dataframe tbody tr th {\n",
       "        vertical-align: top;\n",
       "    }\n",
       "\n",
       "    .dataframe thead th {\n",
       "        text-align: right;\n",
       "    }\n",
       "</style>\n",
       "<table border=\"1\" class=\"dataframe\">\n",
       "  <thead>\n",
       "    <tr style=\"text-align: right;\">\n",
       "      <th></th>\n",
       "      <th>txt_len</th>\n",
       "      <th>limpeza_cc</th>\n",
       "      <th>partition_ref</th>\n",
       "      <th>partition_index</th>\n",
       "      <th>base</th>\n",
       "      <th>lang</th>\n",
       "      <th>duplicado_80</th>\n",
       "      <th>duplicado_90</th>\n",
       "      <th>duplicado_95</th>\n",
       "      <th>duplicado_98</th>\n",
       "      <th>tipo</th>\n",
       "    </tr>\n",
       "  </thead>\n",
       "  <tbody>\n",
       "    <tr>\n",
       "      <th>0</th>\n",
       "      <td>467526</td>\n",
       "      <td>1</td>\n",
       "      <td>/media/luis/BIGGER/datasets/nlp_datasets/parti...</td>\n",
       "      <td>0</td>\n",
       "      <td>livros</td>\n",
       "      <td>pt</td>\n",
       "      <td>0</td>\n",
       "      <td>0</td>\n",
       "      <td>0</td>\n",
       "      <td>0</td>\n",
       "      <td>pdf</td>\n",
       "    </tr>\n",
       "    <tr>\n",
       "      <th>1</th>\n",
       "      <td>52364</td>\n",
       "      <td>1</td>\n",
       "      <td>/media/luis/BIGGER/datasets/nlp_datasets/parti...</td>\n",
       "      <td>1</td>\n",
       "      <td>livros</td>\n",
       "      <td>pt</td>\n",
       "      <td>0</td>\n",
       "      <td>0</td>\n",
       "      <td>0</td>\n",
       "      <td>0</td>\n",
       "      <td>pdf</td>\n",
       "    </tr>\n",
       "    <tr>\n",
       "      <th>2</th>\n",
       "      <td>389677</td>\n",
       "      <td>1</td>\n",
       "      <td>/media/luis/BIGGER/datasets/nlp_datasets/parti...</td>\n",
       "      <td>2</td>\n",
       "      <td>livros</td>\n",
       "      <td>pt</td>\n",
       "      <td>0</td>\n",
       "      <td>0</td>\n",
       "      <td>0</td>\n",
       "      <td>0</td>\n",
       "      <td>pdf</td>\n",
       "    </tr>\n",
       "    <tr>\n",
       "      <th>3</th>\n",
       "      <td>913546</td>\n",
       "      <td>1</td>\n",
       "      <td>/media/luis/BIGGER/datasets/nlp_datasets/parti...</td>\n",
       "      <td>3</td>\n",
       "      <td>livros</td>\n",
       "      <td>pt</td>\n",
       "      <td>0</td>\n",
       "      <td>0</td>\n",
       "      <td>0</td>\n",
       "      <td>0</td>\n",
       "      <td>pdf</td>\n",
       "    </tr>\n",
       "    <tr>\n",
       "      <th>4</th>\n",
       "      <td>564605</td>\n",
       "      <td>1</td>\n",
       "      <td>/media/luis/BIGGER/datasets/nlp_datasets/parti...</td>\n",
       "      <td>4</td>\n",
       "      <td>livros</td>\n",
       "      <td>pt</td>\n",
       "      <td>0</td>\n",
       "      <td>0</td>\n",
       "      <td>0</td>\n",
       "      <td>0</td>\n",
       "      <td>pdf</td>\n",
       "    </tr>\n",
       "    <tr>\n",
       "      <th>...</th>\n",
       "      <td>...</td>\n",
       "      <td>...</td>\n",
       "      <td>...</td>\n",
       "      <td>...</td>\n",
       "      <td>...</td>\n",
       "      <td>...</td>\n",
       "      <td>...</td>\n",
       "      <td>...</td>\n",
       "      <td>...</td>\n",
       "      <td>...</td>\n",
       "      <td>...</td>\n",
       "    </tr>\n",
       "    <tr>\n",
       "      <th>54474988</th>\n",
       "      <td>221909</td>\n",
       "      <td>1</td>\n",
       "      <td>/media/luis/BIGGER/datasets/nlp_datasets/parti...</td>\n",
       "      <td>995</td>\n",
       "      <td>pdfs_dominio_publico</td>\n",
       "      <td>pt</td>\n",
       "      <td>0</td>\n",
       "      <td>0</td>\n",
       "      <td>0</td>\n",
       "      <td>0</td>\n",
       "      <td>pdf</td>\n",
       "    </tr>\n",
       "    <tr>\n",
       "      <th>54474989</th>\n",
       "      <td>506</td>\n",
       "      <td>1</td>\n",
       "      <td>/media/luis/BIGGER/datasets/nlp_datasets/parti...</td>\n",
       "      <td>996</td>\n",
       "      <td>pdfs_dominio_publico</td>\n",
       "      <td>pt</td>\n",
       "      <td>0</td>\n",
       "      <td>0</td>\n",
       "      <td>0</td>\n",
       "      <td>0</td>\n",
       "      <td>pdf</td>\n",
       "    </tr>\n",
       "    <tr>\n",
       "      <th>54474990</th>\n",
       "      <td>133266</td>\n",
       "      <td>1</td>\n",
       "      <td>/media/luis/BIGGER/datasets/nlp_datasets/parti...</td>\n",
       "      <td>997</td>\n",
       "      <td>pdfs_dominio_publico</td>\n",
       "      <td>en</td>\n",
       "      <td>0</td>\n",
       "      <td>0</td>\n",
       "      <td>0</td>\n",
       "      <td>0</td>\n",
       "      <td>pdf</td>\n",
       "    </tr>\n",
       "    <tr>\n",
       "      <th>54474991</th>\n",
       "      <td>1344</td>\n",
       "      <td>1</td>\n",
       "      <td>/media/luis/BIGGER/datasets/nlp_datasets/parti...</td>\n",
       "      <td>998</td>\n",
       "      <td>pdfs_dominio_publico</td>\n",
       "      <td>pt</td>\n",
       "      <td>0</td>\n",
       "      <td>0</td>\n",
       "      <td>0</td>\n",
       "      <td>0</td>\n",
       "      <td>pdf</td>\n",
       "    </tr>\n",
       "    <tr>\n",
       "      <th>54474992</th>\n",
       "      <td>194716</td>\n",
       "      <td>1</td>\n",
       "      <td>/media/luis/BIGGER/datasets/nlp_datasets/parti...</td>\n",
       "      <td>999</td>\n",
       "      <td>pdfs_dominio_publico</td>\n",
       "      <td>pt</td>\n",
       "      <td>0</td>\n",
       "      <td>0</td>\n",
       "      <td>0</td>\n",
       "      <td>0</td>\n",
       "      <td>pdf</td>\n",
       "    </tr>\n",
       "  </tbody>\n",
       "</table>\n",
       "<p>54474993 rows × 11 columns</p>\n",
       "</div>"
      ],
      "text/plain": [
       "          txt_len  limpeza_cc  \\\n",
       "0          467526           1   \n",
       "1           52364           1   \n",
       "2          389677           1   \n",
       "3          913546           1   \n",
       "4          564605           1   \n",
       "...           ...         ...   \n",
       "54474988   221909           1   \n",
       "54474989      506           1   \n",
       "54474990   133266           1   \n",
       "54474991     1344           1   \n",
       "54474992   194716           1   \n",
       "\n",
       "                                              partition_ref  partition_index  \\\n",
       "0         /media/luis/BIGGER/datasets/nlp_datasets/parti...                0   \n",
       "1         /media/luis/BIGGER/datasets/nlp_datasets/parti...                1   \n",
       "2         /media/luis/BIGGER/datasets/nlp_datasets/parti...                2   \n",
       "3         /media/luis/BIGGER/datasets/nlp_datasets/parti...                3   \n",
       "4         /media/luis/BIGGER/datasets/nlp_datasets/parti...                4   \n",
       "...                                                     ...              ...   \n",
       "54474988  /media/luis/BIGGER/datasets/nlp_datasets/parti...              995   \n",
       "54474989  /media/luis/BIGGER/datasets/nlp_datasets/parti...              996   \n",
       "54474990  /media/luis/BIGGER/datasets/nlp_datasets/parti...              997   \n",
       "54474991  /media/luis/BIGGER/datasets/nlp_datasets/parti...              998   \n",
       "54474992  /media/luis/BIGGER/datasets/nlp_datasets/parti...              999   \n",
       "\n",
       "                          base lang  duplicado_80  duplicado_90  duplicado_95  \\\n",
       "0                       livros   pt             0             0             0   \n",
       "1                       livros   pt             0             0             0   \n",
       "2                       livros   pt             0             0             0   \n",
       "3                       livros   pt             0             0             0   \n",
       "4                       livros   pt             0             0             0   \n",
       "...                        ...  ...           ...           ...           ...   \n",
       "54474988  pdfs_dominio_publico   pt             0             0             0   \n",
       "54474989  pdfs_dominio_publico   pt             0             0             0   \n",
       "54474990  pdfs_dominio_publico   en             0             0             0   \n",
       "54474991  pdfs_dominio_publico   pt             0             0             0   \n",
       "54474992  pdfs_dominio_publico   pt             0             0             0   \n",
       "\n",
       "          duplicado_98 tipo  \n",
       "0                    0  pdf  \n",
       "1                    0  pdf  \n",
       "2                    0  pdf  \n",
       "3                    0  pdf  \n",
       "4                    0  pdf  \n",
       "...                ...  ...  \n",
       "54474988             0  pdf  \n",
       "54474989             0  pdf  \n",
       "54474990             0  pdf  \n",
       "54474991             0  pdf  \n",
       "54474992             0  pdf  \n",
       "\n",
       "[54474993 rows x 11 columns]"
      ]
     },
     "execution_count": 2,
     "metadata": {},
     "output_type": "execute_result"
    }
   ],
   "source": [
    "df = pd.read_parquet(\n",
    "    \"/media/luis/BIGGER/datasets/nlp_datasets/metadata/all_metadata_nodup_lang.pq\"\n",
    ")\n",
    "df = df[df.duplicado_80 == 0].reset_index(drop=True)\n",
    "df = df[df.lang.isin([\"pt\", \"en\", \"fr\", \"it\", \"es\"])].reset_index(drop=True)\n",
    "df"
   ]
  },
  {
   "cell_type": "code",
   "execution_count": 3,
   "metadata": {},
   "outputs": [
    {
     "name": "stderr",
     "output_type": "stream",
     "text": [
      "100%|██████████| 22/22 [01:02<00:00,  2.82s/it]\n"
     ]
    },
    {
     "data": {
      "text/plain": [
       "base\n",
       "pdfs_dominio_publico                 1000\n",
       "the_stack_v1_powershell              1000\n",
       "commom_crawl                         1000\n",
       "cc100                                1000\n",
       "wikipedia_en                         1000\n",
       "sentencas                            1000\n",
       "blogset_br                           1000\n",
       "the_stack_v1_shell                   1000\n",
       "the_stack_v1_python                  1000\n",
       "dkyoon_slimpajama_6b                 1000\n",
       "itd_stj                              1000\n",
       "the_stack_v1_markdown                1000\n",
       "the_stack_v1_html                    1000\n",
       "ajibawa_2023_Code_290k_ShareGPT       999\n",
       "wikipedia_pt                          998\n",
       "open_orca_slimorca_dedup              997\n",
       "cshorten_ml_arxiv_papers              996\n",
       "alpaca                                300\n",
       "pdfs_tjsp                             207\n",
       "vikp_textbook_quality_programming     200\n",
       "the_stack_v1_sql                      200\n",
       "livros                                 89\n",
       "Name: count, dtype: int64"
      ]
     },
     "execution_count": 3,
     "metadata": {},
     "output_type": "execute_result"
    }
   ],
   "source": [
    "import numpy as np\n",
    "\n",
    "amostra = []\n",
    "\n",
    "for base in tqdm(df.base.unique()):\n",
    "    df_base = df[df.base == base].reset_index(drop=True)\n",
    "    particoes = list(df_base.partition_ref.unique())\n",
    "    ps = np.random.choice(particoes, min(len(particoes), 10))\n",
    "    for p in ps:\n",
    "        filtered = df_base[df_base.partition_ref == p]\n",
    "        amostra.append(filtered.sample(min(100, len(filtered))))\n",
    "\n",
    "amostra = pd.concat(amostra).reset_index(drop=True)\n",
    "amostra = amostra.drop_duplicates().reset_index(drop=True)\n",
    "df = None\n",
    "amostra.base.value_counts()"
   ]
  },
  {
   "cell_type": "code",
   "execution_count": 4,
   "metadata": {},
   "outputs": [
    {
     "name": "stderr",
     "output_type": "stream",
     "text": [
      "100%|██████████| 17986/17986 [00:52<00:00, 339.59it/s] \n",
      "100%|██████████| 17986/17986 [01:00<00:00, 299.22it/s]\n",
      "100%|██████████| 17986/17986 [01:01<00:00, 290.85it/s]\n",
      "100%|██████████| 17986/17986 [01:03<00:00, 284.37it/s]\n",
      "100%|██████████| 17986/17986 [01:03<00:00, 282.29it/s]\n",
      "100%|██████████| 17986/17986 [01:04<00:00, 277.32it/s]\n",
      "100%|██████████| 17986/17986 [01:06<00:00, 269.70it/s]\n",
      "100%|██████████| 17986/17986 [01:07<00:00, 266.78it/s]\n",
      "100%|██████████| 17986/17986 [01:08<00:00, 262.76it/s]\n"
     ]
    }
   ],
   "source": [
    "from pathlib import Path\n",
    "from tqdm import tqdm\n",
    "\n",
    "tokenizers = [\n",
    "    \"/home/luis/projetos/luis_transformers/artifacts/tokenizer_2024_32k\",\n",
    "    \"/home/luis/projetos/luis_transformers/artifacts/tokenizer_2024_50k\",\n",
    "    \"/home/luis/projetos/luis_transformers/artifacts/tokenizer_2024_60k\",\n",
    "    \"/home/luis/projetos/luis_transformers/artifacts/tokenizer_2024_80k\",\n",
    "    \"/home/luis/projetos/luis_transformers/artifacts/tokenizer_2024_90k\",\n",
    "    \"/home/luis/projetos/luis_transformers/artifacts/tokenizer_2024_100k\",\n",
    "    \"/home/luis/projetos/luis_transformers/artifacts/tokenizer_2024_120k\",\n",
    "    \"/home/luis/projetos/luis_transformers/artifacts/tokenizer_2024_150k\",\n",
    "]\n",
    "\n",
    "num_tokenizers = len(tokenizers)\n",
    "tokenizers = {Path(t).stem: MyTokenizer(tokenizer_path=t) for t in tokenizers}\n",
    "\n",
    "tokens_tokenizers = {t:[] for t in tokenizers.keys()}\n",
    "\n",
    "amosta = amostra.sort_values(\"partition_ref\").reset_index(drop=True)\n",
    "particao_atual = None\n",
    "nome_particao_atual = None\n",
    "textos = []\n",
    "for _, row in tqdm(amostra.iterrows(), total=len(amostra)):\n",
    "    particao = row.partition_ref\n",
    "    linha_particao = row.partition_index\n",
    "\n",
    "    if particao_atual is None or nome_particao_atual != particao:\n",
    "        # precisa recarregar a particao\n",
    "        particao_atual = pd.read_parquet(particao)\n",
    "        nome_particao_atual = particao\n",
    "\n",
    "    texto = particao_atual.loc[linha_particao, \"text\"]\n",
    "    if len(texto) > 40_000:\n",
    "        texto = texto[:40_000]\n",
    "    textos.append(texto)\n",
    "\n",
    "for tokenizer_name, tokenizer in tokenizers.items():\n",
    "    for texto in tqdm(textos):\n",
    "        tokens = tokenizer.tokenize_text(texto)\n",
    "        tokens_tokenizers[tokenizer_name].append(len(tokens))\n"
   ]
  },
  {
   "cell_type": "code",
   "execution_count": 5,
   "metadata": {},
   "outputs": [
    {
     "name": "stdout",
     "output_type": "stream",
     "text": [
      "0 - 0.0\n",
      "5 - 1.0\n",
      "10 - 1.0\n",
      "15 - 2.0\n",
      "20 - 2.0\n",
      "25 - 2.0\n",
      "30 - 2.0\n",
      "35 - 3.0\n",
      "40 - 3.0\n",
      "45 - 4.0\n",
      "50 - 5.0\n",
      "55 - 5.0\n",
      "60 - 6.0\n",
      "65 - 6.0\n",
      "70 - 7.0\n",
      "75 - 8.0\n",
      "80 - 8.0\n",
      "85 - 9.0\n",
      "90 - 11.0\n",
      "95 - 12.0\n"
     ]
    }
   ],
   "source": [
    "import re\n",
    "tamanhos = []\n",
    "contagem = 0\n",
    "for t in textos:\n",
    "    palavras = re.sub(r\"\\n[\\n]+?\", \" \", t).split(\" \")\n",
    "    tamanhos += [len(p) for p in palavras]\n",
    "    contagem += 1\n",
    "\n",
    "    if contagem >= 1000:\n",
    "        break\n",
    "\n",
    "for p in range(0, 100, 5):\n",
    "    print(f\"{p} - {np.percentile(tamanhos, p)}\")"
   ]
  },
  {
   "cell_type": "code",
   "execution_count": 31,
   "metadata": {},
   "outputs": [
    {
     "name": "stdout",
     "output_type": "stream",
     "text": [
      "\n",
      "\n",
      "_CADERNOS \n",
      "\u0003_DO IEB \n",
      "_10\n",
      "Um olhar sobre a literatura_ \n",
      "comparada no brasil_ \n",
      "Sandra Nitrini \n",
      "\n",
      "DOI: 10.11606/9788586748141 \n",
      "SANDRA NITRINI \n",
      "UM OLHAR SOBRE A LITERATURA \n",
      "COMPARADA NO BRASIL\n",
      "1 a edição \n",
      "São Paulo \n",
      "Instituto de Estudos Brasileiros – IEB/USP\n",
      "Associação Brasileira de Literatura Comparada – Abralic 2018\n",
      "\n",
      "UNIVERSIDADE DE SÃO PAULO \n",
      "Prof. Dr. Vahan Agopyan \n",
      "Prof. Dr. Antonio Carlos Hernandes\n",
      "reitor \n",
      "vice-reitor\n",
      "_ \n",
      "\u0003_ \n",
      "_\n",
      "Instituto de estudos brasileiros \n",
      "Prof.ª Dr.ª Sandra Margarida Nitrini \n",
      "Prof. Dr. Paulo Teixeira Iumatti\n",
      "diretora \n",
      "vice-diretor\n",
      "cadernos do ieb \n",
      "Um olhar sobre a literatura comparada no Brasil \n",
      "título \n",
      "autora \n",
      "Marcos Antonio de Moraes \n",
      "editor \n",
      "Pedro B. de Meneses Bolle \n",
      "Assistente editorial \n",
      "Eduardo Junqueira e Karine Tressler \n",
      "projeto gráfico \n",
      "Divisão Científico-Cultural \n",
      "\n",
      "chefe técnico \n",
      "difusão cultural \n",
      "Flavio Alves Machado \n",
      "diagramação \n",
      "Cleusa Conte Machado \n",
      "preparação e revisão de textos \n",
      "capa \n",
      "\n",
      "_DO IEB\n",
      "\n",
      "Copyright © 2018 by Instituto de Estudos Brasileiros - USP \n",
      "É permitida a reprodução parcial ou total desta obra, desde que citada a fonte e \n",
      "autoria, proibindo qualquer uso para fins comerciais. _ \n",
      "DADOS DE CATALOGAÇÃO NA PUBLICAÇÃO (CIP) \n",
      "Serviço de Biblioteca e Documentação do\n",
      "Instituto de Estudos Brasileiros da Universidade de São Paulo N731 Nitrini, Sandra \n",
      "Um olhar sobre a literatura comparada no Brasil [livro eletrônico] /\n",
      "Sandra Nitrini -- São Paulo : Instituto de Estudos Brasileiros : Abralic, 2018.\n",
      "58 p. (Cadernos do IEB, ISSN 2525-5959 ; v. 10, 2018) Bibliografia \n",
      "ISBN 978-85-86748-14-1\n",
      "DOI : 10.11606/9788586748141\n",
      "1. Literatura comparada. I. Título. II. Série. \n",
      "CDD 809 \n",
      "Bibliotecária responsável: Daniela Piantola (CRB-8/9171) Direitos reservados ao \n",
      "Instituto de Estudos Brasileiros – IEB-USP \n",
      "Espaço Brasiliana\n",
      "Avenida Professor Luciano Gualberto, 78\n",
      "Cidade Universitária - CEP: 05508-115\n",
      "São Paulo - SP, Brasil \n",
      "Difusão Cultural: Tel. (11) 3091-1149\n",
      "www.ieb.usp.br – e-mail: ieb@usp.br\n",
      "\n",
      "SUMÁRIO \n",
      "10 \n",
      "Cadernos do IEB \n",
      "11 \n",
      "Apresentação \n",
      "PRIMEIRAS DÉCADAS \n",
      "12 \n",
      "LITERATURAS ESTRANGEIRAS, \n",
      "LITERATURA BRASILEIRA E LITERATURA\n",
      "COMPARADA\n",
      "17 \n",
      "EXPANSÃO DA LITERATURA \n",
      "COMPARADA E CRIAÇÃO DA ABRALIC \n",
      "21 \n",
      "24 \n",
      "CONTEXTO DO COMPARATISMO \n",
      "BRASILEIRO\n",
      "26 \n",
      "POLÊMICA DOS ESTUDOS CULTURAIS \n",
      "27 \n",
      "IDENTIDADE DA LITERATURA \n",
      "30 \n",
      "O DISCURSO COMPARATISTA \n",
      "32 \n",
      "UMA AMOSTRA DAS PESQUISAS \n",
      "COMPARATISTAS DAS UNIVERSIDADES\n",
      "BRASILEIRAS\n",
      "34 \n",
      "Universidade Federal do Rio Grande do Sul \n",
      "\n",
      "35 \n",
      "Universidade do Estado do Rio de Janeiro \n",
      "37 \n",
      "Universidade Federal Fluminense \n",
      "38 \n",
      "Universidade Federal do Rio de Janeiro \n",
      "39 \n",
      "Universidade Federal de Minas Gerais \n",
      "41 \n",
      "Universidade Federal de Santa Catarina \n",
      "42 \n",
      "Universidade Federal do Paraná \n",
      "Universidade Federal da Bahia \n",
      "43 \n",
      "Universidade Federal da Paraíba \n",
      "44 \n",
      "Universidade Federal do Pará \n",
      "45 \n",
      "Universidade de São Paulo \n",
      "REFERÊNCIAS \n",
      "52 \n",
      "\n",
      "Série editorial concebida em 1997 pelo prof. dr. Murillo Marx, na época diretor do \n",
      "Instituto de Estudos Brasileiros, para a divulgação de “Cursos & conferências” e\n",
      "de “Instrumentos de pesquisa” produzidos em âmbito institucional, osCadernos \n",
      "do IEB, a partir de 2015, ampliaram o seu raio de abrangência, difundindo também \n",
      "estudos monográficos e documentação inédita resultante de investigações.\n",
      "Nesse mesmo ano, na sequência do sexto número, a coleção passou a integrar,\n",
      "no formatoonline , o Portal de Livros Abertos da USP, obtendo expressiva \n",
      "visibilidade, considerando-se o número de acessos verificados.\n",
      "A substanciosa matéria estampada nosCadernos do IEB , em sintonia com \n",
      "a perspectiva científica inter, multi e transdisciplinar do espaço acadêmico de\n",
      "integração idealizado pelo historiador Sérgio Buarque de Holanda, exibe a\n",
      "assinatura de docentes e técnicos do IEB, como também de especialistas das\n",
      "demais unidades da USP e de outras universidades. Tendo em vista as linhas de\n",
      "pesquisa do Programa de Pós-Graduação em “Culturas e identidades brasileiras”\n",
      "e as indagações teórico-metodológicas propostas pelo LabIEB – Laboratório\n",
      "Interdisciplinar do IEB, os livros da coleção tencionam colocar em pauta,\n",
      "em perspectiva crítica, aspectos da complexa realidade do Brasil, dos tempos\n",
      "coloniais à atualidade, na sua abrangente geografia e em seus vínculos, para além\n",
      "de suas fronteiras. Cultura erudita e popular, história, ciências sociais, economia,\n",
      "educação, artes visuais e música, literatura, educação, em complexas conexões,\n",
      "instigam debates e desdobramentos reflexivos, inclusive almejando diálogos com as ciências da natureza.\n",
      "Os estudos, inventários e textos de fonte primária inéditos submetidos aos\n",
      "Cadernos do IEBpara publicação escudam-se, no processo avaliativo previsto, \n",
      "em pareceres de mérito da Câmara Científica (CaC) da instituição, colegiado\n",
      "que congrega docentes de diversas áreas do conhecimento nas ciências humanas,\n",
      "literatura e nas artes. OsCadernos do IEB , assim como a Revista do Instituto \n",
      "de Estudos Brasileiros( RIEB ), afirmam-se como importantes instrumentos de \n",
      "propagação de saber produzido nas universidades.\n",
      "Editor\n",
      "\n",
      "_ Apresentação \n",
      "Recentemente, ao assistir à fala da professora Sandra Nitrini no Congresso da American \n",
      "Comparative Literature Association, na Universidade da Califórnia, em Los Angeles, fazendo um\n",
      "resumo em inglês sobre o histórico e o estado atual da Literatura Comparada em nosso país, não pude\n",
      "deixar de associá-la à rica tradição que a ACLA possui de produzir e discutir relatórios sobre o compa-\n",
      "ratismo. Harry Levin escreveu o de 1965, Thomas Greene, o de 1975, Charles Bernheimer, o de 1993.\n",
      "Mais recentemente, Haun Saussy, em vez de fazer sozinho o relatório, alterou radicalmente o formato\n",
      "anterior, produzindo um resultado multiautoral.\n",
      "Em Los Angeles, vieram-me à memória aqueles relatórios e a importância que tiveram ao trazer à\n",
      "baila informações, avaliações e propostas para a LC nos Estados Unidos. Percebi que o trabalho apre-\n",
      "sentado pela professora Sandra Nitrini tinha aquela mesma direção de sentido e o quanto seria impor-\n",
      "tante a publicação do texto completo, com todos os seus desdobramentos e informações importantes\n",
      "para a LC no Brasil. Para minha satisfação, e de todos os interessados nas questões do comparatismo,\n",
      "osCadernos do IEB agora colocam à disposição do público toda a extensão da pesquisa realizada. \n",
      "Em seu trabalho, como hipótese inicial, a professora Nitrini adota a perspectiva de que,\n",
      "embora já existissem manifestações anteriores, é fundamental para os estudiosos do compara-\n",
      "tismo no Brasil levar em conta o papel da instalação da LC como disciplina na USP, sob o influxo\n",
      "das ideias de Roger Bastide, reelaboradas por Antonio Candido. A autora defende, inclusive, que\n",
      "o enraizamento naquele grande centro formador explicaria uma certa aversão, por parte dos\n",
      "comparatistas uspianos, a uma série de modismos da vida intelectual, que foram adotados em\n",
      "outras universidades, principalmente nos anos 1970 e 1980.\n",
      "A partir da hipótese inicial, a autora chama a atenção para a relação fundadora do compara-\n",
      "tismo com as cadeiras de literaturas estrangeiras (principalmente a que ela mais de perto conhece:\n",
      "a de Literatura Francesa na USP) e com a literatura nacional, em tradução para outras línguas e em\n",
      "relação com outras literaturas. Depois, faz um percurso em que concilia dados históricos relevantes\n",
      "(como a criação da Abralic) com observações sobre a criação de um discurso comparatista brasileiro,\n",
      "chamando nossa atenção sobre alguns nomes importantes do passado, como Antonio Candido e\n",
      "Silviano Santiago, e do presente, como João Cezar de Castro Rocha. Finalmente, com o intuito de\n",
      "fornecer evidências empíricas sobre o comparatismo, a professora Nitrini apresenta uma amostra do\n",
      "que se faz nos programas de pós-graduação em nosso país.\n",
      "Pela importância desta publicação, o leitor interessado já deve ter notado que a melhor coisa a fazer\n",
      "é dedicar-se a ler este número especial dosCadernos do IEB , até porque a autora dispensa apresentações. Boa leitura! \n",
      "José Luís Jobim \n",
      "Presidente da Abralic (2004-2006)\n",
      "Coordenador do Programa de Pós-Graduação em\n",
      "Estudos da Literatura da UFF\n",
      "\n",
      "... não há “um” comparatismo \n",
      "literário, mas sim tantos\n",
      "comparatismos quantos são\n",
      "os países em que o comparatismo\n",
      "pôde (felizmente) consolidar-se.\n",
      "(Daniel-Henri Pageaux.\n",
      "“O comparatismo:\n",
      "entre tradição e inovação”)\n",
      "Primeiras décadas \n",
      "A maioria das universidades do Brasil surgiu no século XX. É o caso da Universidade de São \n",
      "Paulo, fundada em 1934, quando foi criada a Faculdade de Filosofia, Ciências e Letras, que\n",
      "contou nos seus primeiros anos com a colaboração de professores europeus, entre os quais\n",
      "Claude Lévi-Strauss e Roger Bastide. Este último foi o grande mestre do crítico e historiador\n",
      "da literatura brasileira Antonio Candido. Evocar essa relação de discípulo e mestre tem aqui\n",
      "sentido para se compreender as linhas de força da tradição dos estudos literários e, particu-\n",
      "larmente, da literatura comparada1 , inaugurados por Antonio Candido. \n",
      "No artigo “Sociologia e literatura comparada”2 , Roger Bastide propunha a reno- \n",
      "vação da LC mediante diálogos com a sociologia das interpenetrações de civilizações,\n",
      "regidas por leis, dentre as quais salienta a da imitação, que sempre parte do interior\n",
      "para o exterior, em franca adesão ao pensamento de Jean-Gabriel Tarde, o fundador\n",
      "da antropologia cultural. Bastide defendia ainda a aplicação da antropologia cultural\n",
      "à LC, ignorada pelos comparatistas franceses de então, encerrados, de acordo com\n",
      "ele, no seu âmbito intelectual. Para Bastide, era fundamental que a questão da LC\n",
      "fosse colocada no terreno da globalidade social.\n",
      "Provavelmente, essas ideias publicadas nos anos de 1950 entravam no circuito\n",
      "das discussões em torno da polêmica sobre as chamadas escola francesa e escola\n",
      "americana da LC. Mas o que interessa para a compreensão da LC no Brasil é que\n",
      "esta nasceu como disciplina em uma de suas instituições universitárias que seria um\n",
      "dos poucos centros formadores de mestres e doutores nos anos de 1970 e 1980, sob\n",
      "o influxo das ideias de Bastide, reelaboradas por Antonio Candido. Isso explicará\n",
      "\n",
      "1  Será utilizada, doravante, a abreviatura LC para substituir literatura comparada . \n",
      "2  BASTIDE, Roger. Sociologie et littérature comparée.Cahiers Internationaux de Sociologie , n. 17, juillet-dé- \n",
      "cembre, 1957, p. 93-100. Em tradução brasileira por Glória Carneiro do Amaral, o texto foi publicado na revista\n",
      "Literatura e Sociedade, n. 9, FFLCH/DTLLC, 2006, p. 264-269. Disponível em: <https://www.revistas.usp. \n",
      "br/ls/article/view/23589/25626>. Acesso em: 12 set. 2017. 12 \n",
      "\n",
      "futuramente a resistência dos departamentos de literatura da Universidade de São \n",
      "Paulo às teorias estruturalistas dos anos de 1970 e, também, aos estudos culturais, nos\n",
      "anos de 1990, embora hoje integrados em vários de seus programas de pós-graduação,\n",
      "como teremos a oportunidade de examinar mais adiante.\n",
      "A disciplina LC foi criada em 1940, por Tasso da Silveira, na Pontifícia\n",
      "Universidade Católica do Rio de Janeiro – PUC-Rio3 . Duas décadas depois surgiu \n",
      "em universidades públicas do Rio de Janeiro e de São Paulo nos cursos de Letras,\n",
      "por iniciativa, respectivamente, de La-Fayette Côrtes4 e de Antonio Candido. \n",
      "Mas seu grande impulso ocorre nos anos de 1970, com a produção universitária\n",
      "dos cursos de pós-graduação, tanto no âmbito da disciplina Teoria Literária e\n",
      "Literatura Comparada como no das literaturas estrangeiras da Universidade de São\n",
      "Paulo e de programas de outras universidades, como os da Pontifícia Universidade\n",
      "Católica – PUC de São Paulo, da Universidade Federal de Minas Gerais (UFMG),\n",
      "da Universidade do Estado do Rio de Janeiro (UERJ) e da Universidade Federal do\n",
      "Rio de Janeiro – UFRJ. Ressalte-se a publicação, nos anos de 1970, do artigo sucinto,\n",
      "porém esclarecedor, sobre o comparatismo: “Conceitos e vantagens da literatura\n",
      "Comparada”, de Afrânio Coutinho5 . \n",
      "Nessa época, tomou corpo junto à disciplina de língua e literatura francesas da\n",
      "Faculdade de Filosofia, Letras e Ciências Humanas – FFLCH da USP o projeto\n",
      "Léryy-Assu6 , dirigido pela professora Leyla Perrone-Moisés, cujo objeto central era \n",
      "o estudo das marcas da França na literatura brasileira. Esse projeto foi implantado\n",
      "no Programa de Pós-Graduação de Língua e Literatura Francesas da FFLCH da\n",
      "USP, em 1978. Conjugou a teoria da intertextualidade com a da antropofagia brasi-\n",
      "leira como um caminho para se estudar as relações culturais e literárias entre Brasil\n",
      "e França. Finalizado em 1990, esse projeto concretizou-se nas seguintes dissertações\n",
      "de mestrado e teses de doutorado:A miragem gálica. Presença literária francesa na \n",
      "Revista da Sociedade Filomática, de Gilberto Pinheiro Passos7 ; Presença literária \n",
      "\n",
      "3  Algumas informações sobre a história da Literatura Comparada no Brasil foram retomadas de meu livro \n",
      "Literatura comparada– história, teoria e crítica. São Paulo: Hucitec, 1987. (Terceira edição:2010). \n",
      "4  Em 1939 La-Fayette Côrtes organizou a Faculdade de Filosofia, Ciências e Letras, que começou a funcionar em\n",
      "1942 e que pode ser considerada o embrião da futura Universidade do Estado do Rio de Janeiro.\n",
      "5  COUTINHO, Afrânio. Conceitos e vantagens da literatura comparada.Boletim Ariel , Rio de Janeiro, n. 13, v. \n",
      "II, jan.-fev. 1976. Esse artigo foi incluído no livro que reúne ensaios do autor:O processo de descolonização \n",
      "literária. Rio de Janeiro: Civilização Brasileira, 1983, p. 153-157. Afrânio Coutinho criou a cadeira de Teoria \n",
      "e Técnica Literária, primeira iniciativa do gênero no Brasil, em 1951. A partir de 1958, tornou-se professor da\n",
      "Faculdade de Letras da UFRJ, onde atuou até 1980, quando se aposentou. Cf. ABL – Academia Brasileira de\n",
      "Letras. Biografia. Disponível em: <http://www.academia.org.br/academicos/afranio-coutinho/biografia>. Acesso em: 11 maio 2018.\n",
      "6  Esse projeto foi assim denominado para indicar seu espírito de “antropofagia cultural”. “Quando Jean de Léry\n",
      "entrou em contato com os índios, no século XVI, esses brasileiros lhe perguntaram seu nome e, quando ele\n",
      "o deu, os indígenas imediatamente o rebatizaram em língua tupi Léryy Assu, que quer dizer ‘Grande Ostra’”,\n",
      "esclarece Leyla Perrone-Moisés em entrevista a Eloisa N. Silveira.Jornal da Tarde . São Paulo, Caderno de \n",
      "Programas e Leituras, 8 de maio de 1982.\n",
      "7  PASSOS, Gilberto Pinheiro. Presença literária francesa naRevista da Sociedade Filomática . Dissertação 13 \n",
      "\n",
      "francesa na Gazeta Literária (1883-1884) , de Celso Martinez Perez 8 ; Academia \n",
      "Brasileira de Letras – nacionalismo à francesa, de Rena Signer 9 ; Banco de dados do \n",
      "projeto Léryy-Assu: presença da cultura francesa na historiografialiterária brasi- \n",
      "leira, de Helena Bonito Couto Pereira 10 ; Presença da literatura francesa na Revista \n",
      "Brasileira(1879-1881) , de Maria Luiza Atik 11 ; Referências francesas na polêmica \n",
      "Alencar xNabuco , de José Maria de Lima 12 ; As marcas da França nos romances de \n",
      "Adolfo Caminha, Maria Letícia Guedes Alcoforado 13 ; A poética do legado. O inter- \n",
      "texto francêsem Memórias póstumas de Brás Cubas, de Gilberto Pinheiro Passos 14 ; \n",
      "Aclimatando Baudelaire: o baudelairianismo brasileiro de 1870-1900, de Glória \n",
      "Carneiro do Amaral15 ; e Ceticismo e responsabilidade. Gide e Montaigne na obra \n",
      "crítica de Sérgio Milliet, de Regina Salgado Campos 16 . \n",
      "Opondo-se, então, à LC tradicional que considerava as obras feitas, o alvo de\n",
      "Projeto “Léryy Assu” era colocar ênfase no processo de transformação dos textos. Daí\n",
      "a adequação da intertextualidade como um dos seus pressupostos. Por outro lado,\n",
      "essa teoria permitia uma visão antropofágica da literatura brasileira. Àquela altura,\n",
      "segundo Leyla Perrone-Moisés, a antropofagia era “a única teoria estética vigente no\n",
      "Brasil”. Talvez, hoje, ela não seja a única vigente, mas com certeza mantém ainda seu\n",
      "prestígio e pertinência para a compreensão da realidade brasileira, uma vez adaptada aos nossos tempos.\n",
      "Tal iniciativa se transformou ao longo desses quase 40 anos e se mantém hoje\n",
      "como Grupo de Pesquisa Brasil-França (Grupebraf) do Instituto de Estudos\n",
      "Avançados (IEA) da Universidade de São Paulo, com uma respeitável contribuição\n",
      "para os estudos das relações literárias e culturais entre Brasil e França, cultivados de\n",
      "\n",
      "(Mestrado em Letras). Faculdade de Filosofia, Letras e Ciências Humanas, Universidade de São Paulo, 1983. \n",
      "8  PEREZ, Celso Martinez.Presença literária francesa na Gazeta Literária (1883-1884) . Dissertação (Mestrado \n",
      "em Letras). Faculdade de Filosofia, Letras e Ciências Humanas, Universidade de São Paulo, 1986.\n",
      "9  SIGNER, Rena. Academia Brasileira de Letras: nacionalismo à francesa. 1988. Dissertação (Mestrado em\n",
      "Letras). Faculdade de Filosofia, Letras e Ciências Humanas, Universidade de São Paulo, 1988.\n",
      "10  PEREIRA, Helena Bonito Couto. Dissertação (Mestrado em Letras).Banco de dados do Projeto Lérry-Assu: \n",
      "presença da cultura francesa na historiografia literária brasileira. Dissertação (Mestrado em Letras). Faculdade \n",
      "de Filosofia, Letras e Ciências Humanas, Universidade de São Paulo, 1989.\n",
      "11  ATIK, Maria Luiza.A presença da cultura francesa na Revista Brasileira (1879-1881) . Dissertação (Mestrado em \n",
      "Letras). Faculdade de Filosofia, Letras e Ciências Humanas, Universidade de São Paulo, 1989.\n",
      "12  LIMA, José Maria de.Referências francesas na polêmica Alencar x Nabuco . Dissertação (Mestrado em \n",
      "Letras). Faculdade de Filosofia, Letras e Ciências Humanas, Universidade de São Paulo, 1990.\n",
      "13  ALCOFORADO, Maria Letícia Guedes.As marcas da França nos romances de Adolfo Caminha . \n",
      "Dissertação (Doutorado em Letras). Faculdade de Filosofia, Letras e Ciências Humanas, Universidade de São Paulo, 1982.\n",
      "14  PASSOS, Gilberto Pinheiro.A poética do legado: O intertexto francês em Memórias póstumas de Brás \n",
      "Cubas. Tese (Doutorado em Letras). Faculdade de Filosofia, Letras e Ciências Humanas, Universidade de São Paulo, 1988.\n",
      "15  AMARAL, Glória Carneiro do.Aclimatando Baudelaire – o baudelairianismo brasileiro de 1870 a 1900. Tese \n",
      "(Doutorado em Letras). Faculdade de Filosofia, Letras e Ciências Humanas, Universidade de São Paulo, 1989.\n",
      "16  CAMPOS, Regina Maria Salgado.Gide e Montaigne na obra crítica de Sérgio Milliet. Tese (Doutorado em Letras). \n",
      "Faculdade de Filosofia, Letras e Ciências Humanas, Universidade de São Paulo, 1996. 14 \n",
      "\n",
      "modo sistemático pelos pesquisadores formados por Leyla Perrone-Moisés e por \n",
      "estudiosos por ela convidados, advindos das áreas de Literatura Francesa, Literatura\n",
      "Brasileira e de Teoria Literária e Literatura Comparada, para participarem desse\n",
      "projeto integrado de pesquisa, pioneiro nos estudos comparatistas brasileiros.\n",
      "Dentre os livros desses projetos publicados, incluindo-se os dos pesquisadores\n",
      "associados ao Grupebraf, nos últimos 30 anos, citam-se, a partir do critério de\n",
      "pesquisa de fôlego de uma única autoria, os de Gilberto Pinheiro Passos (A poética \n",
      "do legado: presença francesa emMemórias póstumas de Brás Cubas 17 ; As sugestões \n",
      "do conselheiro – A França em Machado de Assis:Esaú e Jacó e Memorial de Aires 18 ; \n",
      "O Napoleão de Botafogo – Presença francesa emQuincas Borba de Machado de \n",
      "Assis19 ; Capitu e a mulher fatal – análise da presença francesa em Dom Casmurro 20 ; \n",
      "Cintilações francesas: Revista da Sociedade Filomática, Machado de Assis e\n",
      "José de Alencar21 ); de Glória Carneiro do Amaral ( Aclimatando Baudelaire 22 ; \n",
      "Navette literária França-Brasil – a crítica de Roger Bastide23 ); de Maria Luiza \n",
      "Atik (Vicente do Rego Monteiro: um brasileiro na França 24 ); de Regina Salgado \n",
      "Campos (Ceticismo e responsabilidade: Gide e Montaigne na obra crítica de Sérgio \n",
      "Milliet25 ); de Antonio Dimas ( Bilac, o jornalista 26 ); de João Roberto Faria ( José de \n",
      "Alencar e o teatro27 ; O teatro realista no Brasil: 1855-1865 28 ; Ideias teatrais: o século \n",
      "XIX no Brasil29 ); de Maria Cecília Moraes Pinto ( A vida selvagem: paralelo entre \n",
      "\n",
      "17  PASSOS, Gilberto Pinheiro. A poética do legado: presença francesa em Memórias póstumas de Brás Cubas . São Paulo: Annablume, 1996.\n",
      "18  Idem.As sugestões do conselheiro – A França em Machado de Assis: Esaú e Jacó e Memorial de Aires . São \n",
      "Paulo: Annablume, 1996; São Paulo: Nankin, 2008.\n",
      "19  Idem.O Napoleão de Botafogo – Presença francesa em Quincas Borba de Machado de Assis. São Paulo: Annablume, 2000.\n",
      "20  Idem.Capitu e a mulher fatal – análise da presença francesa em Dom Casmurro . São Paulo: Annablume, 2003.\n",
      "21  Idem.Cintilações francesas – Revista da Sociedade Filomática , Machado de Assis e José de Alencar. São Paulo: Nankin, 2006.\n",
      "22  AMARAL, Glória Carneiro do.Aclimatando Baudelaire. São Paulo: Annablume, 1996. \n",
      "23  Idem.Navette literária França-Brasil – a crítica de Roger Bastide. São Paulo: Edusp, 2010, Tomo I. O tomo II, \n",
      "Textos de crítica literária de Roger Bastide, que reúne mais de 200 artigos de Roger Bastide, escritos entre \n",
      "1920 e 1974, sob sua organização, foi publicado na mesma ocasião, reunidos numa caixa.\n",
      "24  ATIK, Maria Luiza.Vicente do Rego Monteiro: um brasileiro na França. São Paulo: Editora Mackenzie, 2004. \n",
      "25  CAMPOS, Regina Salgado.Ceticismo e responsabilidade: Gide e Montaigne na obra crítica de Sérgio \n",
      "Milliet. São Paulo: Annablume, 1996.\n",
      "26  DIMAS, Antonio.Bilac, o jornalista. São Paulo: Edusp , Imprensa Oficial, Editora da Unicamp, 2006. 3 v. \n",
      "O primeiro volume reúne ensaios de Antonio Dimas, o segundo e o terceiro reúnem crônicas de Olavo Bilac.\n",
      "27  FARIA, João Roberto.José de Alencar e o teatro . São Paulo: Perspectiva/Edusp, 1987. \n",
      "28  Idem.O teatro realista no Brasil: 1855-1865. São Paulo: Perspectiva, 1993. \n",
      "29  Idem.Ideias teatrais – o século XIX no Brasil. São Paulo: Perspectiva/Fapesp, 2001. 15 \n",
      "\n",
      "Chateaubriand e Alencar 30 ; Alencar e a França. Perfis 31 ); de Sandra Nitrini ( Nove, novena e o novo romance32 ). \n",
      "Teses orientadas por pesquisadores acima mencionados também resultaram\n",
      "em publicações, como é o caso deBaú de madeleines (o intertexto proustiano nas \n",
      "memórias de Pedro Nava), de Maria do Carmo Savietto 33 ; Lúcio Cardoso e Julien \n",
      "Green: trangressão e culpa, de Teresa de Almeida 34 ; La terre. Paradoxos de uma \n",
      "recepção crítica, de Ana Luiza Ramazzina Ghirardi 35 ; De borboletas e colibris em \n",
      "sobrevoo (presença francesa nas crônicas machadianas), de Dirceu Magri 36 ; e A \n",
      "França em contos de Mário de Andrade, de Valter César Pinheiro 37 , dentre outros. \n",
      "Outros livros foram publicados,reunindo artigos de vários autores : Aquém e \n",
      "além mar: relações culturais Brasil e França(organização de Sandra Nitrini) 38 ; Do \n",
      "positivismo à desconstrução – ideias francesas na América(organização de Leyla \n",
      "Perrone-Moisés39 ); Cinco séculos de presença francesa no Brasil 40 (também sob a \n",
      "organização de Leyla Perrone-Moisés);e Brasil-França – intermediações literá- \n",
      "rias, reunião de artigos de Helena Bonito Couto Pereira e de Maria Luiza Guarnieri \n",
      "Atik41 . E muitos outros ensaios e artigos publicados em jornais, revistas e em livros \n",
      "organizados. Ainda por iniciativa desses pesquisadores foram traduzidos os livros\n",
      "de Pierre Rivas:Encontro entre literaturas (França-Portugal-Brasil) 42 e Diálogos interculturais43 . \n",
      "\n",
      "30  PINTO, Maria Cecília Moraes. A vida selvagem: paralelo entre Chateaubriand e Alencar. São Paulo: Annablume, 1995.\n",
      "31  Idem.Alencar e a França – Perfis. São Paulo: Annablume, 1999. \n",
      "32  NITRINI, Sandra. Poéticas em confronto –Nove, novena e o novo romance. São Paulo: Hucitec/INL, 1987. \n",
      "33  SAVIETTO, Maria do Carmo.Baú de madeleines – o intertexto proustiano nas Memórias de Pedro Nava. São Paulo: Nankin, 1998.\n",
      "34  ALMEIDA, Teresa de.Lúcio Cardoso e Julien Green – transgressão e culpa . São Paulo: Edusp, 2009, \n",
      "35  GHIRARDI, Ana Luiza Ramazzina.La terre: paradoxos de uma recepção crítica. São Paulo: Editora da Unifesp, 2014.\n",
      "36  MAGRI, Dirceu.De borboletas e colibris em sobrevoo – presença francesa nas crônicas machadianas. São Paulo: Fap-Unifesp, 2016\n",
      "37PINHEIRO, Valter César. A França em contos de Mário de Andrade . São Cristóvão: UFS, 2014.\n",
      "38  NITRINI, Sandra (Org.).Aquém e além mar – relações culturais Brasil e França. São Paulo: Hucitec, 2000 \n",
      "39  PERRONE-MOISÉS, Leyla (Org.).Do positivismo à desconstrução – ideias francesas na América. São Paulo: Edusp, 2004.\n",
      "40  Idem (Org.).Cinco séculos de presença francesa no Brasil . São Paulo: Edusp, 2013. \n",
      "41  PEREIRA, Helena Bonito Couto; ATIK, Maria Luiza Guarnieri.Brasil-França – intermediações literárias . São Paulo: Scortecci, 2005.\n",
      "42  RIVAS, Pierre.Encontro entre literaturas – França-Portugal-Brasil. São Paulo: Hucitec, 1995. \n",
      "43  Idem.Diálogos interculturais. São Paulo: Hucitec, 2005. 16 \n",
      "\n",
      "Literaturas estrangeiras, literatura \n",
      "brasileira e literatura comparada\n",
      "Esse projeto, nas suas duas fases – Léryy-Assu e Grupo de Pesquisa Brasil-França –, é \n",
      "emblemático da contribuição de estudiosos de línguas e literaturas estrangeiras\n",
      "para a LC no Brasil. No artigo “Literatura comparada e literaturas estrangeiras no\n",
      "Brasil”, Tania Franco Carvalhal chama a atenção para a inclinação de “estudiosos de\n",
      "línguas estrangeiras no Brasil para estudos que propiciem um aproveitamento simul-\n",
      "tâneo de dois campos de trabalho: o da literatura brasileira (que integra a formação\n",
      "do pesquisador brasileiro) e o da literatura estrangeira, na qual ele se especializa”44 . \n",
      "Nesse artigo são elencados alguns trabalhos comparatistas apresentados nas univer-\n",
      "sidades brasileiras nos anos de 1990 por especialistas em literaturas estrangeiras, que\n",
      "versam sobre a recepção de Proust no Brasil, de Maria Marta Laus Pereira Oliveira45 , \n",
      "e sobre a leitura de intertextos franceses no simbolismo sul-rio-grandense, de Maria\n",
      "Luiza Berwanger Silva46 (ambos na Universidade Federal do Rio Grande do Sul); \n",
      "sobre os viajantes anglo-americanos no Brasil do século XIX, de Ana Lúcia Gazolla47 \n",
      "(Universidade Federal de Minas Gerais); estudos de recepção literária de Joyce no\n",
      "Brasil, de Munira Mutran48 (Universidade de São Paulo); e outros, entre os quais \n",
      "alguns voltados para as relações culturais França-Brasil, na Universidade de São\n",
      "Paulo, a saber, “Osman Lins, marinheiro de primeira viagem”, de Sandra Nitrini;\n",
      "“Bilac em Paris”, de Antonio Dimas; “Veredas do indianismo: a contribuição de\n",
      "Denis”, de Maria Cecília de Moraes Pinto; e “Leituras francesas de Manuel Bandeira”,\n",
      "de Davi Arrigucci Jr.49 , publicados no número 1 da Coleção Documentos, da série \n",
      "Estudos Brasil-França sobre asRelações culturais França-Brasil: influências e \n",
      "convergências50 , organizado por Leyla Perrone-Moisés. \n",
      "Essa tendência assinalada por Tania Franco Carvalhal ampliou-se no que se\n",
      "refere não só a estudos de poéticas comparadas de autores brasileiros e estrangeiros,\n",
      "numa perspectiva crítica, como também aos de recepção de escritores estrangeiros\n",
      "\n",
      "44  CARVALHAL, Tania Franco. Literatura comparada e literaturas estrangeiras no Brasil. Revista Brasileira \n",
      "de Literatura Comparada, v. 3, n. 3, 1996, p. 56. Disponível em: <revista.abralic.org.br/index.php/revista/ \n",
      "article/view/36/37>. Acesso em: 13 set. 2017.\n",
      "45  Tese de doutorado,A recepção crítica da obra de Marcel Proust no Brasil, defendida na Universidade \n",
      "Federal do Rio Grande do Sul, em 1993.\n",
      "46  Autora, dentre outros livros, dePaisagens reinventadas – traços franceses no simbolismo sul-rio-grandense. \n",
      "Porto Alegre: Editora da Universidade do Rio Grande do Sul, 1999.\n",
      "47  Autora, dentre outros livros, deMulheres à deriva: viajantes anglo-americanas no Brasil . Belo Horizonte: Napq/ Fale, 1995.\n",
      "48  MUTRAN, Munira. A recepção de Joyce no Brasil. In: NESTROVSKI, Arthur (Org.).Riverrun – ensaios \n",
      "sobre James Joyce.Rio de Janeiro: Imago, 1992, p. 427-448. \n",
      "49  Autor, dentre outros livros, deHumildade, paixão e morte – A poesia de Manuel Bandeira . São Paulo: Companhia das Letras, 2003.\n",
      "50  PERRONE-MOISÉS, Leyla (Org.).Relações culturais França-Brasil: influências e convergências. São \n",
      "Paulo: IEA, 1991. (Coleção Documentos. Série Estudos Brasil-França). 17 \n",
      "\n",
      "no Brasil, além evidentemente dos estudos de tradução, renovados com o suporte das \n",
      "novas teorias surgidas a partir dos anos de 1980.\n",
      "No que concerne a esses dois últimos campos, surgem cada vez mais projetos\n",
      "voltados para os estudos de tradução e de recepção crítica de obras brasileiras, no\n",
      "exterior, por pesquisadores brasileiros, o que era inexistente no passado. Remeto,\n",
      "de modo especial, às linhas de pesquisa voltadas para os estudos de tradução e de\n",
      "recepção de obras brasileiras na Alemanha, na Inglaterra, na Espanha e na Itália dos\n",
      "programas de pós-graduação das áreas de línguas e literaturas alemãs, inglesas, espa-\n",
      "nholas e italianas do Departamento de Letras Modernas da FFLCH da USP51 , bem \n",
      "como às linhas de pesquisa das áreas de concentração das universidades públicas a\n",
      "serem expostas mais adiante. De modo que começa a se solidificar o interesse por\n",
      "estudos sobre a presença do Brasil no exterior. Ilustrativo desse interesse é o número\n",
      "15 daRevista Brasileira de Literatura Comparada , publicado em 2009, que abriu \n",
      "“um espaço para a discussão dos diferentes lugares e dinâmicas de estudo da literatura\n",
      "brasileira fora do Brasil, bem como o deslocamento da posição ocupada pelo Brasil\n",
      "no cenário político e econômico mundial das duas últimas décadas”52 , nas palavras de \n",
      "Luís Bueno e Mauricio Cardozo, editores desse volume. Leiam-se especialmente os\n",
      "artigos “Os estudos de língua e literatura brasileiras no contexto dos estudos portu-\n",
      "gueses e latino-americanos na Alemanha”, de Ligia Chiappini53 ; “A imagem do Brasil \n",
      "e a literatura brasileira na Hungria”, de Ferenc Pál54 ; e “Tempos e contextos da litera- \n",
      "tura brasileira na Argentina e no exterior”, de Florencia Garramuño55 . \n",
      "Ainda para ilustrar o interesse de pesquisadores brasileiros pelos estudos de\n",
      "recepção da literatura brasileira no estrangeiro, cabe citar as teses de doutorado,\n",
      "defendidas no Departamento de Teoria Literária e Literatura Comparada da USP,\n",
      "\n",
      "51  Ver: USP – Universidade de São Paulo. Faculdade de Filosofia, Letras e Ciências Humanas. Departamento \n",
      "de Letras Modernas. Área/Programa de Língua e Literatura Alemã. Disponível em: <www.dlm.fflch.\n",
      "usp.br/alemao>; USP – Universidade de São Paulo. Faculdade de Filosofia, Letras e Ciências Humanas.\n",
      "Departamento de Letras Modernas. Área de Estudos Linguísticos e Literários em Inglês. Disponível\n",
      "em: <www.dlm.fflch.usp.br/ingles>; USP – Universidade de São Paulo. Faculdade de Filosofia, Letras e\n",
      "Ciências Humanas. Departamento de Letras Modernas. Área de Língua e Literatura Italiana. Disponível\n",
      "em: <www.dlm.fflch.usp.br/italiano; USP – Universidade de São Paulo. Faculdade de Filosofia, Letras e\n",
      "Ciências Humanas. Departamento de Letras Modernas. Área/Programa de Língua Espanhola e Literaturas\n",
      "Espanhola e Hispano-americana. Disponível em: <www.dlme.fflch.usp.br/espanhol>. Acesso em: 21 nov. 2016.\n",
      "52  BUENO, Luís; CARDOZO. Apresentação.Revista Brasileira de Literatura Comparada , v. 11, n. 15, 2009, p. \n",
      "7-8. Disponível em: <revista.abralic.org.br/index.php/revista/article/view/226/230>. Acesso em: 18 set. 2017.\n",
      "53  CHIAPPINI, Ligia. Os estudos de língua e literatura brasileiras no contexto dos estudos portugueses e latino\n",
      "-americanos na Alemanha.Revista Brasileira de Literatura Comparada , v. 11, n. 15, 2009, p. 9-24. Disponível \n",
      "em: <revista.abralic.org.br/index.php/revista/article/view/227/231>. Acesso em: 18 set. 2017.\n",
      "54  PÁL, Ferenc. A imagem do Brasil e a literatura brasileira na Hungria.Revista Brasileira de Literatura \n",
      "Comparada, v. 11, n. 15, 2009, p. 25-48. Disponível em: <revista.abralic.org.br/index.php/revista/article/ \n",
      "view/228/232>. Acesso em: 18 set. 2017.\n",
      "55  GARRAMUÑO, Florencia. Tempos e contextos da literatura brasileira na Argentina e no exterior.Revista \n",
      "Brasileira de Literatura Comparada, v. 11, n. 15, 2009, p. 49-60. Disponível em: <revista.abralic.org.br/index. \n",
      "php/revista/article/view/229/233>. Acesso em: 18 set. 2017. 18 \n",
      "\n",
      "Poética da tradução e recepção estética de Nove, novena, na França e na Alemanha , \n",
      "de Gaby Friess Kirsch56 , em 1999, e de Maria Cláudia Rodrigues Alves, Rubem \n",
      "Fonseca na França57 , em 2006. \n",
      "No entanto, é preciso reconhecer também que muitos especialistas em literatura\n",
      "brasileira são levados a fazerem trabalhos de LC a partir de seu objeto de estudo. Isso\n",
      "se explica pela própria formação da literatura brasileira, que não escapa das leis que\n",
      "regem as relações entre literaturas. Como nos ensina a teoria dos polissistemas, as\n",
      "literaturas em formação estão necessariamente abertas às interferências de outras,\n",
      "sejam as das ex-metrópoles, sejam as dos países econômica e culturalmente hegemô-\n",
      "nicos. É o caso da literatura brasileira do século XIX, por exemplo, que sofreu um\n",
      "influxo considerável da literatura francesa, ou mesmo de outras literaturas, interme-\n",
      "diadas sobretudo por traduções francesas, depois de sua independência de Portugal.\n",
      "Por outro lado, a literatura brasileira dos séculos XX e XXI tem sido objeto de estudos\n",
      "na perspectiva da LC, nas suas vertentes atuais, marcadas por estudos de relações\n",
      "interdisciplinares, interartes, intermídias e multiculturalismo e outras literaturas.\n",
      "Em suma, embora no Brasil haja departamentos de teoria literária e literatura\n",
      "comparada, as pesquisas nesse campo não se restringem a eles. A LC é cultivada nos\n",
      "departamentos de línguas estrangeiras e também por pesquisadores de literatura\n",
      "brasileira assim como por especialistas em literatura portuguesa e literaturas afri-\n",
      "canas de expressão em língua portuguesa.\n",
      "Uma das linhas de pesquisa do programa de pós-graduação de literatura brasileira\n",
      "da USP é “Literatura, as demais artes e outras áreas de conhecimento”, descrita como\n",
      "“estudos interdisciplinares que articulam as relações entre a literatura, a psicanálise,\n",
      "a música, o teatro e os meios audiovisuais. Teorias e abordagens da crítica cultural”58 . \n",
      "Ressalte-se ainda o programa de Estudos Comparados de Literaturas de Língua\n",
      "Portuguesa da Universidade de São Paulo, que tem por objetivo ampliar e divulgar\n",
      "estudos culturais e literários desenvolvidos no âmbito da língua portuguesa, privi-\n",
      "legiando as produções artísticas brasileira, angolana, cabo-verdiana, guineense,\n",
      "portuguesa, moçambicana, santomense e timonense. Criado na década de 1990, esse\n",
      "campo de estudos, nas palavras de um de seus idealizadores, surgiu da necessidade\n",
      "política de se fazer face às assimetrias dos fluxos culturais hegemônicos e de se esta-\n",
      "belecer laços comunitários supranacionais, à semelhança dos blocos econômicos,\n",
      "para se mostrar um rosto diferenciado diante da unilateralidade desses processos\n",
      "hegemônicos. Esse campo de estudos tem-se ampliado para além da língua portu-\n",
      "guesa, abarcando também outros campos disciplinares, artísticos e mesmo não\n",
      "\n",
      "56  KIRSCH, Gaby Friess. Poética da tradução e recepção estética de Nove, novena, na França e na Alemanha . \n",
      "Tese (Doutorado em Letras). Faculdade de Filosofia, Letras e Ciências Humanas, Universidade de São Paulo, 1999.\n",
      "57  ALVES, Maria Cláudia Rodrigues.Rubem Fonseca na França . Tese (Doutorado em Letras). Faculdade de \n",
      "Filosofia, Letras e Ciências Humanas, Universidade de São Paulo, 2006.\n",
      "58  USP – Universidade de São Paulo. Faculdade de Filosofia, Letras e Ciências Humanas. Programa de\n",
      "Pós-Graduação Literatura Brasileira. Disponível em: <literaturabrasileira.fflch.usp.br/node/62>. Acesso em: 21 nov. 2016.\n",
      "19 \n",
      "\n",
      "artísticos, sempre num sentido comunitário supranacional, tematicamente envol- \n",
      "vendo questões políticas, sociais, culturais, de gênero etc. Do ponto de vista político,\n",
      "são envolvidas não apenas as produções literárias entre os países ou regiões de língua\n",
      "portuguesa (Brasil, Portugal, Angola, Moçambique, Cabo Verde, Guiné-Bissau, São\n",
      "Tomé e Príncipe, Timor Leste, Goa e Macau), mas também questões de gêneros e\n",
      "étnicas entre esses territórios e também entre eles e as produções dos países hege-\n",
      "mônicos, embaladas pelo sentido de defesa de articulações democráticas suprana-\n",
      "cionais59 . Da produção bibliográfica no âmbito desse campo de pesquisa, remeto aos \n",
      "dois últimos livros de Benjamin Abdala Junior –Literatura, história e política 60 e \n",
      "Literatura comparada e relações comunitárias, hoje61 – e a algumas teses, orien- \n",
      "tadas por ele, que foram publicadas:Um obscuro encanto: gnose, gnosticismo e \n",
      "poesia moderna, de Claudio Willer 62 ; A escrita nômade do presente: literaturas de \n",
      "língua portuguesa, de Vera Maquea 63 ; e Representações do intelectual: um estudo \n",
      "sobreMayombe e Kikia Matcho , de Jorge Otinta 64 . Ainda dentro desse programa \n",
      "de estudos comparados, cabe citar as contribuições de Rita Chaves e Tania Macêdo,\n",
      "com seus livros, dentre outros, respectivamente,A formação do romance angolano 65 \n",
      "eAngola e Brasil – estudos comparados 66 . \n",
      "O Programa de Pós-Graduação de Literatura Portuguesa da USP também apre-\n",
      "senta linha de pesquisa no âmbito da LC – Textos. Contextos. Intertextos –, voltada\n",
      "para estudos da produção e recepção da literatura portuguesa em suas relações dialó-\n",
      "gicas com o contexto, bem como com outros sistemas semióticos e discursivos. Essa\n",
      "linha agrupa projetos de transdisciplinaridade, na medida em que estabelece rela-\n",
      "ções com outros campos do saber, como a história, a filosofia, a música, a arquitetura,\n",
      "a ética, as artes plásticas, a psicanálise, a imagologia, as relações internacionais, bem\n",
      "como com literaturas de outras expressões: neolatinas, anglo-saxônicas, orientais67 . \n",
      "Por outro lado, não se pode negar que as primeiras teses comparatistas defen-\n",
      "didas na universidade brasileira, mais especificamente, na Universidade de São\n",
      "Paulo, a partir dos anos de 1970, mesmo quando apresentadas no Departamento de\n",
      "Teoria Literária e Literatura Comparada, são de autoria de especialistas em línguas\n",
      "\n",
      "59  Informações que me foram passadas por Benjamin Abdala Junior. \n",
      "60  ABDALA JUNIOR, Benjamin.Literatura, história e política – literaturas de língua portuguesa no século \n",
      "XX. 3. ed. Cotia, Ateliê Editorial, 2016.\n",
      "61  Idem.Literatura comparada e relações comunitárias, hoje . Cotia, Ateliê, 2012. \n",
      "62  WILLER, Claudio.Um obscuro encanto: gnose, gnosticismo e poesia moderna. Rio de Janeiro: Civilização Brasileira, 2010.\n",
      "63  MAQUEA, Vera.A escrita nômade do presente: literaturas de língua portuguesa. São Paulo, Arte&Ciência, 2010,\n",
      "64  OTINTA, Jorge.Representações do intelectual: um estudo sobre Mayombe e Kikia Matcho . Curitiba: CRV, 2012.\n",
      "65  CHAVES, Rita.A formação do romance angolano . São Paulo: Via Atlântica/Fundo Bibliográfico de Língua Portuguesa, 1999.\n",
      "66  MACÊDO, Tania.Angola e Brasil – estudos comparados. São Paulo: ArteCiência/Via Atlântica,2002 \n",
      "67  USP – Universidade de São Paulo. Faculdade de Filosofia, Letras e Ciências Humanas. Programa de\n",
      "Pós-Graduação de Literatura Portuguesa. Disponível em: <lppos.fflch.usp.br>. Acesso em: 20 nov. 2016. 20 \n",
      "\n",
      "estrangeiras: Keera Steven, da área de inglês, sobre viajantes ingleses em Portugal; \n",
      "Carla de Queiroz, da área de italiano, sobre Metastásio e árcades brasileiros; Marion\n",
      "Fleischer, da área de alemão, sobre obras publicadas em alemão no Rio Grande do\n",
      "Sul; Onédia Barbosa, da área de inglês, sobre as traduções de Byron no Brasil; e Maria\n",
      "Alice Faria, da área de francês, sobre Musset e Álvares de Azevedo.\n",
      "Expansão da literatura comparada e criação da \n",
      "Abralic\n",
      "O contexto dos anos de 1970 e de 1980, marcado pela expansão de cursos de pós- \n",
      "graduação nas universidades brasileiras, favoreceu a criação da Associação Brasileira\n",
      "de Literatura Comparada – Abralic em 1986, durante o I Seminário Latino-\n",
      "Americano de Literatura Comparada, realizado na Universidade Federal do Rio\n",
      "Grande do Sul. Trata-se de dois acontecimentos importantes, porque marcam uma\n",
      "abertura para um diálogo institucional entre pesquisadores e intelectuais da América\n",
      "Latina, por iniciativa de brasileiros, até então praticamente inexistente nessa escala,\n",
      "e o início da realização efetiva de um projeto que congregasse as diferentes universi-\n",
      "dades brasileiras para um diálogo acadêmico entre si, com perspectiva de abertura\n",
      "para universidades de outros países, como tem ocorrido desde então. Cabe lembrar\n",
      "aqui as palavras de Antonio Candido, em sua conferência de abertura do I Congresso\n",
      "da Abralic sobre a importância dessa associação. Segundo ele, “faltava algo impor-\n",
      "tante, e eu diria decisivo: a consciência profissional específica, que se adquire e forta-\n",
      "lece sobretu\n"
     ]
    }
   ],
   "source": [
    "print(textos[80])"
   ]
  },
  {
   "cell_type": "code",
   "execution_count": 6,
   "metadata": {},
   "outputs": [
    {
     "data": {
      "text/html": [
       "<div>\n",
       "<style scoped>\n",
       "    .dataframe tbody tr th:only-of-type {\n",
       "        vertical-align: middle;\n",
       "    }\n",
       "\n",
       "    .dataframe tbody tr th {\n",
       "        vertical-align: top;\n",
       "    }\n",
       "\n",
       "    .dataframe thead th {\n",
       "        text-align: right;\n",
       "    }\n",
       "</style>\n",
       "<table border=\"1\" class=\"dataframe\">\n",
       "  <thead>\n",
       "    <tr style=\"text-align: right;\">\n",
       "      <th></th>\n",
       "      <th>txt_len</th>\n",
       "      <th>limpeza_cc</th>\n",
       "      <th>partition_ref</th>\n",
       "      <th>partition_index</th>\n",
       "      <th>base</th>\n",
       "      <th>lang</th>\n",
       "      <th>duplicado_80</th>\n",
       "      <th>duplicado_90</th>\n",
       "      <th>duplicado_95</th>\n",
       "      <th>duplicado_98</th>\n",
       "      <th>tipo</th>\n",
       "      <th>tokenizer_2024_32k</th>\n",
       "      <th>tokenizer_2024_50k</th>\n",
       "      <th>tokenizer_2024_60k</th>\n",
       "      <th>tokenizer_2024_80k</th>\n",
       "      <th>tokenizer_2024_90k</th>\n",
       "      <th>tokenizer_2024_100k</th>\n",
       "      <th>tokenizer_2024_120k</th>\n",
       "      <th>tokenizer_2024_150k</th>\n",
       "    </tr>\n",
       "  </thead>\n",
       "  <tbody>\n",
       "    <tr>\n",
       "      <th>0</th>\n",
       "      <td>283765</td>\n",
       "      <td>1</td>\n",
       "      <td>/media/luis/BIGGER/datasets/nlp_datasets/parti...</td>\n",
       "      <td>8</td>\n",
       "      <td>livros</td>\n",
       "      <td>pt</td>\n",
       "      <td>0</td>\n",
       "      <td>0</td>\n",
       "      <td>0</td>\n",
       "      <td>0</td>\n",
       "      <td>pdf</td>\n",
       "      <td>12113</td>\n",
       "      <td>11511</td>\n",
       "      <td>11329</td>\n",
       "      <td>11083</td>\n",
       "      <td>10993</td>\n",
       "      <td>10911</td>\n",
       "      <td>10758</td>\n",
       "      <td>10621</td>\n",
       "    </tr>\n",
       "    <tr>\n",
       "      <th>1</th>\n",
       "      <td>1196170</td>\n",
       "      <td>1</td>\n",
       "      <td>/media/luis/BIGGER/datasets/nlp_datasets/parti...</td>\n",
       "      <td>1</td>\n",
       "      <td>livros</td>\n",
       "      <td>pt</td>\n",
       "      <td>0</td>\n",
       "      <td>0</td>\n",
       "      <td>0</td>\n",
       "      <td>0</td>\n",
       "      <td>pdf</td>\n",
       "      <td>12416</td>\n",
       "      <td>11836</td>\n",
       "      <td>11616</td>\n",
       "      <td>11270</td>\n",
       "      <td>11143</td>\n",
       "      <td>11075</td>\n",
       "      <td>10927</td>\n",
       "      <td>10762</td>\n",
       "    </tr>\n",
       "    <tr>\n",
       "      <th>2</th>\n",
       "      <td>500442</td>\n",
       "      <td>1</td>\n",
       "      <td>/media/luis/BIGGER/datasets/nlp_datasets/parti...</td>\n",
       "      <td>7</td>\n",
       "      <td>livros</td>\n",
       "      <td>pt</td>\n",
       "      <td>0</td>\n",
       "      <td>0</td>\n",
       "      <td>0</td>\n",
       "      <td>0</td>\n",
       "      <td>pdf</td>\n",
       "      <td>12883</td>\n",
       "      <td>12317</td>\n",
       "      <td>12110</td>\n",
       "      <td>11848</td>\n",
       "      <td>11734</td>\n",
       "      <td>11639</td>\n",
       "      <td>11500</td>\n",
       "      <td>11325</td>\n",
       "    </tr>\n",
       "    <tr>\n",
       "      <th>3</th>\n",
       "      <td>47881</td>\n",
       "      <td>1</td>\n",
       "      <td>/media/luis/BIGGER/datasets/nlp_datasets/parti...</td>\n",
       "      <td>6</td>\n",
       "      <td>livros</td>\n",
       "      <td>pt</td>\n",
       "      <td>0</td>\n",
       "      <td>0</td>\n",
       "      <td>0</td>\n",
       "      <td>0</td>\n",
       "      <td>pdf</td>\n",
       "      <td>11072</td>\n",
       "      <td>10642</td>\n",
       "      <td>10458</td>\n",
       "      <td>10191</td>\n",
       "      <td>10099</td>\n",
       "      <td>10022</td>\n",
       "      <td>9902</td>\n",
       "      <td>9744</td>\n",
       "    </tr>\n",
       "    <tr>\n",
       "      <th>4</th>\n",
       "      <td>387619</td>\n",
       "      <td>1</td>\n",
       "      <td>/media/luis/BIGGER/datasets/nlp_datasets/parti...</td>\n",
       "      <td>2</td>\n",
       "      <td>livros</td>\n",
       "      <td>pt</td>\n",
       "      <td>0</td>\n",
       "      <td>0</td>\n",
       "      <td>0</td>\n",
       "      <td>0</td>\n",
       "      <td>pdf</td>\n",
       "      <td>12077</td>\n",
       "      <td>11444</td>\n",
       "      <td>11196</td>\n",
       "      <td>10929</td>\n",
       "      <td>10813</td>\n",
       "      <td>10699</td>\n",
       "      <td>10535</td>\n",
       "      <td>10325</td>\n",
       "    </tr>\n",
       "    <tr>\n",
       "      <th>...</th>\n",
       "      <td>...</td>\n",
       "      <td>...</td>\n",
       "      <td>...</td>\n",
       "      <td>...</td>\n",
       "      <td>...</td>\n",
       "      <td>...</td>\n",
       "      <td>...</td>\n",
       "      <td>...</td>\n",
       "      <td>...</td>\n",
       "      <td>...</td>\n",
       "      <td>...</td>\n",
       "      <td>...</td>\n",
       "      <td>...</td>\n",
       "      <td>...</td>\n",
       "      <td>...</td>\n",
       "      <td>...</td>\n",
       "      <td>...</td>\n",
       "      <td>...</td>\n",
       "      <td>...</td>\n",
       "    </tr>\n",
       "    <tr>\n",
       "      <th>17981</th>\n",
       "      <td>470149</td>\n",
       "      <td>1</td>\n",
       "      <td>/media/luis/BIGGER/datasets/nlp_datasets/parti...</td>\n",
       "      <td>701</td>\n",
       "      <td>pdfs_dominio_publico</td>\n",
       "      <td>en</td>\n",
       "      <td>0</td>\n",
       "      <td>0</td>\n",
       "      <td>0</td>\n",
       "      <td>0</td>\n",
       "      <td>pdf</td>\n",
       "      <td>12017</td>\n",
       "      <td>11558</td>\n",
       "      <td>11395</td>\n",
       "      <td>11153</td>\n",
       "      <td>11080</td>\n",
       "      <td>10983</td>\n",
       "      <td>10877</td>\n",
       "      <td>10772</td>\n",
       "    </tr>\n",
       "    <tr>\n",
       "      <th>17982</th>\n",
       "      <td>197914</td>\n",
       "      <td>1</td>\n",
       "      <td>/media/luis/BIGGER/datasets/nlp_datasets/parti...</td>\n",
       "      <td>939</td>\n",
       "      <td>pdfs_dominio_publico</td>\n",
       "      <td>pt</td>\n",
       "      <td>0</td>\n",
       "      <td>0</td>\n",
       "      <td>0</td>\n",
       "      <td>0</td>\n",
       "      <td>pdf</td>\n",
       "      <td>11985</td>\n",
       "      <td>11560</td>\n",
       "      <td>11407</td>\n",
       "      <td>11194</td>\n",
       "      <td>11122</td>\n",
       "      <td>11041</td>\n",
       "      <td>10933</td>\n",
       "      <td>10823</td>\n",
       "    </tr>\n",
       "    <tr>\n",
       "      <th>17983</th>\n",
       "      <td>399704</td>\n",
       "      <td>1</td>\n",
       "      <td>/media/luis/BIGGER/datasets/nlp_datasets/parti...</td>\n",
       "      <td>880</td>\n",
       "      <td>pdfs_dominio_publico</td>\n",
       "      <td>pt</td>\n",
       "      <td>0</td>\n",
       "      <td>0</td>\n",
       "      <td>0</td>\n",
       "      <td>0</td>\n",
       "      <td>pdf</td>\n",
       "      <td>24238</td>\n",
       "      <td>23898</td>\n",
       "      <td>23769</td>\n",
       "      <td>23566</td>\n",
       "      <td>23475</td>\n",
       "      <td>23428</td>\n",
       "      <td>23366</td>\n",
       "      <td>23268</td>\n",
       "    </tr>\n",
       "    <tr>\n",
       "      <th>17984</th>\n",
       "      <td>196697</td>\n",
       "      <td>1</td>\n",
       "      <td>/media/luis/BIGGER/datasets/nlp_datasets/parti...</td>\n",
       "      <td>812</td>\n",
       "      <td>pdfs_dominio_publico</td>\n",
       "      <td>pt</td>\n",
       "      <td>0</td>\n",
       "      <td>0</td>\n",
       "      <td>0</td>\n",
       "      <td>0</td>\n",
       "      <td>pdf</td>\n",
       "      <td>16657</td>\n",
       "      <td>16300</td>\n",
       "      <td>16188</td>\n",
       "      <td>16076</td>\n",
       "      <td>16041</td>\n",
       "      <td>15986</td>\n",
       "      <td>15899</td>\n",
       "      <td>15806</td>\n",
       "    </tr>\n",
       "    <tr>\n",
       "      <th>17985</th>\n",
       "      <td>401393</td>\n",
       "      <td>1</td>\n",
       "      <td>/media/luis/BIGGER/datasets/nlp_datasets/parti...</td>\n",
       "      <td>66</td>\n",
       "      <td>pdfs_dominio_publico</td>\n",
       "      <td>pt</td>\n",
       "      <td>0</td>\n",
       "      <td>0</td>\n",
       "      <td>0</td>\n",
       "      <td>0</td>\n",
       "      <td>pdf</td>\n",
       "      <td>11829</td>\n",
       "      <td>11335</td>\n",
       "      <td>11186</td>\n",
       "      <td>10943</td>\n",
       "      <td>10847</td>\n",
       "      <td>10809</td>\n",
       "      <td>10696</td>\n",
       "      <td>10585</td>\n",
       "    </tr>\n",
       "  </tbody>\n",
       "</table>\n",
       "<p>17986 rows × 19 columns</p>\n",
       "</div>"
      ],
      "text/plain": [
       "       txt_len  limpeza_cc                                      partition_ref  \\\n",
       "0       283765           1  /media/luis/BIGGER/datasets/nlp_datasets/parti...   \n",
       "1      1196170           1  /media/luis/BIGGER/datasets/nlp_datasets/parti...   \n",
       "2       500442           1  /media/luis/BIGGER/datasets/nlp_datasets/parti...   \n",
       "3        47881           1  /media/luis/BIGGER/datasets/nlp_datasets/parti...   \n",
       "4       387619           1  /media/luis/BIGGER/datasets/nlp_datasets/parti...   \n",
       "...        ...         ...                                                ...   \n",
       "17981   470149           1  /media/luis/BIGGER/datasets/nlp_datasets/parti...   \n",
       "17982   197914           1  /media/luis/BIGGER/datasets/nlp_datasets/parti...   \n",
       "17983   399704           1  /media/luis/BIGGER/datasets/nlp_datasets/parti...   \n",
       "17984   196697           1  /media/luis/BIGGER/datasets/nlp_datasets/parti...   \n",
       "17985   401393           1  /media/luis/BIGGER/datasets/nlp_datasets/parti...   \n",
       "\n",
       "       partition_index                  base lang  duplicado_80  duplicado_90  \\\n",
       "0                    8                livros   pt             0             0   \n",
       "1                    1                livros   pt             0             0   \n",
       "2                    7                livros   pt             0             0   \n",
       "3                    6                livros   pt             0             0   \n",
       "4                    2                livros   pt             0             0   \n",
       "...                ...                   ...  ...           ...           ...   \n",
       "17981              701  pdfs_dominio_publico   en             0             0   \n",
       "17982              939  pdfs_dominio_publico   pt             0             0   \n",
       "17983              880  pdfs_dominio_publico   pt             0             0   \n",
       "17984              812  pdfs_dominio_publico   pt             0             0   \n",
       "17985               66  pdfs_dominio_publico   pt             0             0   \n",
       "\n",
       "       duplicado_95  duplicado_98 tipo  tokenizer_2024_32k  \\\n",
       "0                 0             0  pdf               12113   \n",
       "1                 0             0  pdf               12416   \n",
       "2                 0             0  pdf               12883   \n",
       "3                 0             0  pdf               11072   \n",
       "4                 0             0  pdf               12077   \n",
       "...             ...           ...  ...                 ...   \n",
       "17981             0             0  pdf               12017   \n",
       "17982             0             0  pdf               11985   \n",
       "17983             0             0  pdf               24238   \n",
       "17984             0             0  pdf               16657   \n",
       "17985             0             0  pdf               11829   \n",
       "\n",
       "       tokenizer_2024_50k  tokenizer_2024_60k  tokenizer_2024_80k  \\\n",
       "0                   11511               11329               11083   \n",
       "1                   11836               11616               11270   \n",
       "2                   12317               12110               11848   \n",
       "3                   10642               10458               10191   \n",
       "4                   11444               11196               10929   \n",
       "...                   ...                 ...                 ...   \n",
       "17981               11558               11395               11153   \n",
       "17982               11560               11407               11194   \n",
       "17983               23898               23769               23566   \n",
       "17984               16300               16188               16076   \n",
       "17985               11335               11186               10943   \n",
       "\n",
       "       tokenizer_2024_90k  tokenizer_2024_100k  tokenizer_2024_120k  \\\n",
       "0                   10993                10911                10758   \n",
       "1                   11143                11075                10927   \n",
       "2                   11734                11639                11500   \n",
       "3                   10099                10022                 9902   \n",
       "4                   10813                10699                10535   \n",
       "...                   ...                  ...                  ...   \n",
       "17981               11080                10983                10877   \n",
       "17982               11122                11041                10933   \n",
       "17983               23475                23428                23366   \n",
       "17984               16041                15986                15899   \n",
       "17985               10847                10809                10696   \n",
       "\n",
       "       tokenizer_2024_150k  \n",
       "0                    10621  \n",
       "1                    10762  \n",
       "2                    11325  \n",
       "3                     9744  \n",
       "4                    10325  \n",
       "...                    ...  \n",
       "17981                10772  \n",
       "17982                10823  \n",
       "17983                23268  \n",
       "17984                15806  \n",
       "17985                10585  \n",
       "\n",
       "[17986 rows x 19 columns]"
      ]
     },
     "execution_count": 6,
     "metadata": {},
     "output_type": "execute_result"
    }
   ],
   "source": [
    "for tokenizer_name in tokens_tokenizers.keys():\n",
    "    amostra[tokenizer_name] = tokens_tokenizers[tokenizer_name]\n",
    "\n",
    "amostra"
   ]
  },
  {
   "cell_type": "code",
   "execution_count": 7,
   "metadata": {},
   "outputs": [
    {
     "name": "stdout",
     "output_type": "stream",
     "text": [
      "tokenizer_2024_32k\n",
      "                                        count  mean  std  min  25%  50%  75%  \\\n",
      "lang base                                                                      \n",
      "en   ajibawa_2023_Code_290k_ShareGPT      1.0   1.0  1.0  1.0  1.0  1.0  1.0   \n",
      "     commom_crawl                         1.0   1.0  1.0  1.0  1.0  1.0  1.0   \n",
      "     cshorten_ml_arxiv_papers             1.0   1.0  1.0  1.0  1.0  1.0  1.0   \n",
      "     dkyoon_slimpajama_6b                 1.0   1.0  1.0  1.0  1.0  1.0  1.0   \n",
      "     open_orca_slimorca_dedup             1.0   1.0  1.0  1.0  1.0  1.0  1.0   \n",
      "     pdfs_dominio_publico                 1.0   1.0  1.0  1.0  1.0  1.0  1.0   \n",
      "     the_stack_v1_html                    1.0   1.0  1.0  1.0  1.0  1.0  1.0   \n",
      "     the_stack_v1_markdown                1.0   1.0  1.0  1.0  1.0  1.0  1.0   \n",
      "     the_stack_v1_powershell              1.0   1.0  1.0  1.0  1.0  1.0  1.0   \n",
      "     the_stack_v1_python                  1.0   1.0  1.0  1.0  1.0  1.0  1.0   \n",
      "     the_stack_v1_shell                   1.0   1.0  1.0  1.0  1.0  1.0  1.0   \n",
      "     the_stack_v1_sql                     1.0   1.0  1.0  1.0  1.0  1.0  1.0   \n",
      "     vikp_textbook_quality_programming    1.0   1.0  1.0  1.0  1.0  1.0  1.0   \n",
      "     wikipedia_en                         1.0   1.0  1.0  1.0  1.0  1.0  1.0   \n",
      "es   commom_crawl                         1.0   1.0  1.0  1.0  1.0  1.0  1.0   \n",
      "     pdfs_dominio_publico                 1.0   1.0  1.0  1.0  1.0  1.0  1.0   \n",
      "     the_stack_v1_html                    1.0   1.0  1.0  1.0  1.0  1.0  1.0   \n",
      "     the_stack_v1_markdown                1.0   1.0  1.0  1.0  1.0  1.0  1.0   \n",
      "     the_stack_v1_powershell              1.0   1.0  1.0  1.0  1.0  1.0  1.0   \n",
      "     the_stack_v1_python                  1.0   1.0  1.0  1.0  1.0  1.0  1.0   \n",
      "     the_stack_v1_shell                   1.0   1.0  1.0  1.0  1.0  1.0  1.0   \n",
      "     the_stack_v1_sql                     1.0   1.0  1.0  1.0  1.0  1.0  1.0   \n",
      "fr   pdfs_dominio_publico                 1.0   1.0  1.0  1.0  1.0  1.0  1.0   \n",
      "     the_stack_v1_html                    1.0   1.0  NaN  1.0  1.0  1.0  1.0   \n",
      "     the_stack_v1_markdown                1.0   1.0  1.0  1.0  1.0  1.0  1.0   \n",
      "     the_stack_v1_shell                   1.0   1.0  1.0  1.0  1.0  1.0  1.0   \n",
      "     the_stack_v1_sql                     1.0   1.0  1.0  1.0  1.0  1.0  1.0   \n",
      "it   pdfs_dominio_publico                 1.0   1.0  1.0  1.0  1.0  1.0  1.0   \n",
      "     the_stack_v1_markdown                1.0   1.0  1.0  1.0  1.0  1.0  1.0   \n",
      "pt   alpaca                               1.0   1.0  1.0  1.0  1.0  1.0  1.0   \n",
      "     blogset_br                           1.0   1.0  1.0  1.0  1.0  1.0  1.0   \n",
      "     cc100                                1.0   1.0  1.0  1.0  1.0  1.0  1.0   \n",
      "     commom_crawl                         1.0   1.0  1.0  1.0  1.0  1.0  1.0   \n",
      "     itd_stj                              1.0   1.0  1.0  1.0  1.0  1.0  1.0   \n",
      "     livros                               1.0   1.0  1.0  1.0  1.0  1.0  1.0   \n",
      "     pdfs_dominio_publico                 1.0   1.0  1.0  1.0  1.0  1.0  1.0   \n",
      "     pdfs_tjsp                            1.0   1.0  1.0  1.0  1.0  1.0  1.0   \n",
      "     sentencas                            1.0   1.0  1.0  1.0  1.0  1.0  1.0   \n",
      "     the_stack_v1_html                    1.0   1.0  1.0  1.0  1.0  1.0  1.0   \n",
      "     the_stack_v1_markdown                1.0   1.0  1.0  1.0  1.0  1.0  1.0   \n",
      "     the_stack_v1_powershell              1.0   1.0  NaN  1.0  1.0  1.0  1.0   \n",
      "     the_stack_v1_python                  1.0   1.0  1.0  1.0  1.0  1.0  1.0   \n",
      "     the_stack_v1_sql                     1.0   1.0  1.0  1.0  1.0  1.0  1.0   \n",
      "     wikipedia_pt                         1.0   1.0  1.0  1.0  1.0  1.0  1.0   \n",
      "\n",
      "                                        max  \n",
      "lang base                                    \n",
      "en   ajibawa_2023_Code_290k_ShareGPT    1.0  \n",
      "     commom_crawl                       1.0  \n",
      "     cshorten_ml_arxiv_papers           1.0  \n",
      "     dkyoon_slimpajama_6b               1.0  \n",
      "     open_orca_slimorca_dedup           1.0  \n",
      "     pdfs_dominio_publico               1.0  \n",
      "     the_stack_v1_html                  1.0  \n",
      "     the_stack_v1_markdown              1.0  \n",
      "     the_stack_v1_powershell            1.0  \n",
      "     the_stack_v1_python                1.0  \n",
      "     the_stack_v1_shell                 1.0  \n",
      "     the_stack_v1_sql                   1.0  \n",
      "     vikp_textbook_quality_programming  1.0  \n",
      "     wikipedia_en                       1.0  \n",
      "es   commom_crawl                       1.0  \n",
      "     pdfs_dominio_publico               1.0  \n",
      "     the_stack_v1_html                  1.0  \n",
      "     the_stack_v1_markdown              1.0  \n",
      "     the_stack_v1_powershell            1.0  \n",
      "     the_stack_v1_python                1.0  \n",
      "     the_stack_v1_shell                 1.0  \n",
      "     the_stack_v1_sql                   1.0  \n",
      "fr   pdfs_dominio_publico               1.0  \n",
      "     the_stack_v1_html                  1.0  \n",
      "     the_stack_v1_markdown              1.0  \n",
      "     the_stack_v1_shell                 1.0  \n",
      "     the_stack_v1_sql                   1.0  \n",
      "it   pdfs_dominio_publico               1.0  \n",
      "     the_stack_v1_markdown              1.0  \n",
      "pt   alpaca                             1.0  \n",
      "     blogset_br                         1.0  \n",
      "     cc100                              1.0  \n",
      "     commom_crawl                       1.0  \n",
      "     itd_stj                            1.0  \n",
      "     livros                             1.0  \n",
      "     pdfs_dominio_publico               1.0  \n",
      "     pdfs_tjsp                          1.0  \n",
      "     sentencas                          1.0  \n",
      "     the_stack_v1_html                  1.0  \n",
      "     the_stack_v1_markdown              1.0  \n",
      "     the_stack_v1_powershell            1.0  \n",
      "     the_stack_v1_python                1.0  \n",
      "     the_stack_v1_sql                   1.0  \n",
      "     wikipedia_pt                       1.0  \n",
      "tokenizer_2024_50k\n",
      "                                        count      mean       std       min  \\\n",
      "lang base                                                                     \n",
      "en   ajibawa_2023_Code_290k_ShareGPT      1.0  0.970518  0.968648  0.971014   \n",
      "     commom_crawl                         1.0  0.952278  0.963580  0.942857   \n",
      "     cshorten_ml_arxiv_papers             1.0  0.939082  0.944460  0.909091   \n",
      "     dkyoon_slimpajama_6b                 1.0  0.952175  0.953944  0.941176   \n",
      "     open_orca_slimorca_dedup             1.0  0.955279  0.950137  0.900000   \n",
      "     pdfs_dominio_publico                 1.0  0.965227  0.979135  0.959707   \n",
      "     the_stack_v1_html                    1.0  0.981075  0.981329  0.942529   \n",
      "     the_stack_v1_markdown                1.0  0.959855  0.952544  0.945205   \n",
      "     the_stack_v1_powershell              1.0  0.964343  0.966156  0.963636   \n",
      "     the_stack_v1_python                  1.0  0.968673  0.978261  0.915254   \n",
      "     the_stack_v1_shell                   1.0  0.972120  0.974868  0.920000   \n",
      "     the_stack_v1_sql                     1.0  0.973275  0.981252  0.944444   \n",
      "     vikp_textbook_quality_programming    1.0  0.958627  0.976177  0.944613   \n",
      "     wikipedia_en                         1.0  0.948313  0.948382  0.938272   \n",
      "es   commom_crawl                         1.0  0.964039  0.986397  0.941964   \n",
      "     pdfs_dominio_publico                 1.0  0.955260  0.971192  0.959868   \n",
      "     the_stack_v1_html                    1.0  0.976903  0.981692  0.972238   \n",
      "     the_stack_v1_markdown                1.0  0.953314  0.950522  0.947826   \n",
      "     the_stack_v1_powershell              1.0  0.961985  0.964820  0.934118   \n",
      "     the_stack_v1_python                  1.0  0.970211  0.976692  0.973913   \n",
      "     the_stack_v1_shell                   1.0  0.981537  0.982083  0.985714   \n",
      "     the_stack_v1_sql                     1.0  0.979982  0.980479  0.920000   \n",
      "fr   pdfs_dominio_publico                 1.0  0.957742  0.957962  0.990632   \n",
      "     the_stack_v1_html                    1.0  0.984137       NaN  0.984137   \n",
      "     the_stack_v1_markdown                1.0  0.952277  0.944128  0.936170   \n",
      "     the_stack_v1_shell                   1.0  0.988089  0.988325  0.971963   \n",
      "     the_stack_v1_sql                     1.0  0.978915  0.996338  0.969281   \n",
      "it   pdfs_dominio_publico                 1.0  0.959432  0.982281  0.951243   \n",
      "     the_stack_v1_markdown                1.0  0.950418  0.947358  0.979239   \n",
      "pt   alpaca                               1.0  0.954139  0.950125  0.923077   \n",
      "     blogset_br                           1.0  0.960483  0.965581  0.968750   \n",
      "     cc100                                1.0  0.957449  0.956788  0.942029   \n",
      "     commom_crawl                         1.0  0.953207  0.941729  0.983871   \n",
      "     itd_stj                              1.0  0.954636  0.958117  0.955056   \n",
      "     livros                               1.0  0.961354  0.987488  1.000000   \n",
      "     pdfs_dominio_publico                 1.0  0.967710  0.980434  0.968750   \n",
      "     pdfs_tjsp                            1.0  0.958773  0.952780  0.958906   \n",
      "     sentencas                            1.0  0.959012  0.955493  0.962585   \n",
      "     the_stack_v1_html                    1.0  0.992230  0.992817  0.962406   \n",
      "     the_stack_v1_markdown                1.0  0.960974  0.960221  0.958904   \n",
      "     the_stack_v1_powershell              1.0  0.962500       NaN  0.962500   \n",
      "     the_stack_v1_python                  1.0  0.955801  0.966918  0.955801   \n",
      "     the_stack_v1_sql                     1.0  0.958881  0.958168  0.977273   \n",
      "     wikipedia_pt                         1.0  0.953718  0.954931  1.000000   \n",
      "\n",
      "                                             25%       50%       75%       max  \n",
      "lang base                                                                       \n",
      "en   ajibawa_2023_Code_290k_ShareGPT    0.972037  0.968566  0.969633  0.984761  \n",
      "     commom_crawl                       0.952000  0.960499  0.953831  0.977889  \n",
      "     cshorten_ml_arxiv_papers           0.934272  0.944853  0.936937  0.966713  \n",
      "     dkyoon_slimpajama_6b               0.944018  0.953097  0.952762  0.963152  \n",
      "     open_orca_slimorca_dedup           0.963303  0.960894  0.952562  0.944760  \n",
      "     pdfs_dominio_publico               0.962294  0.960676  0.968012  0.979700  \n",
      "     the_stack_v1_html                  0.985687  0.974541  0.983455  0.999507  \n",
      "     the_stack_v1_markdown              0.956843  0.969044  0.958919  0.934433  \n",
      "     the_stack_v1_powershell            0.952229  0.966154  0.971279  0.972144  \n",
      "     the_stack_v1_python                0.963788  0.952909  0.964940  0.999772  \n",
      "     the_stack_v1_shell                 0.974127  0.975968  0.961789  0.982187  \n",
      "     the_stack_v1_sql                   0.963235  0.971345  0.968477  0.998790  \n",
      "     vikp_textbook_quality_programming  0.959686  0.962364  0.966721  0.974182  \n",
      "     wikipedia_en                       0.953413  0.940924  0.947759  0.955723  \n",
      "es   commom_crawl                       0.937269  0.955659  0.960000  0.977553  \n",
      "     pdfs_dominio_publico               0.948194  0.942857  0.959577  0.965667  \n",
      "     the_stack_v1_html                  0.975335  0.976903  0.977851  0.978485  \n",
      "     the_stack_v1_markdown              0.959799  0.934211  0.977887  0.950238  \n",
      "     the_stack_v1_powershell            0.959630  0.961985  0.962870  0.963334  \n",
      "     the_stack_v1_python                0.953632  0.975993  0.982263  0.961282  \n",
      "     the_stack_v1_shell                 0.978437  0.977679  0.981495  0.981906  \n",
      "     the_stack_v1_sql                   0.962963  0.981395  0.980796  0.980343  \n",
      "fr   pdfs_dominio_publico               0.970671  0.952228  0.958088  0.967052  \n",
      "     the_stack_v1_html                  0.984137  0.984137  0.984137  0.984137  \n",
      "     the_stack_v1_markdown              0.966038  0.967568  0.945578  0.944638  \n",
      "     the_stack_v1_shell                 0.984848  0.989619  0.988285  0.988239  \n",
      "     the_stack_v1_sql                   0.959922  0.973370  0.965037  0.997906  \n",
      "it   pdfs_dominio_publico               0.966375  0.949498  0.965951  0.961166  \n",
      "     the_stack_v1_markdown              0.961480  0.950064  0.947529  0.948381  \n",
      "pt   alpaca                             0.955729  0.949580  0.941176  0.972028  \n",
      "     blogset_br                         0.972368  0.961263  0.949067  0.974277  \n",
      "     cc100                              0.955128  0.956140  0.962045  0.959552  \n",
      "     commom_crawl                       0.954635  0.945055  0.945209  0.945894  \n",
      "     itd_stj                            0.949505  0.959350  0.948078  0.967110  \n",
      "     livros                             0.956474  0.962040  0.962306  0.982774  \n",
      "     pdfs_dominio_publico               0.960293  0.966323  0.970212  0.985809  \n",
      "     pdfs_tjsp                          0.961274  0.960588  0.959156  0.970406  \n",
      "     sentencas                          0.966549  0.960273  0.954873  0.948423  \n",
      "     the_stack_v1_html                  0.991665  0.992230  0.992423  0.992521  \n",
      "     the_stack_v1_markdown              0.965368  0.973684  0.953020  0.961142  \n",
      "     the_stack_v1_powershell            0.962500  0.962500  0.962500  0.962500  \n",
      "     the_stack_v1_python                0.954082  0.952381  0.959016  0.956863  \n",
      "     the_stack_v1_sql                   0.959542  0.958881  0.958649  0.958531  \n",
      "     wikipedia_pt                       0.962677  0.947103  0.957664  0.971028  \n",
      "tokenizer_2024_60k\n",
      "                                        count      mean       std       min  \\\n",
      "lang base                                                                     \n",
      "en   ajibawa_2023_Code_290k_ShareGPT      1.0  0.961211  0.959650  0.956522   \n",
      "     commom_crawl                         1.0  0.936350  0.951900  0.914286   \n",
      "     cshorten_ml_arxiv_papers             1.0  0.920147  0.926367  0.909091   \n",
      "     dkyoon_slimpajama_6b                 1.0  0.935557  0.937226  0.901961   \n",
      "     open_orca_slimorca_dedup             1.0  0.940624  0.934198  0.900000   \n",
      "     pdfs_dominio_publico                 1.0  0.951612  0.966169  0.935897   \n",
      "     the_stack_v1_html                    1.0  0.974476  0.974338  0.942529   \n",
      "     the_stack_v1_markdown                1.0  0.946984  0.942259  0.945205   \n",
      "     the_stack_v1_powershell              1.0  0.952093  0.953204  0.818182   \n",
      "     the_stack_v1_python                  1.0  0.957012  0.968931  0.898305   \n",
      "     the_stack_v1_shell                   1.0  0.962939  0.966676  0.893333   \n",
      "     the_stack_v1_sql                     1.0  0.961434  0.973882  0.944444   \n",
      "     vikp_textbook_quality_programming    1.0  0.946683  0.969377  0.923369   \n",
      "     wikipedia_en                         1.0  0.931415  0.931781  0.938272   \n",
      "es   commom_crawl                         1.0  0.947210  0.965704  0.933036   \n",
      "     pdfs_dominio_publico                 1.0  0.938512  0.963499  0.943042   \n",
      "     the_stack_v1_html                    1.0  0.968211  0.978525  0.958165   \n",
      "     the_stack_v1_markdown                1.0  0.937107  0.938101  0.895652   \n",
      "     the_stack_v1_powershell              1.0  0.954165  0.957162  0.924706   \n",
      "     the_stack_v1_python                  1.0  0.963534  0.970301  0.956522   \n",
      "     the_stack_v1_shell                   1.0  0.954916  0.952615  0.971429   \n",
      "     the_stack_v1_sql                     1.0  0.971302  0.972253  0.880000   \n",
      "fr   pdfs_dominio_publico                 1.0  0.941918  0.942568  0.983607   \n",
      "     the_stack_v1_html                    1.0  0.978209       NaN  0.978209   \n",
      "     the_stack_v1_markdown                1.0  0.938550  0.928607  0.936170   \n",
      "     the_stack_v1_shell                   1.0  0.987190  0.987362  0.971963   \n",
      "     the_stack_v1_sql                     1.0  0.962996  0.992898  0.960784   \n",
      "it   pdfs_dominio_publico                 1.0  0.939040  0.992495  0.935712   \n",
      "     the_stack_v1_markdown                1.0  0.933493  0.925961  0.968858   \n",
      "pt   alpaca                               1.0  0.940468  0.943841  0.923077   \n",
      "     blogset_br                           1.0  0.946728  0.952183  0.953125   \n",
      "     cc100                                1.0  0.942950  0.943303  0.927536   \n",
      "     commom_crawl                         1.0  0.936543  0.921605  0.983871   \n",
      "     itd_stj                              1.0  0.938947  0.943023  0.938202   \n",
      "     livros                               1.0  0.947500  0.986047  1.000000   \n",
      "     pdfs_dominio_publico                 1.0  0.956397  0.973903  0.953125   \n",
      "     pdfs_tjsp                            1.0  0.945254  0.943140  0.943329   \n",
      "     sentencas                            1.0  0.946122  0.941246  0.955782   \n",
      "     the_stack_v1_html                    1.0  0.988091  0.988893  0.947368   \n",
      "     the_stack_v1_markdown                1.0  0.949422  0.948331  0.945205   \n",
      "     the_stack_v1_powershell              1.0  0.950000       NaN  0.950000   \n",
      "     the_stack_v1_python                  1.0  0.952118  0.961626  0.950276   \n",
      "     the_stack_v1_sql                     1.0  0.942094  0.941612  0.954545   \n",
      "     wikipedia_pt                         1.0  0.937865  0.940337  1.000000   \n",
      "\n",
      "                                             25%       50%       75%       max  \n",
      "lang base                                                                       \n",
      "en   ajibawa_2023_Code_290k_ShareGPT    0.966711  0.958743  0.958333  0.980044  \n",
      "     commom_crawl                       0.944000  0.939709  0.932220  0.969479  \n",
      "     cshorten_ml_arxiv_papers           0.915493  0.920956  0.924925  0.957004  \n",
      "     dkyoon_slimpajama_6b               0.934138  0.941593  0.937153  0.951277  \n",
      "     open_orca_slimorca_dedup           0.949541  0.944134  0.943074  0.922821  \n",
      "     pdfs_dominio_publico               0.944782  0.945353  0.956618  0.938821  \n",
      "     the_stack_v1_html                  0.979485  0.968177  0.979679  0.998869  \n",
      "     the_stack_v1_markdown              0.942047  0.948856  0.946629  0.929561  \n",
      "     the_stack_v1_powershell            0.942675  0.960000  0.960183  0.945085  \n",
      "     the_stack_v1_python                0.941504  0.937673  0.953683  0.999645  \n",
      "     the_stack_v1_shell                 0.963777  0.965287  0.951227  0.975133  \n",
      "     the_stack_v1_sql                   0.919118  0.922851  0.952809  0.998044  \n",
      "     vikp_textbook_quality_programming  0.949976  0.952829  0.953373  0.966472  \n",
      "     wikipedia_en                       0.936078  0.933405  0.930346  0.935915  \n",
      "es   commom_crawl                       0.918819  0.945158  0.941333  0.958474  \n",
      "     pdfs_dominio_publico               0.927213  0.925369  0.944336  0.953222  \n",
      "     the_stack_v1_html                  0.964833  0.968211  0.970252  0.971619  \n",
      "     the_stack_v1_markdown              0.954774  0.915789  0.948403  0.937937  \n",
      "     the_stack_v1_powershell            0.951675  0.954165  0.955101  0.955591  \n",
      "     the_stack_v1_python                0.949768  0.974146  0.978006  0.949266  \n",
      "     the_stack_v1_shell                 0.967655  0.967262  0.954749  0.953403  \n",
      "     the_stack_v1_sql                   0.950617  0.969767  0.972051  0.971998  \n",
      "fr   pdfs_dominio_publico               0.961365  0.930238  0.941243  0.953982  \n",
      "     the_stack_v1_html                  0.978209  0.978209  0.978209  0.978209  \n",
      "     the_stack_v1_markdown              0.953459  0.958559  0.932653  0.929286  \n",
      "     the_stack_v1_shell                 0.984848  0.989619  0.987375  0.987299  \n",
      "     the_stack_v1_sql                   0.923911  0.950897  0.941366  0.994996  \n",
      "it   pdfs_dominio_publico               0.925278  0.928113  0.952401  0.947508  \n",
      "     the_stack_v1_markdown              0.959215  0.946223  0.930798  0.928391  \n",
      "pt   alpaca                             0.945312  0.941176  0.926471  0.961538  \n",
      "     blogset_br                         0.957895  0.948350  0.936625  0.961063  \n",
      "     cc100                              0.940705  0.943860  0.947874  0.945650  \n",
      "     commom_crawl                       0.937870  0.927473  0.927424  0.929957  \n",
      "     itd_stj                            0.928218  0.941565  0.934505  0.954559  \n",
      "     livros                             0.941139  0.948141  0.947435  0.980248  \n",
      "     pdfs_dominio_publico               0.945929  0.951585  0.960250  0.981494  \n",
      "     pdfs_tjsp                          0.949138  0.949035  0.943311  0.964641  \n",
      "     sentencas                          0.955546  0.947858  0.942277  0.937190  \n",
      "     the_stack_v1_html                  0.987319  0.988091  0.988355  0.988488  \n",
      "     the_stack_v1_markdown              0.965368  0.973684  0.937919  0.950040  \n",
      "     the_stack_v1_powershell            0.950000  0.950000  0.950000  0.950000  \n",
      "     the_stack_v1_python                0.954082  0.947619  0.954918  0.952941  \n",
      "     the_stack_v1_sql                   0.942542  0.942094  0.941937  0.941857  \n",
      "     wikipedia_pt                       0.952381  0.934509  0.945303  0.964418  \n",
      "tokenizer_2024_80k\n",
      "                                        count      mean       std       min  \\\n",
      "lang base                                                                     \n",
      "en   ajibawa_2023_Code_290k_ShareGPT      1.0  0.947480  0.945999  0.927536   \n",
      "     commom_crawl                         1.0  0.914194  0.935817  0.900000   \n",
      "     cshorten_ml_arxiv_papers             1.0  0.891960  0.900994  0.863636   \n",
      "     dkyoon_slimpajama_6b                 1.0  0.912304  0.913786  0.901961   \n",
      "     open_orca_slimorca_dedup             1.0  0.919340  0.910239  0.900000   \n",
      "     pdfs_dominio_publico                 1.0  0.931528  0.940652  0.910256   \n",
      "     the_stack_v1_html                    1.0  0.965056  0.965015  0.942529   \n",
      "     the_stack_v1_markdown                1.0  0.927779  0.924309  0.917808   \n",
      "     the_stack_v1_powershell              1.0  0.934421  0.937223  0.818182   \n",
      "     the_stack_v1_python                  1.0  0.940872  0.956253  0.898305   \n",
      "     the_stack_v1_shell                   1.0  0.948118  0.953752  0.893333   \n",
      "     the_stack_v1_sql                     1.0  0.944534  0.963061  0.930556   \n",
      "     vikp_textbook_quality_programming    1.0  0.928737  0.959416  0.888467   \n",
      "     wikipedia_en                         1.0  0.906523  0.907971  0.938272   \n",
      "es   commom_crawl                         1.0  0.934455  0.958973  0.912946   \n",
      "     pdfs_dominio_publico                 1.0  0.913926  0.946175  0.915460   \n",
      "     the_stack_v1_html                    1.0  0.955222  0.973775  0.937151   \n",
      "     the_stack_v1_markdown                1.0  0.912796  0.910805  0.886957   \n",
      "     the_stack_v1_powershell              1.0  0.935918  0.938734  0.908235   \n",
      "     the_stack_v1_python                  1.0  0.957370  0.970950  0.947826   \n",
      "     the_stack_v1_shell                   1.0  0.943037  0.944606  0.971429   \n",
      "     the_stack_v1_sql                     1.0  0.946678  0.948952  0.840000   \n",
      "fr   pdfs_dominio_publico                 1.0  0.920068  0.921582  0.955504   \n",
      "     the_stack_v1_html                    1.0  0.954174       NaN  0.954174   \n",
      "     the_stack_v1_markdown                1.0  0.918794  0.907087  0.893617   \n",
      "     the_stack_v1_shell                   1.0  0.985392  0.985436  0.971963   \n",
      "     the_stack_v1_sql                     1.0  0.945711  0.989138  0.928105   \n",
      "it   pdfs_dominio_publico                 1.0  0.910822  0.951263  0.910744   \n",
      "     the_stack_v1_markdown                1.0  0.916567  0.910418  0.951557   \n",
      "pt   alpaca                               1.0  0.922372  0.926230  0.923077   \n",
      "     blogset_br                           1.0  0.928050  0.936115  0.937500   \n",
      "     cc100                                1.0  0.923040  0.923722  0.913043   \n",
      "     commom_crawl                         1.0  0.915577  0.895277  0.951613   \n",
      "     itd_stj                              1.0  0.917764  0.923586  0.921348   \n",
      "     livros                               1.0  0.928862  0.976887  0.997494   \n",
      "     pdfs_dominio_publico                 1.0  0.940307  0.963253  0.937500   \n",
      "     pdfs_tjsp                            1.0  0.926937  0.925318  0.922115   \n",
      "     sentencas                            1.0  0.929240  0.923107  0.942177   \n",
      "     the_stack_v1_html                    1.0  0.985404  0.986153  0.947368   \n",
      "     the_stack_v1_markdown                1.0  0.929441  0.928388  0.945205   \n",
      "     the_stack_v1_powershell              1.0  0.943750       NaN  0.943750   \n",
      "     the_stack_v1_python                  1.0  0.944751  0.927121  0.944751   \n",
      "     the_stack_v1_sql                     1.0  0.919712  0.919066  0.936364   \n",
      "     wikipedia_pt                         1.0  0.915138  0.915706  0.941176   \n",
      "\n",
      "                                             25%       50%       75%       max  \n",
      "lang base                                                                       \n",
      "en   ajibawa_2023_Code_290k_ShareGPT    0.957390  0.946955  0.943503  0.969521  \n",
      "     commom_crawl                       0.912000  0.918919  0.909627  0.960958  \n",
      "     cshorten_ml_arxiv_papers           0.886150  0.889706  0.895646  0.937587  \n",
      "     dkyoon_slimpajama_6b               0.912184  0.920354  0.907989  0.929399  \n",
      "     open_orca_slimorca_dedup           0.935780  0.930168  0.922201  0.899119  \n",
      "     pdfs_dominio_publico               0.922149  0.922141  0.938408  0.884017  \n",
      "     the_stack_v1_html                  0.968511  0.966305  0.973205  0.998232  \n",
      "     the_stack_v1_markdown              0.922318  0.934051  0.931531  0.921348  \n",
      "     the_stack_v1_powershell            0.923567  0.935385  0.941253  0.927666  \n",
      "     the_stack_v1_python                0.917827  0.921053  0.937601  0.999442  \n",
      "     the_stack_v1_shell                 0.943079  0.941255  0.926996  0.967470  \n",
      "     the_stack_v1_sql                   0.894608  0.861866  0.933672  0.997632  \n",
      "     vikp_textbook_quality_programming  0.933779  0.938464  0.942007  0.948158  \n",
      "     wikipedia_en                       0.907909  0.900107  0.901921  0.912521  \n",
      "es   commom_crawl                       0.911439  0.931155  0.919111  0.950243  \n",
      "     pdfs_dominio_publico               0.899016  0.904105  0.922542  0.928147  \n",
      "     the_stack_v1_html                  0.949146  0.955222  0.958894  0.961352  \n",
      "     the_stack_v1_markdown              0.939698  0.897368  0.918919  0.911378  \n",
      "     the_stack_v1_powershell            0.933579  0.935918  0.936797  0.937258  \n",
      "     the_stack_v1_python                0.932767  0.964912  0.974459  0.947931  \n",
      "     the_stack_v1_shell                 0.933962  0.930060  0.942750  0.944115  \n",
      "     the_stack_v1_sql                   0.895062  0.923256  0.947102  0.948354  \n",
      "fr   pdfs_dominio_publico               0.948111  0.903783  0.917144  0.940095  \n",
      "     the_stack_v1_html                  0.954174  0.954174  0.954174  0.954174  \n",
      "     the_stack_v1_markdown              0.940881  0.947748  0.922449  0.908118  \n",
      "     the_stack_v1_shell                 0.984848  0.989619  0.985555  0.985417  \n",
      "     the_stack_v1_sql                   0.901009  0.929885  0.911664  0.992494  \n",
      "it   pdfs_dominio_publico               0.904560  0.896858  0.916701  0.920821  \n",
      "     the_stack_v1_markdown              0.950906  0.924456  0.910266  0.912449  \n",
      "pt   alpaca                             0.924479  0.924370  0.911765  0.940559  \n",
      "     blogset_br                         0.940789  0.929699  0.918351  0.947068  \n",
      "     cc100                              0.921474  0.919298  0.927126  0.929417  \n",
      "     commom_crawl                       0.922091  0.912088  0.913368  0.917480  \n",
      "     itd_stj                            0.903960  0.916667  0.915376  0.939589  \n",
      "     livros                             0.924426  0.927728  0.928986  0.969096  \n",
      "     pdfs_dominio_publico               0.926804  0.934555  0.945275  0.974884  \n",
      "     pdfs_tjsp                          0.930741  0.931778  0.926733  0.951744  \n",
      "     sentencas                          0.939701  0.932961  0.921732  0.922962  \n",
      "     the_stack_v1_html                  0.984683  0.985404  0.985651  0.985775  \n",
      "     the_stack_v1_markdown              0.935065  0.968421  0.906040  0.930214  \n",
      "     the_stack_v1_powershell            0.943750  0.943750  0.943750  0.943750  \n",
      "     the_stack_v1_python                0.948980  0.947619  0.942623  0.941176  \n",
      "     the_stack_v1_sql                   0.920311  0.919712  0.919502  0.919395  \n",
      "     wikipedia_pt                       0.933076  0.915617  0.920581  0.935174  \n",
      "tokenizer_2024_90k\n",
      "                                        count      mean       std       min  \\\n",
      "lang base                                                                     \n",
      "en   ajibawa_2023_Code_290k_ShareGPT      1.0  0.943068  0.939766  0.927536   \n",
      "     commom_crawl                         1.0  0.905214  0.926689  0.885714   \n",
      "     cshorten_ml_arxiv_papers             1.0  0.882010  0.891587  0.833333   \n",
      "     dkyoon_slimpajama_6b                 1.0  0.903889  0.905926  0.882353   \n",
      "     open_orca_slimorca_dedup             1.0  0.911613  0.899000  0.900000   \n",
      "     pdfs_dominio_publico                 1.0  0.924353  0.934547  0.902930   \n",
      "     the_stack_v1_html                    1.0  0.961851  0.961908  0.942529   \n",
      "     the_stack_v1_markdown                1.0  0.920734  0.918190  0.917808   \n",
      "     the_stack_v1_powershell              1.0  0.928291  0.931172  0.818182   \n",
      "     the_stack_v1_python                  1.0  0.934694  0.951274  0.881356   \n",
      "     the_stack_v1_shell                   1.0  0.943039  0.948789  0.893333   \n",
      "     the_stack_v1_sql                     1.0  0.938387  0.959842  0.930556   \n",
      "     vikp_textbook_quality_programming    1.0  0.923168  0.956243  0.883915   \n",
      "     wikipedia_en                         1.0  0.897185  0.898368  0.925926   \n",
      "es   commom_crawl                         1.0  0.929318  0.958823  0.906250   \n",
      "     pdfs_dominio_publico                 1.0  0.903210  0.938200  0.905254   \n",
      "     the_stack_v1_html                    1.0  0.952048  0.973083  0.931560   \n",
      "     the_stack_v1_markdown                1.0  0.902516  0.899807  0.860870   \n",
      "     the_stack_v1_powershell              1.0  0.932443  0.936101  0.896471   \n",
      "     the_stack_v1_python                  1.0  0.951207  0.962072  0.947826   \n",
      "     the_stack_v1_shell                   1.0  0.937742  0.938836  0.971429   \n",
      "     the_stack_v1_sql                     1.0  0.930292  0.931656  0.840000   \n",
      "fr   pdfs_dominio_publico                 1.0  0.911644  0.913842  0.941452   \n",
      "     the_stack_v1_html                    1.0  0.951130       NaN  0.951130   \n",
      "     the_stack_v1_markdown                1.0  0.911610  0.901681  0.882979   \n",
      "     the_stack_v1_shell                   1.0  0.975728  0.975985  0.953271   \n",
      "     the_stack_v1_sql                     1.0  0.937908  0.988682  0.912418   \n",
      "it   pdfs_dominio_publico                 1.0  0.899014  0.926565  0.900914   \n",
      "     the_stack_v1_markdown                1.0  0.894464  0.880317  0.948097   \n",
      "pt   alpaca                               1.0  0.915579  0.921207  0.923077   \n",
      "     blogset_br                           1.0  0.920879  0.929177  0.937500   \n",
      "     cc100                                1.0  0.915679  0.916391  0.913043   \n",
      "     commom_crawl                         1.0  0.907516  0.884537  0.951613   \n",
      "     itd_stj                              1.0  0.909307  0.915429  0.915730   \n",
      "     livros                               1.0  0.921235  0.974561  0.997494   \n",
      "     pdfs_dominio_publico                 1.0  0.933971  0.959339  0.929688   \n",
      "     pdfs_tjsp                            1.0  0.919183  0.917906  0.916684   \n",
      "     sentencas                            1.0  0.922109  0.914750  0.938776   \n",
      "     the_stack_v1_html                    1.0  0.983734  0.984894  0.924812   \n",
      "     the_stack_v1_markdown                1.0  0.920075  0.917475  0.945205   \n",
      "     the_stack_v1_powershell              1.0  0.887500       NaN  0.887500   \n",
      "     the_stack_v1_python                  1.0  0.944751  0.927121  0.944751   \n",
      "     the_stack_v1_sql                     1.0  0.910979  0.910348  0.927273   \n",
      "     wikipedia_pt                         1.0  0.906992  0.908058  0.882353   \n",
      "\n",
      "                                             25%       50%       75%       max  \n",
      "lang base                                                                       \n",
      "en   ajibawa_2023_Code_290k_ShareGPT    0.952064  0.937132  0.940678  0.968070  \n",
      "     commom_crawl                       0.900000  0.908524  0.898821  0.952771  \n",
      "     cshorten_ml_arxiv_papers           0.877934  0.878676  0.882883  0.932039  \n",
      "     dkyoon_slimpajama_6b               0.900110  0.912389  0.899363  0.923642  \n",
      "     open_orca_slimorca_dedup           0.926606  0.921788  0.912713  0.880901  \n",
      "     pdfs_dominio_publico               0.913992  0.915040  0.930867  0.871631  \n",
      "     the_stack_v1_html                  0.967557  0.962935  0.971586  0.998203  \n",
      "     the_stack_v1_markdown              0.917386  0.927322  0.924508  0.917519  \n",
      "     the_stack_v1_powershell            0.917197  0.929231  0.935379  0.920797  \n",
      "     the_stack_v1_python                0.913649  0.914127  0.931168  0.999442  \n",
      "     the_stack_v1_shell                 0.941785  0.939920  0.920472  0.962497  \n",
      "     the_stack_v1_sql                   0.878676  0.850110  0.921781  0.997426  \n",
      "     vikp_textbook_quality_programming  0.930476  0.933195  0.938438  0.944372  \n",
      "     wikipedia_en                       0.897075  0.882922  0.895519  0.901676  \n",
      "es   commom_crawl                       0.905904  0.924154  0.907556  0.948747  \n",
      "     pdfs_dominio_publico               0.888296  0.890558  0.912234  0.918644  \n",
      "     the_stack_v1_html                  0.945159  0.952048  0.956211  0.958998  \n",
      "     the_stack_v1_markdown              0.934673  0.892105  0.909091  0.900196  \n",
      "     the_stack_v1_powershell            0.929402  0.932443  0.933585  0.934184  \n",
      "     the_stack_v1_python                0.928130  0.963066  0.970912  0.934579  \n",
      "     the_stack_v1_shell                 0.931267  0.927083  0.937401  0.938511  \n",
      "     the_stack_v1_sql                   0.895062  0.920930  0.931070  0.931293  \n",
      "fr   pdfs_dominio_publico               0.942752  0.895610  0.907875  0.934309  \n",
      "     the_stack_v1_html                  0.951130  0.951130  0.951130  0.951130  \n",
      "     the_stack_v1_markdown              0.924528  0.926126  0.921088  0.902535  \n",
      "     the_stack_v1_shell                 0.972222  0.979239  0.976001  0.975891  \n",
      "     the_stack_v1_sql                   0.889107  0.916263  0.899085  0.992358  \n",
      "it   pdfs_dominio_publico               0.896493  0.883451  0.907484  0.903827  \n",
      "     the_stack_v1_markdown              0.950151  0.923175  0.888973  0.884868  \n",
      "pt   alpaca                             0.924479  0.915966  0.904412  0.940559  \n",
      "     blogset_br                         0.931579  0.922525  0.911353  0.942142  \n",
      "     cc100                              0.910256  0.912281  0.923077  0.924484  \n",
      "     commom_crawl                       0.914201  0.908791  0.909065  0.911014  \n",
      "     itd_stj                            0.893069  0.907520  0.905356  0.929986  \n",
      "     livros                             0.916345  0.919910  0.918330  0.965979  \n",
      "     pdfs_dominio_publico               0.919686  0.927988  0.940003  0.972979  \n",
      "     pdfs_tjsp                          0.922586  0.922565  0.919277  0.943545  \n",
      "     sentencas                          0.936180  0.926754  0.916840  0.911823  \n",
      "     the_stack_v1_html                  0.982617  0.983734  0.984116  0.984309  \n",
      "     the_stack_v1_markdown              0.935065  0.947368  0.894295  0.919905  \n",
      "     the_stack_v1_powershell            0.887500  0.887500  0.887500  0.887500  \n",
      "     the_stack_v1_python                0.948980  0.947619  0.942623  0.941176  \n",
      "     the_stack_v1_sql                   0.911565  0.910979  0.910774  0.910670  \n",
      "     wikipedia_pt                       0.917632  0.911839  0.911928  0.931462  \n",
      "tokenizer_2024_100k\n",
      "                                        count      mean       std       min  \\\n",
      "lang base                                                                     \n",
      "en   ajibawa_2023_Code_290k_ShareGPT      1.0  0.939454  0.936604  0.927536   \n",
      "     commom_crawl                         1.0  0.898919  0.922432  0.885714   \n",
      "     cshorten_ml_arxiv_papers             1.0  0.875327  0.885385  0.803030   \n",
      "     dkyoon_slimpajama_6b                 1.0  0.897228  0.899337  0.862745   \n",
      "     open_orca_slimorca_dedup             1.0  0.905631  0.892329  0.900000   \n",
      "     pdfs_dominio_publico                 1.0  0.918822  0.932405  0.893773   \n",
      "     the_stack_v1_html                    1.0  0.958806  0.959007  0.942529   \n",
      "     the_stack_v1_markdown                1.0  0.915146  0.913964  0.904110   \n",
      "     the_stack_v1_powershell              1.0  0.923674  0.927141  0.818182   \n",
      "     the_stack_v1_python                  1.0  0.929513  0.947558  0.881356   \n",
      "     the_stack_v1_shell                   1.0  0.939466  0.945618  0.893333   \n",
      "     the_stack_v1_sql                     1.0  0.933062  0.956972  0.930556   \n",
      "     vikp_textbook_quality_programming    1.0  0.918554  0.953257  0.875569   \n",
      "     wikipedia_en                         1.0  0.889670  0.891424  0.901235   \n",
      "es   commom_crawl                         1.0  0.923295  0.958742  0.897321   \n",
      "     pdfs_dominio_publico                 1.0  0.895199  0.936442  0.895463   \n",
      "     the_stack_v1_html                    1.0  0.949460  0.971202  0.928282   \n",
      "     the_stack_v1_markdown                1.0  0.891026  0.888942  0.860870   \n",
      "     the_stack_v1_powershell              1.0  0.929510  0.932871  0.896471   \n",
      "     the_stack_v1_python                  1.0  0.942989  0.950871  0.939130   \n",
      "     the_stack_v1_shell                   1.0  0.934593  0.938591  0.914286   \n",
      "     the_stack_v1_sql                     1.0  0.928698  0.930088  0.826667   \n",
      "fr   pdfs_dominio_publico                 1.0  0.904752  0.907043  0.936768   \n",
      "     the_stack_v1_html                    1.0  0.948085       NaN  0.948085   \n",
      "     the_stack_v1_markdown                1.0  0.906735  0.896199  0.882979   \n",
      "     the_stack_v1_shell                   1.0  0.973593  0.973698  0.953271   \n",
      "     the_stack_v1_sql                     1.0  0.930998  0.987382  0.897386   \n",
      "it   pdfs_dominio_publico                 1.0  0.890058  0.913111  0.893443   \n",
      "     the_stack_v1_markdown                1.0  0.891079  0.875593  0.948097   \n",
      "pt   alpaca                               1.0  0.909603  0.914471  0.923077   \n",
      "     blogset_br                           1.0  0.914798  0.922832  0.937500   \n",
      "     cc100                                1.0  0.909859  0.910611  0.898551   \n",
      "     commom_crawl                         1.0  0.900552  0.872764  0.951613   \n",
      "     itd_stj                              1.0  0.903162  0.909539  0.910112   \n",
      "     livros                               1.0  0.915032  0.966257  0.997494   \n",
      "     pdfs_dominio_publico                 1.0  0.928722  0.955972  0.929688   \n",
      "     pdfs_tjsp                            1.0  0.913985  0.913923  0.909920   \n",
      "     sentencas                            1.0  0.916774  0.908796  0.931973   \n",
      "     the_stack_v1_html                    1.0  0.983516  0.984672  0.924812   \n",
      "     the_stack_v1_markdown                1.0  0.914455  0.909912  0.945205   \n",
      "     the_stack_v1_powershell              1.0  0.881250       NaN  0.881250   \n",
      "     the_stack_v1_python                  1.0  0.944751  0.927121  0.944751   \n",
      "     the_stack_v1_sql                     1.0  0.903773  0.903567  0.909091   \n",
      "     wikipedia_pt                         1.0  0.900062  0.901827  0.823529   \n",
      "\n",
      "                                             25%       50%       75%       max  \n",
      "lang base                                                                       \n",
      "en   ajibawa_2023_Code_290k_ShareGPT    0.949401  0.937132  0.935028  0.962264  \n",
      "     commom_crawl                       0.888000  0.902287  0.896857  0.951434  \n",
      "     cshorten_ml_arxiv_papers           0.868545  0.873162  0.873874  0.932039  \n",
      "     dkyoon_slimpajama_6b               0.899012  0.904425  0.889505  0.914861  \n",
      "     open_orca_slimorca_dedup           0.912844  0.916201  0.908918  0.877179  \n",
      "     pdfs_dominio_publico               0.905945  0.908562  0.925742  0.869226  \n",
      "     the_stack_v1_html                  0.962786  0.961438  0.968649  0.998174  \n",
      "     the_stack_v1_markdown              0.906289  0.920592  0.918890  0.915431  \n",
      "     the_stack_v1_powershell            0.907643  0.916923  0.929504  0.914421  \n",
      "     the_stack_v1_python                0.910864  0.905817  0.925378  0.999391  \n",
      "     the_stack_v1_shell                 0.941785  0.933244  0.919540  0.959147  \n",
      "     the_stack_v1_sql                   0.878676  0.846436  0.911377  0.997298  \n",
      "     vikp_textbook_quality_programming  0.925422  0.925605  0.929531  0.942306  \n",
      "     wikipedia_en                       0.893824  0.875403  0.884251  0.896209  \n",
      "es   commom_crawl                       0.900369  0.920653  0.889778  0.947250  \n",
      "     pdfs_dominio_publico               0.878702  0.881773  0.905386  0.912390  \n",
      "     the_stack_v1_html                  0.942339  0.949460  0.953763  0.956644  \n",
      "     the_stack_v1_markdown              0.929648  0.878947  0.884521  0.889852  \n",
      "     the_stack_v1_powershell            0.926718  0.929510  0.930559  0.931109  \n",
      "     the_stack_v1_python                0.925039  0.958449  0.963107  0.921228  \n",
      "     the_stack_v1_shell                 0.912399  0.912202  0.934798  0.937230  \n",
      "     the_stack_v1_sql                   0.893004  0.920930  0.929612  0.929717  \n",
      "fr   pdfs_dominio_publico               0.939932  0.886680  0.900137  0.929135  \n",
      "     the_stack_v1_html                  0.948085  0.948085  0.948085  0.948085  \n",
      "     the_stack_v1_markdown              0.923270  0.922523  0.919048  0.897185  \n",
      "     the_stack_v1_shell                 0.972222  0.979239  0.973840  0.973656  \n",
      "     the_stack_v1_sql                   0.880970  0.908951  0.886278  0.991760  \n",
      "it   pdfs_dominio_publico               0.888936  0.874815  0.894621  0.896211  \n",
      "     the_stack_v1_markdown              0.950151  0.923175  0.885741  0.880567  \n",
      "pt   alpaca                             0.916667  0.907563  0.904412  0.937063  \n",
      "     blogset_br                         0.925000  0.915352  0.903577  0.935966  \n",
      "     cc100                              0.903846  0.907018  0.917004  0.919731  \n",
      "     commom_crawl                       0.907298  0.904396  0.906196  0.897856  \n",
      "     itd_stj                            0.885149  0.899390  0.899162  0.924769  \n",
      "     livros                             0.911111  0.912700  0.912048  0.956466  \n",
      "     pdfs_dominio_publico               0.912954  0.921573  0.934439  0.969869  \n",
      "     pdfs_tjsp                          0.918683  0.917374  0.914750  0.941453  \n",
      "     sentencas                          0.933539  0.919305  0.909380  0.905644  \n",
      "     the_stack_v1_html                  0.982404  0.983516  0.983897  0.984089  \n",
      "     the_stack_v1_markdown              0.935065  0.936842  0.887584  0.912768  \n",
      "     the_stack_v1_powershell            0.881250  0.881250  0.881250  0.881250  \n",
      "     the_stack_v1_python                0.948980  0.947619  0.942623  0.941176  \n",
      "     the_stack_v1_sql                   0.903964  0.903773  0.903706  0.903672  \n",
      "     wikipedia_pt                       0.911197  0.903023  0.909147  0.927207  \n",
      "tokenizer_2024_120k\n",
      "                                        count      mean       std       min  \\\n",
      "lang base                                                                     \n",
      "en   ajibawa_2023_Code_290k_ShareGPT      1.0  0.933595  0.930193  0.913043   \n",
      "     commom_crawl                         1.0  0.887066  0.913088  0.885714   \n",
      "     cshorten_ml_arxiv_papers             1.0  0.862692  0.873065  0.803030   \n",
      "     dkyoon_slimpajama_6b                 1.0  0.885603  0.887784  0.862745   \n",
      "     open_orca_slimorca_dedup             1.0  0.896141  0.881555  0.883333   \n",
      "     pdfs_dominio_publico                 1.0  0.909529  0.924853  0.884615   \n",
      "     the_stack_v1_html                    1.0  0.954372  0.954875  0.942529   \n",
      "     the_stack_v1_markdown                1.0  0.906467  0.906592  0.904110   \n",
      "     the_stack_v1_powershell              1.0  0.916017  0.919962  0.763636   \n",
      "     the_stack_v1_python                  1.0  0.921435  0.941527  0.847458   \n",
      "     the_stack_v1_shell                   1.0  0.932498  0.939262  0.880000   \n",
      "     the_stack_v1_sql                     1.0  0.924530  0.952938  0.930556   \n",
      "     vikp_textbook_quality_programming    1.0  0.911660  0.950157  0.866464   \n",
      "     wikipedia_en                         1.0  0.877172  0.878319  0.876543   \n",
      "es   commom_crawl                         1.0  0.911780  0.941329  0.890625   \n",
      "     pdfs_dominio_publico                 1.0  0.881283  0.927447  0.882775   \n",
      "     the_stack_v1_html                    1.0  0.942771  0.966749  0.919414   \n",
      "     the_stack_v1_markdown                1.0  0.876512  0.876047  0.860870   \n",
      "     the_stack_v1_powershell              1.0  0.925057  0.928683  0.889412   \n",
      "     the_stack_v1_python                  1.0  0.938880  0.951387  0.939130   \n",
      "     the_stack_v1_shell                   1.0  0.910119  0.909705  0.914286   \n",
      "     the_stack_v1_sql                     1.0  0.925864  0.927703  0.813333   \n",
      "fr   pdfs_dominio_publico                 1.0  0.893697  0.896114  0.932084   \n",
      "     the_stack_v1_html                    1.0  0.943278       NaN  0.943278   \n",
      "     the_stack_v1_markdown                1.0  0.898140  0.886495  0.872340   \n",
      "     the_stack_v1_shell                   1.0  0.973480  0.973578  0.953271   \n",
      "     the_stack_v1_sql                     1.0  0.917845  0.985346  0.895425   \n",
      "it   pdfs_dominio_publico                 1.0  0.876375  0.904862  0.873882   \n",
      "     the_stack_v1_markdown                1.0  0.874353  0.852617  0.948097   \n",
      "pt   alpaca                               1.0  0.902444  0.908221  0.923077   \n",
      "     blogset_br                           1.0  0.905641  0.914746  0.921875   \n",
      "     cc100                                1.0  0.900734  0.901792  0.855072   \n",
      "     commom_crawl                         1.0  0.889169  0.853249  0.935484   \n",
      "     itd_stj                              1.0  0.894018  0.900242  0.910112   \n",
      "     livros                               1.0  0.905015  0.953106  0.997494   \n",
      "     pdfs_dominio_publico                 1.0  0.920642  0.950931  0.914062   \n",
      "     pdfs_tjsp                            1.0  0.904430  0.905040  0.900594   \n",
      "     sentencas                            1.0  0.908417  0.899298  0.921769   \n",
      "     the_stack_v1_html                    1.0  0.982282  0.983414  0.924812   \n",
      "     the_stack_v1_markdown                1.0  0.907274  0.903106  0.945205   \n",
      "     the_stack_v1_powershell              1.0  0.862500       NaN  0.862500   \n",
      "     the_stack_v1_python                  1.0  0.939227  0.930819  0.944751   \n",
      "     the_stack_v1_sql                     1.0  0.894023  0.893615  0.904545   \n",
      "     wikipedia_pt                         1.0  0.888601  0.889243  0.823529   \n",
      "\n",
      "                                             25%       50%       75%       max  \n",
      "lang base                                                                       \n",
      "en   ajibawa_2023_Code_290k_ShareGPT    0.946738  0.935167  0.926554  0.960450  \n",
      "     commom_crawl                       0.872000  0.885655  0.885069  0.947591  \n",
      "     cshorten_ml_arxiv_papers           0.859155  0.860294  0.861862  0.914008  \n",
      "     dkyoon_slimpajama_6b               0.891328  0.885841  0.875334  0.904138  \n",
      "     open_orca_slimorca_dedup           0.908257  0.910615  0.901328  0.869344  \n",
      "     pdfs_dominio_publico               0.892202  0.897309  0.917024  0.857538  \n",
      "     the_stack_v1_html                  0.957538  0.958817  0.963793  0.998145  \n",
      "     the_stack_v1_markdown              0.897657  0.912517  0.914677  0.912369  \n",
      "     the_stack_v1_powershell            0.904459  0.912308  0.920366  0.904516  \n",
      "     the_stack_v1_python                0.903900  0.901662  0.920875  0.999366  \n",
      "     the_stack_v1_shell                 0.931436  0.929239  0.915812  0.952804  \n",
      "     the_stack_v1_sql                   0.852941  0.811903  0.899919  0.997014  \n",
      "     vikp_textbook_quality_programming  0.918179  0.917388  0.924693  0.938176  \n",
      "     wikipedia_en                       0.884074  0.866810  0.870679  0.883302  \n",
      "es   commom_crawl                       0.892989  0.911319  0.881778  0.931912  \n",
      "     pdfs_dominio_publico               0.862518  0.865353  0.892280  0.901784  \n",
      "     the_stack_v1_html                  0.934917  0.942771  0.947516  0.950693  \n",
      "     the_stack_v1_markdown              0.874372  0.863158  0.872236  0.876992  \n",
      "     the_stack_v1_powershell            0.922044  0.925057  0.926189  0.926782  \n",
      "     the_stack_v1_python                0.911128  0.952909  0.962398  0.918558  \n",
      "     the_stack_v1_shell                 0.912399  0.912202  0.910077  0.909848  \n",
      "     the_stack_v1_sql                   0.872428  0.911628  0.927040  0.927214  \n",
      "fr   pdfs_dominio_publico               0.933728  0.872441  0.892399  0.919877  \n",
      "     the_stack_v1_html                  0.943278  0.943278  0.943278  0.943278  \n",
      "     the_stack_v1_markdown              0.908176  0.917117  0.918367  0.887881  \n",
      "     the_stack_v1_shell                 0.972222  0.979239  0.973726  0.973539  \n",
      "     the_stack_v1_sql                   0.862739  0.885785  0.864608  0.990699  \n",
      "it   pdfs_dominio_publico               0.879681  0.860421  0.883340  0.881357  \n",
      "     the_stack_v1_markdown              0.950151  0.921895  0.869392  0.859565  \n",
      "pt   alpaca                             0.914062  0.903361  0.897059  0.937063  \n",
      "     blogset_br                         0.919737  0.906743  0.896190  0.929242  \n",
      "     cc100                              0.897436  0.898246  0.909413  0.912825  \n",
      "     commom_crawl                       0.892505  0.895604  0.886976  0.884245  \n",
      "     itd_stj                            0.876733  0.887703  0.888413  0.917889  \n",
      "     livros                             0.900735  0.903058  0.902346  0.941632  \n",
      "     pdfs_dominio_publico               0.902749  0.910958  0.927906  0.966642  \n",
      "     pdfs_tjsp                          0.910760  0.907283  0.902500  0.936627  \n",
      "     sentencas                          0.922095  0.914339  0.902898  0.895722  \n",
      "     the_stack_v1_html                  0.981193  0.982282  0.982654  0.982842  \n",
      "     the_stack_v1_markdown              0.930736  0.931579  0.880872  0.905630  \n",
      "     the_stack_v1_powershell            0.862500  0.862500  0.862500  0.862500  \n",
      "     the_stack_v1_python                0.928571  0.947619  0.942623  0.933333  \n",
      "     the_stack_v1_sql                   0.894401  0.894023  0.893890  0.893823  \n",
      "     wikipedia_pt                       0.906049  0.891688  0.899876  0.921050  \n",
      "tokenizer_2024_150k\n",
      "                                        count      mean       std       min  \\\n",
      "lang base                                                                     \n",
      "en   ajibawa_2023_Code_290k_ShareGPT      1.0  0.927441  0.923612  0.913043   \n",
      "     commom_crawl                         1.0  0.875043  0.900503  0.857143   \n",
      "     cshorten_ml_arxiv_papers             1.0  0.849102  0.860130  0.787879   \n",
      "     dkyoon_slimpajama_6b                 1.0  0.873361  0.875254  0.862745   \n",
      "     open_orca_slimorca_dedup             1.0  0.886188  0.869633  0.883333   \n",
      "     pdfs_dominio_publico                 1.0  0.898783  0.912578  0.877289   \n",
      "     the_stack_v1_html                    1.0  0.949440  0.950162  0.919540   \n",
      "     the_stack_v1_markdown                1.0  0.896663  0.896925  0.876712   \n",
      "     the_stack_v1_powershell              1.0  0.907622  0.910941  0.763636   \n",
      "     the_stack_v1_python                  1.0  0.912687  0.935293  0.830508   \n",
      "     the_stack_v1_shell                   1.0  0.925301  0.931459  0.880000   \n",
      "     the_stack_v1_sql                     1.0  0.915076  0.947663  0.930556   \n",
      "     vikp_textbook_quality_programming    1.0  0.904273  0.945974  0.861912   \n",
      "     wikipedia_en                         1.0  0.864179  0.865283  0.876543   \n",
      "es   commom_crawl                         1.0  0.898671  0.924752  0.883929   \n",
      "     pdfs_dominio_publico                 1.0  0.864616  0.916767  0.865812   \n",
      "     the_stack_v1_html                    1.0  0.933883  0.960416  0.908039   \n",
      "     the_stack_v1_markdown                1.0  0.863691  0.862385  0.817391   \n",
      "     the_stack_v1_powershell              1.0  0.914630  0.918152  0.880000   \n",
      "     the_stack_v1_python                  1.0  0.917822  0.924295  0.939130   \n",
      "     the_stack_v1_shell                   1.0  0.866323  0.858989  0.914286   \n",
      "     the_stack_v1_sql                     1.0  0.922232  0.924343  0.800000   \n",
      "fr   pdfs_dominio_publico                 1.0  0.881751  0.884321  0.918033   \n",
      "     the_stack_v1_html                    1.0  0.940074       NaN  0.940074   \n",
      "     the_stack_v1_markdown                1.0  0.884798  0.874899  0.861702   \n",
      "     the_stack_v1_shell                   1.0  0.967637  0.967319  0.953271   \n",
      "     the_stack_v1_sql                     1.0  0.900075  0.982756  0.890850   \n",
      "it   pdfs_dominio_publico                 1.0  0.862631  0.882275  0.861791   \n",
      "     the_stack_v1_markdown                1.0  0.862605  0.841733  0.944637   \n",
      "pt   alpaca                               1.0  0.894664  0.906229  0.923077   \n",
      "     blogset_br                           1.0  0.895310  0.905037  0.921875   \n",
      "     cc100                                1.0  0.890709  0.892335  0.855072   \n",
      "     commom_crawl                         1.0  0.876680  0.833944  0.935484   \n",
      "     itd_stj                              1.0  0.883664  0.889935  0.904494   \n",
      "     livros                               1.0  0.893738  0.933483  0.997494   \n",
      "     pdfs_dominio_publico                 1.0  0.911833  0.945511  0.906250   \n",
      "     pdfs_tjsp                            1.0  0.894273  0.891743  0.889732   \n",
      "     sentencas                            1.0  0.899540  0.889509  0.914966   \n",
      "     the_stack_v1_html                    1.0  0.981410  0.982673  0.917293   \n",
      "     the_stack_v1_markdown                1.0  0.894162  0.894677  0.904110   \n",
      "     the_stack_v1_powershell              1.0  0.862500       NaN  0.862500   \n",
      "     the_stack_v1_python                  1.0  0.926335  0.893546  0.939227   \n",
      "     the_stack_v1_sql                     1.0  0.883764  0.883311  0.895455   \n",
      "     wikipedia_pt                         1.0  0.876629  0.877474  0.823529   \n",
      "\n",
      "                                             25%       50%       75%       max  \n",
      "lang base                                                                       \n",
      "en   ajibawa_2023_Code_290k_ShareGPT    0.940080  0.929273  0.919492  0.957184  \n",
      "     commom_crawl                       0.868000  0.877339  0.869352  0.934169  \n",
      "     cshorten_ml_arxiv_papers           0.845070  0.849265  0.846847  0.914008  \n",
      "     dkyoon_slimpajama_6b               0.875960  0.870796  0.864859  0.897229  \n",
      "     open_orca_slimorca_dedup           0.899083  0.899441  0.893738  0.859549  \n",
      "     pdfs_dominio_publico               0.879677  0.883108  0.907887  0.840482  \n",
      "     the_stack_v1_html                  0.956107  0.956571  0.960496  0.997971  \n",
      "     the_stack_v1_markdown              0.892725  0.905787  0.906250  0.904225  \n",
      "     the_stack_v1_powershell            0.898089  0.901538  0.913185  0.878444  \n",
      "     the_stack_v1_python                0.895543  0.893352  0.913799  0.999264  \n",
      "     the_stack_v1_shell                 0.922380  0.926569  0.908046  0.942705  \n",
      "     the_stack_v1_sql                   0.843137  0.776635  0.886604  0.996628  \n",
      "     vikp_textbook_quality_programming  0.910976  0.908543  0.915310  0.930120  \n",
      "     wikipedia_en                       0.868906  0.854995  0.860435  0.870933  \n",
      "es   commom_crawl                       0.883764  0.900817  0.866667  0.916947  \n",
      "     pdfs_dominio_publico               0.843038  0.849097  0.876965  0.886825  \n",
      "     the_stack_v1_html                  0.925194  0.933883  0.939134  0.942650  \n",
      "     the_stack_v1_markdown              0.864322  0.855263  0.864865  0.863014  \n",
      "     the_stack_v1_powershell            0.911703  0.914630  0.915730  0.916306  \n",
      "     the_stack_v1_python                0.892581  0.931671  0.940050  0.894526  \n",
      "     the_stack_v1_shell                 0.907008  0.906250  0.865838  0.861489  \n",
      "     the_stack_v1_sql                   0.864198  0.904651  0.923354  0.923783  \n",
      "fr   pdfs_dominio_publico               0.930062  0.858539  0.878939  0.911504  \n",
      "     the_stack_v1_html                  0.940074  0.940074  0.940074  0.940074  \n",
      "     the_stack_v1_markdown              0.899371  0.895495  0.905442  0.876483  \n",
      "     the_stack_v1_shell                 0.972222  0.979239  0.967812  0.967423  \n",
      "     the_stack_v1_sql                   0.845111  0.866620  0.828731  0.990073  \n",
      "it   pdfs_dominio_publico               0.868982  0.846603  0.866901  0.866818  \n",
      "     the_stack_v1_markdown              0.935801  0.903969  0.856464  0.848431  \n",
      "pt   alpaca                             0.903646  0.890756  0.889706  0.933566  \n",
      "     blogset_br                         0.903947  0.898135  0.888802  0.922596  \n",
      "     cc100                              0.887821  0.891228  0.891194  0.905381  \n",
      "     commom_crawl                       0.880671  0.889011  0.881813  0.873072  \n",
      "     itd_stj                            0.865347  0.873476  0.880944  0.908740  \n",
      "     livros                             0.889256  0.891331  0.890736  0.918602  \n",
      "     pdfs_dominio_publico               0.892886  0.902482  0.919173  0.963804  \n",
      "     pdfs_tjsp                          0.900634  0.898508  0.892880  0.931545  \n",
      "     sentencas                          0.913292  0.908752  0.893604  0.888140  \n",
      "     the_stack_v1_html                  0.980195  0.981410  0.981826  0.982035  \n",
      "     the_stack_v1_markdown              0.922078  0.921053  0.852349  0.896907  \n",
      "     the_stack_v1_powershell            0.862500  0.862500  0.862500  0.862500  \n",
      "     the_stack_v1_python                0.913265  0.938095  0.930328  0.913725  \n",
      "     the_stack_v1_sql                   0.884185  0.883764  0.883617  0.883542  \n",
      "     wikipedia_pt                       0.881596  0.879093  0.885352  0.910367  \n"
     ]
    }
   ],
   "source": [
    "primeiro = None\n",
    "for tokenizer_name in tokens_tokenizers.keys():\n",
    "    if primeiro is None:\n",
    "        primeiro = amostra.groupby([\"lang\", \"base\"])[tokenizer_name].describe()\n",
    "    print(tokenizer_name)\n",
    "    print(amostra.groupby([\"lang\", \"base\"])[tokenizer_name].describe() / primeiro)"
   ]
  },
  {
   "cell_type": "code",
   "execution_count": 8,
   "metadata": {},
   "outputs": [
    {
     "name": "stdout",
     "output_type": "stream",
     "text": [
      "tokenizer_2024_32k\n",
      "      count  mean  std  min  25%  50%  75%  max\n",
      "lang                                           \n",
      "en      1.0   1.0  1.0  1.0  1.0  1.0  1.0  1.0\n",
      "es      1.0   1.0  1.0  1.0  1.0  1.0  1.0  1.0\n",
      "fr      1.0   1.0  1.0  1.0  1.0  1.0  1.0  1.0\n",
      "it      1.0   1.0  1.0  1.0  1.0  1.0  1.0  1.0\n",
      "pt      1.0   1.0  1.0  1.0  1.0  1.0  1.0  1.0\n",
      "tokenizer_2024_50k\n",
      "      count      mean       std       min       25%       50%       75%  \\\n",
      "lang                                                                      \n",
      "en      1.0  0.968008  0.975370  0.941176  0.954717  0.963415  0.959149   \n",
      "es      1.0  0.962097  0.962268  0.985714  0.949676  0.983847  0.975756   \n",
      "fr      1.0  0.965473  0.978416  0.936170  0.980186  0.957246  0.957233   \n",
      "it      1.0  0.958781  0.961414  0.979239  0.944954  0.951243  0.949498   \n",
      "pt      1.0  0.962904  0.966943  1.000000  0.959559  0.959528  0.957624   \n",
      "\n",
      "           max  \n",
      "lang            \n",
      "en    0.999772  \n",
      "es    0.965667  \n",
      "fr    0.997906  \n",
      "it    0.961166  \n",
      "pt    0.982774  \n",
      "tokenizer_2024_60k\n",
      "      count      mean       std       min       25%       50%       75%  \\\n",
      "lang                                                                      \n",
      "en      1.0  0.956906  0.966081  0.882353  0.935849  0.949187  0.948936   \n",
      "es      1.0  0.947293  0.948343  0.942857  0.940331  0.977974  0.950512   \n",
      "fr      1.0  0.950312  0.967627  0.936170  0.972755  0.935295  0.941613   \n",
      "it      1.0  0.938639  0.942648  0.968858  0.938073  0.935712  0.928113   \n",
      "pt      1.0  0.950176  0.955613  1.000000  0.944853  0.944351  0.944649   \n",
      "\n",
      "           max  \n",
      "lang            \n",
      "en    0.999645  \n",
      "es    0.953222  \n",
      "fr    0.994996  \n",
      "it    0.947508  \n",
      "pt    0.980248  \n",
      "tokenizer_2024_80k\n",
      "      count      mean       std       min       25%       50%       75%  \\\n",
      "lang                                                                      \n",
      "en      1.0  0.940812  0.952768  0.882353  0.913208  0.928862  0.930213   \n",
      "es      1.0  0.925953  0.926904  0.900000  0.925234  0.957416  0.936119   \n",
      "fr      1.0  0.930445  0.954463  0.893617  0.948607  0.913343  0.916288   \n",
      "it      1.0  0.911237  0.912842  0.951557  0.903670  0.910744  0.896858   \n",
      "pt      1.0  0.932575  0.939555  0.941176  0.926471  0.924115  0.923104   \n",
      "\n",
      "           max  \n",
      "lang            \n",
      "en    0.999442  \n",
      "es    0.928147  \n",
      "fr    0.992494  \n",
      "it    0.920821  \n",
      "pt    0.969096  \n",
      "tokenizer_2024_90k\n",
      "      count      mean       std       min       25%       50%       75%  \\\n",
      "lang                                                                      \n",
      "en      1.0  0.935123  0.948271  0.882353  0.909434  0.922764  0.923404   \n",
      "es      1.0  0.916823  0.917618  0.900000  0.915888  0.955947  0.929231   \n",
      "fr      1.0  0.922315  0.949552  0.882979  0.937461  0.903574  0.909238   \n",
      "it      1.0  0.898686  0.900674  0.948097  0.901376  0.900914  0.883451   \n",
      "pt      1.0  0.925552  0.933126  0.882353  0.919118  0.917369  0.915605   \n",
      "\n",
      "           max  \n",
      "lang            \n",
      "en    0.999442  \n",
      "es    0.918644  \n",
      "fr    0.992358  \n",
      "it    0.903827  \n",
      "pt    0.965979  \n",
      "tokenizer_2024_100k\n",
      "      count      mean       std       min       25%       50%       75%  \\\n",
      "lang                                                                      \n",
      "en      1.0  0.930477  0.944620  0.862745  0.901887  0.916667  0.920000   \n",
      "es      1.0  0.910446  0.911743  0.885714  0.902948  0.945668  0.925575   \n",
      "fr      1.0  0.915686  0.944947  0.882979  0.933127  0.896908  0.904842   \n",
      "it      1.0  0.890132  0.891004  0.948097  0.901376  0.893443  0.874815   \n",
      "pt      1.0  0.920035  0.928009  0.823529  0.911765  0.909781  0.911082   \n",
      "\n",
      "           max  \n",
      "lang            \n",
      "en    0.999391  \n",
      "es    0.912390  \n",
      "fr    0.991760  \n",
      "it    0.896211  \n",
      "pt    0.956466  \n",
      "tokenizer_2024_120k\n",
      "      count      mean       std       min       25%       50%       75%  \\\n",
      "lang                                                                      \n",
      "en      1.0  0.922973  0.938821  0.823529  0.890566  0.908537  0.908085   \n",
      "es      1.0  0.898614  0.900406  0.871429  0.902229  0.945668  0.902294   \n",
      "fr      1.0  0.904503  0.937122  0.872340  0.929412  0.881853  0.891754   \n",
      "it      1.0  0.876229  0.877705  0.948097  0.899083  0.873882  0.860421   \n",
      "pt      1.0  0.911274  0.919783  0.823529  0.900735  0.902192  0.902274   \n",
      "\n",
      "           max  \n",
      "lang            \n",
      "en    0.999366  \n",
      "es    0.901784  \n",
      "fr    0.990699  \n",
      "it    0.881357  \n",
      "pt    0.941632  \n",
      "tokenizer_2024_150k\n",
      "      count      mean       std       min       25%       50%       75%  \\\n",
      "lang                                                                      \n",
      "en      1.0  0.914799  0.932019  0.823529  0.879245  0.902439  0.900426   \n",
      "es      1.0  0.883392  0.886249  0.857143  0.887850  0.931718  0.862695   \n",
      "fr      1.0  0.891104  0.927706  0.861702  0.915789  0.865533  0.876276   \n",
      "it      1.0  0.862629  0.863277  0.944637  0.880734  0.861791  0.846603   \n",
      "pt      1.0  0.901728  0.910827  0.823529  0.889706  0.892074  0.894298   \n",
      "\n",
      "           max  \n",
      "lang            \n",
      "en    0.999264  \n",
      "es    0.886825  \n",
      "fr    0.990073  \n",
      "it    0.866818  \n",
      "pt    0.918602  \n"
     ]
    }
   ],
   "source": [
    "primeiro = None\n",
    "for tokenizer_name in tokens_tokenizers.keys():\n",
    "    if primeiro is None:\n",
    "        primeiro = amostra.groupby([\"lang\"])[tokenizer_name].describe()\n",
    "    print(tokenizer_name)\n",
    "    print(amostra.groupby([\"lang\"])[tokenizer_name].describe() / primeiro)"
   ]
  },
  {
   "cell_type": "code",
   "execution_count": 9,
   "metadata": {},
   "outputs": [],
   "source": [
    "import numpy as np\n",
    "dados = {\n",
    "    \"base\": [],\n",
    "    \"tokenizer\": [],\n",
    "    \"lang\": [],\n",
    "    \"p\": [],\n",
    "    \"value\": []\n",
    "}\n",
    "\n",
    "dados_lang = {\n",
    "    \"lang\": [],\n",
    "    \"p\": [],\n",
    "    \"value\": [],\n",
    "    \"tokenizer\": []\n",
    "}\n",
    "for base in amostra.base.unique():\n",
    "    local = amostra[amostra.base == base].reset_index(drop=True)\n",
    "\n",
    "    for tokenizer_name in tokens_tokenizers.keys():\n",
    "        tipo_tokenizer = tokenizer_name.split(\"_\")[-1]\n",
    "        # print(tokenizer_name)\n",
    "        # percentis = [0.01, 0.05, 0.1, 0.2, 0.3, 0.4, 0.5, 0.6, 0.7, 0.8, 0.9, 0.95, 0.99]\n",
    "        # for p in percentis:\n",
    "        #     valor = np.percentile(local[tokenizer_name].tolist(), int(p*100))\n",
    "        valor = np.sum(local[tokenizer_name].tolist())\n",
    "        p = 1\n",
    "        dados[\"base\"].append(base)\n",
    "        dados[\"tokenizer\"].append(tokenizer_name)\n",
    "        dados[\"lang\"].append(local.loc[0, \"lang\"])\n",
    "        dados[\"value\"].append(valor)\n",
    "        dados[\"p\"].append(int(100*p))\n",
    "\n",
    "        # media = np.mean(tokens_tokenizers[tokenizer_name])\n",
    "        # print(media)\n",
    "        # minimo = np.min(tokens_tokenizers[tokenizer_name])\n",
    "        # print(minimo)\n",
    "        # maximo = np.max(tokens_tokenizers[tokenizer_name])\n",
    "        # print(maximo)\n",
    "        # print(\"\\n\")\n",
    "            \n",
    "for lang in amostra.lang.unique():\n",
    "    local = amostra[amostra.lang == lang].reset_index(drop=True)\n",
    "    for tokenizer_name in tokens_tokenizers.keys():\n",
    "        tipo_tokenizer = tokenizer_name.split(\"_\")[-1]\n",
    "        # percentis = [0.01, 0.05, 0.1, 0.2, 0.3, 0.4, 0.5, 0.6, 0.7, 0.8, 0.9, 0.95, 0.99]\n",
    "        # for p in percentis:\n",
    "        #     valor = np.percentile(local[tokenizer_name].tolist(), int(p*100))\n",
    "        \n",
    "        valor = np.sum(local[tokenizer_name].tolist())\n",
    "        p = 1\n",
    "        dados_lang[\"tokenizer\"].append(tokenizer_name)\n",
    "        dados_lang[\"lang\"].append(local.loc[0, \"lang\"])\n",
    "        dados_lang[\"value\"].append(valor)\n",
    "        dados_lang[\"p\"].append(int(100*p))"
   ]
  },
  {
   "cell_type": "code",
   "execution_count": 10,
   "metadata": {},
   "outputs": [
    {
     "name": "stdout",
     "output_type": "stream",
     "text": [
      "176\n",
      "176\n",
      "176\n",
      "176\n",
      "176\n"
     ]
    }
   ],
   "source": [
    "for k in dados.keys():\n",
    "    print(len(dados[k]))"
   ]
  },
  {
   "cell_type": "code",
   "execution_count": 11,
   "metadata": {},
   "outputs": [
    {
     "data": {
      "text/html": [
       "<div>\n",
       "<style scoped>\n",
       "    .dataframe tbody tr th:only-of-type {\n",
       "        vertical-align: middle;\n",
       "    }\n",
       "\n",
       "    .dataframe tbody tr th {\n",
       "        vertical-align: top;\n",
       "    }\n",
       "\n",
       "    .dataframe thead th {\n",
       "        text-align: right;\n",
       "    }\n",
       "</style>\n",
       "<table border=\"1\" class=\"dataframe\">\n",
       "  <thead>\n",
       "    <tr style=\"text-align: right;\">\n",
       "      <th></th>\n",
       "      <th>lang</th>\n",
       "      <th>p</th>\n",
       "      <th>value</th>\n",
       "      <th>tokenizer</th>\n",
       "    </tr>\n",
       "  </thead>\n",
       "  <tbody>\n",
       "    <tr>\n",
       "      <th>0</th>\n",
       "      <td>pt</td>\n",
       "      <td>100</td>\n",
       "      <td>20195900</td>\n",
       "      <td>tokenizer_2024_32k</td>\n",
       "    </tr>\n",
       "    <tr>\n",
       "      <th>1</th>\n",
       "      <td>pt</td>\n",
       "      <td>100</td>\n",
       "      <td>19446716</td>\n",
       "      <td>tokenizer_2024_50k</td>\n",
       "    </tr>\n",
       "    <tr>\n",
       "      <th>2</th>\n",
       "      <td>pt</td>\n",
       "      <td>100</td>\n",
       "      <td>19189661</td>\n",
       "      <td>tokenizer_2024_60k</td>\n",
       "    </tr>\n",
       "    <tr>\n",
       "      <th>3</th>\n",
       "      <td>pt</td>\n",
       "      <td>100</td>\n",
       "      <td>18834185</td>\n",
       "      <td>tokenizer_2024_80k</td>\n",
       "    </tr>\n",
       "    <tr>\n",
       "      <th>4</th>\n",
       "      <td>pt</td>\n",
       "      <td>100</td>\n",
       "      <td>18692352</td>\n",
       "      <td>tokenizer_2024_90k</td>\n",
       "    </tr>\n",
       "    <tr>\n",
       "      <th>5</th>\n",
       "      <td>pt</td>\n",
       "      <td>100</td>\n",
       "      <td>18580927</td>\n",
       "      <td>tokenizer_2024_100k</td>\n",
       "    </tr>\n",
       "    <tr>\n",
       "      <th>6</th>\n",
       "      <td>pt</td>\n",
       "      <td>100</td>\n",
       "      <td>18404002</td>\n",
       "      <td>tokenizer_2024_120k</td>\n",
       "    </tr>\n",
       "    <tr>\n",
       "      <th>7</th>\n",
       "      <td>pt</td>\n",
       "      <td>100</td>\n",
       "      <td>18211199</td>\n",
       "      <td>tokenizer_2024_150k</td>\n",
       "    </tr>\n",
       "    <tr>\n",
       "      <th>8</th>\n",
       "      <td>en</td>\n",
       "      <td>100</td>\n",
       "      <td>18781149</td>\n",
       "      <td>tokenizer_2024_32k</td>\n",
       "    </tr>\n",
       "    <tr>\n",
       "      <th>9</th>\n",
       "      <td>en</td>\n",
       "      <td>100</td>\n",
       "      <td>18180305</td>\n",
       "      <td>tokenizer_2024_50k</td>\n",
       "    </tr>\n",
       "    <tr>\n",
       "      <th>10</th>\n",
       "      <td>en</td>\n",
       "      <td>100</td>\n",
       "      <td>17971796</td>\n",
       "      <td>tokenizer_2024_60k</td>\n",
       "    </tr>\n",
       "    <tr>\n",
       "      <th>11</th>\n",
       "      <td>en</td>\n",
       "      <td>100</td>\n",
       "      <td>17669539</td>\n",
       "      <td>tokenizer_2024_80k</td>\n",
       "    </tr>\n",
       "    <tr>\n",
       "      <th>12</th>\n",
       "      <td>en</td>\n",
       "      <td>100</td>\n",
       "      <td>17562684</td>\n",
       "      <td>tokenizer_2024_90k</td>\n",
       "    </tr>\n",
       "    <tr>\n",
       "      <th>13</th>\n",
       "      <td>en</td>\n",
       "      <td>100</td>\n",
       "      <td>17475431</td>\n",
       "      <td>tokenizer_2024_100k</td>\n",
       "    </tr>\n",
       "    <tr>\n",
       "      <th>14</th>\n",
       "      <td>en</td>\n",
       "      <td>100</td>\n",
       "      <td>17334487</td>\n",
       "      <td>tokenizer_2024_120k</td>\n",
       "    </tr>\n",
       "    <tr>\n",
       "      <th>15</th>\n",
       "      <td>en</td>\n",
       "      <td>100</td>\n",
       "      <td>17180974</td>\n",
       "      <td>tokenizer_2024_150k</td>\n",
       "    </tr>\n",
       "    <tr>\n",
       "      <th>16</th>\n",
       "      <td>es</td>\n",
       "      <td>100</td>\n",
       "      <td>150702</td>\n",
       "      <td>tokenizer_2024_32k</td>\n",
       "    </tr>\n",
       "    <tr>\n",
       "      <th>17</th>\n",
       "      <td>es</td>\n",
       "      <td>100</td>\n",
       "      <td>144990</td>\n",
       "      <td>tokenizer_2024_50k</td>\n",
       "    </tr>\n",
       "    <tr>\n",
       "      <th>18</th>\n",
       "      <td>es</td>\n",
       "      <td>100</td>\n",
       "      <td>142759</td>\n",
       "      <td>tokenizer_2024_60k</td>\n",
       "    </tr>\n",
       "    <tr>\n",
       "      <th>19</th>\n",
       "      <td>es</td>\n",
       "      <td>100</td>\n",
       "      <td>139543</td>\n",
       "      <td>tokenizer_2024_80k</td>\n",
       "    </tr>\n",
       "    <tr>\n",
       "      <th>20</th>\n",
       "      <td>es</td>\n",
       "      <td>100</td>\n",
       "      <td>138167</td>\n",
       "      <td>tokenizer_2024_90k</td>\n",
       "    </tr>\n",
       "    <tr>\n",
       "      <th>21</th>\n",
       "      <td>es</td>\n",
       "      <td>100</td>\n",
       "      <td>137206</td>\n",
       "      <td>tokenizer_2024_100k</td>\n",
       "    </tr>\n",
       "    <tr>\n",
       "      <th>22</th>\n",
       "      <td>es</td>\n",
       "      <td>100</td>\n",
       "      <td>135423</td>\n",
       "      <td>tokenizer_2024_120k</td>\n",
       "    </tr>\n",
       "    <tr>\n",
       "      <th>23</th>\n",
       "      <td>es</td>\n",
       "      <td>100</td>\n",
       "      <td>133129</td>\n",
       "      <td>tokenizer_2024_150k</td>\n",
       "    </tr>\n",
       "    <tr>\n",
       "      <th>24</th>\n",
       "      <td>it</td>\n",
       "      <td>100</td>\n",
       "      <td>69556</td>\n",
       "      <td>tokenizer_2024_32k</td>\n",
       "    </tr>\n",
       "    <tr>\n",
       "      <th>25</th>\n",
       "      <td>it</td>\n",
       "      <td>100</td>\n",
       "      <td>66689</td>\n",
       "      <td>tokenizer_2024_50k</td>\n",
       "    </tr>\n",
       "    <tr>\n",
       "      <th>26</th>\n",
       "      <td>it</td>\n",
       "      <td>100</td>\n",
       "      <td>65288</td>\n",
       "      <td>tokenizer_2024_60k</td>\n",
       "    </tr>\n",
       "    <tr>\n",
       "      <th>27</th>\n",
       "      <td>it</td>\n",
       "      <td>100</td>\n",
       "      <td>63382</td>\n",
       "      <td>tokenizer_2024_80k</td>\n",
       "    </tr>\n",
       "    <tr>\n",
       "      <th>28</th>\n",
       "      <td>it</td>\n",
       "      <td>100</td>\n",
       "      <td>62509</td>\n",
       "      <td>tokenizer_2024_90k</td>\n",
       "    </tr>\n",
       "    <tr>\n",
       "      <th>29</th>\n",
       "      <td>it</td>\n",
       "      <td>100</td>\n",
       "      <td>61914</td>\n",
       "      <td>tokenizer_2024_100k</td>\n",
       "    </tr>\n",
       "    <tr>\n",
       "      <th>30</th>\n",
       "      <td>it</td>\n",
       "      <td>100</td>\n",
       "      <td>60947</td>\n",
       "      <td>tokenizer_2024_120k</td>\n",
       "    </tr>\n",
       "    <tr>\n",
       "      <th>31</th>\n",
       "      <td>it</td>\n",
       "      <td>100</td>\n",
       "      <td>60001</td>\n",
       "      <td>tokenizer_2024_150k</td>\n",
       "    </tr>\n",
       "    <tr>\n",
       "      <th>32</th>\n",
       "      <td>fr</td>\n",
       "      <td>100</td>\n",
       "      <td>305182</td>\n",
       "      <td>tokenizer_2024_32k</td>\n",
       "    </tr>\n",
       "    <tr>\n",
       "      <th>33</th>\n",
       "      <td>fr</td>\n",
       "      <td>100</td>\n",
       "      <td>294645</td>\n",
       "      <td>tokenizer_2024_50k</td>\n",
       "    </tr>\n",
       "    <tr>\n",
       "      <th>34</th>\n",
       "      <td>fr</td>\n",
       "      <td>100</td>\n",
       "      <td>290018</td>\n",
       "      <td>tokenizer_2024_60k</td>\n",
       "    </tr>\n",
       "    <tr>\n",
       "      <th>35</th>\n",
       "      <td>fr</td>\n",
       "      <td>100</td>\n",
       "      <td>283955</td>\n",
       "      <td>tokenizer_2024_80k</td>\n",
       "    </tr>\n",
       "    <tr>\n",
       "      <th>36</th>\n",
       "      <td>fr</td>\n",
       "      <td>100</td>\n",
       "      <td>281474</td>\n",
       "      <td>tokenizer_2024_90k</td>\n",
       "    </tr>\n",
       "    <tr>\n",
       "      <th>37</th>\n",
       "      <td>fr</td>\n",
       "      <td>100</td>\n",
       "      <td>279451</td>\n",
       "      <td>tokenizer_2024_100k</td>\n",
       "    </tr>\n",
       "    <tr>\n",
       "      <th>38</th>\n",
       "      <td>fr</td>\n",
       "      <td>100</td>\n",
       "      <td>276038</td>\n",
       "      <td>tokenizer_2024_120k</td>\n",
       "    </tr>\n",
       "    <tr>\n",
       "      <th>39</th>\n",
       "      <td>fr</td>\n",
       "      <td>100</td>\n",
       "      <td>271949</td>\n",
       "      <td>tokenizer_2024_150k</td>\n",
       "    </tr>\n",
       "  </tbody>\n",
       "</table>\n",
       "</div>"
      ],
      "text/plain": [
       "   lang    p     value            tokenizer\n",
       "0    pt  100  20195900   tokenizer_2024_32k\n",
       "1    pt  100  19446716   tokenizer_2024_50k\n",
       "2    pt  100  19189661   tokenizer_2024_60k\n",
       "3    pt  100  18834185   tokenizer_2024_80k\n",
       "4    pt  100  18692352   tokenizer_2024_90k\n",
       "5    pt  100  18580927  tokenizer_2024_100k\n",
       "6    pt  100  18404002  tokenizer_2024_120k\n",
       "7    pt  100  18211199  tokenizer_2024_150k\n",
       "8    en  100  18781149   tokenizer_2024_32k\n",
       "9    en  100  18180305   tokenizer_2024_50k\n",
       "10   en  100  17971796   tokenizer_2024_60k\n",
       "11   en  100  17669539   tokenizer_2024_80k\n",
       "12   en  100  17562684   tokenizer_2024_90k\n",
       "13   en  100  17475431  tokenizer_2024_100k\n",
       "14   en  100  17334487  tokenizer_2024_120k\n",
       "15   en  100  17180974  tokenizer_2024_150k\n",
       "16   es  100    150702   tokenizer_2024_32k\n",
       "17   es  100    144990   tokenizer_2024_50k\n",
       "18   es  100    142759   tokenizer_2024_60k\n",
       "19   es  100    139543   tokenizer_2024_80k\n",
       "20   es  100    138167   tokenizer_2024_90k\n",
       "21   es  100    137206  tokenizer_2024_100k\n",
       "22   es  100    135423  tokenizer_2024_120k\n",
       "23   es  100    133129  tokenizer_2024_150k\n",
       "24   it  100     69556   tokenizer_2024_32k\n",
       "25   it  100     66689   tokenizer_2024_50k\n",
       "26   it  100     65288   tokenizer_2024_60k\n",
       "27   it  100     63382   tokenizer_2024_80k\n",
       "28   it  100     62509   tokenizer_2024_90k\n",
       "29   it  100     61914  tokenizer_2024_100k\n",
       "30   it  100     60947  tokenizer_2024_120k\n",
       "31   it  100     60001  tokenizer_2024_150k\n",
       "32   fr  100    305182   tokenizer_2024_32k\n",
       "33   fr  100    294645   tokenizer_2024_50k\n",
       "34   fr  100    290018   tokenizer_2024_60k\n",
       "35   fr  100    283955   tokenizer_2024_80k\n",
       "36   fr  100    281474   tokenizer_2024_90k\n",
       "37   fr  100    279451  tokenizer_2024_100k\n",
       "38   fr  100    276038  tokenizer_2024_120k\n",
       "39   fr  100    271949  tokenizer_2024_150k"
      ]
     },
     "execution_count": 11,
     "metadata": {},
     "output_type": "execute_result"
    }
   ],
   "source": [
    "dados_df_base = pd.DataFrame(dados)\n",
    "dados_df_lang = pd.DataFrame(dados_lang)\n",
    "dados_df_lang"
   ]
  },
  {
   "cell_type": "code",
   "execution_count": 12,
   "metadata": {},
   "outputs": [
    {
     "name": "stderr",
     "output_type": "stream",
     "text": [
      "/tmp/ipykernel_472084/1386765431.py:6: SettingWithCopyWarning: \n",
      "A value is trying to be set on a copy of a slice from a DataFrame.\n",
      "Try using .loc[row_indexer,col_indexer] = value instead\n",
      "\n",
      "See the caveats in the documentation: https://pandas.pydata.org/pandas-docs/stable/user_guide/indexing.html#returning-a-view-versus-a-copy\n",
      "  local.value  = local.value / local.value.max()\n",
      "/tmp/ipykernel_472084/1386765431.py:14: SettingWithCopyWarning: \n",
      "A value is trying to be set on a copy of a slice from a DataFrame.\n",
      "Try using .loc[row_indexer,col_indexer] = value instead\n",
      "\n",
      "See the caveats in the documentation: https://pandas.pydata.org/pandas-docs/stable/user_guide/indexing.html#returning-a-view-versus-a-copy\n",
      "  local.value  = local.value / local.value.max()\n"
     ]
    },
    {
     "data": {
      "text/html": [
       "<div>\n",
       "<style scoped>\n",
       "    .dataframe tbody tr th:only-of-type {\n",
       "        vertical-align: middle;\n",
       "    }\n",
       "\n",
       "    .dataframe tbody tr th {\n",
       "        vertical-align: top;\n",
       "    }\n",
       "\n",
       "    .dataframe thead th {\n",
       "        text-align: right;\n",
       "    }\n",
       "</style>\n",
       "<table border=\"1\" class=\"dataframe\">\n",
       "  <thead>\n",
       "    <tr style=\"text-align: right;\">\n",
       "      <th></th>\n",
       "      <th>lang</th>\n",
       "      <th>p</th>\n",
       "      <th>value</th>\n",
       "      <th>tokenizer</th>\n",
       "    </tr>\n",
       "  </thead>\n",
       "  <tbody>\n",
       "    <tr>\n",
       "      <th>0</th>\n",
       "      <td>pt</td>\n",
       "      <td>100</td>\n",
       "      <td>1.000000</td>\n",
       "      <td>tokenizer_2024_32k</td>\n",
       "    </tr>\n",
       "    <tr>\n",
       "      <th>1</th>\n",
       "      <td>pt</td>\n",
       "      <td>100</td>\n",
       "      <td>0.962904</td>\n",
       "      <td>tokenizer_2024_50k</td>\n",
       "    </tr>\n",
       "    <tr>\n",
       "      <th>2</th>\n",
       "      <td>pt</td>\n",
       "      <td>100</td>\n",
       "      <td>0.950176</td>\n",
       "      <td>tokenizer_2024_60k</td>\n",
       "    </tr>\n",
       "    <tr>\n",
       "      <th>3</th>\n",
       "      <td>pt</td>\n",
       "      <td>100</td>\n",
       "      <td>0.932575</td>\n",
       "      <td>tokenizer_2024_80k</td>\n",
       "    </tr>\n",
       "    <tr>\n",
       "      <th>4</th>\n",
       "      <td>pt</td>\n",
       "      <td>100</td>\n",
       "      <td>0.925552</td>\n",
       "      <td>tokenizer_2024_90k</td>\n",
       "    </tr>\n",
       "    <tr>\n",
       "      <th>5</th>\n",
       "      <td>pt</td>\n",
       "      <td>100</td>\n",
       "      <td>0.920035</td>\n",
       "      <td>tokenizer_2024_100k</td>\n",
       "    </tr>\n",
       "    <tr>\n",
       "      <th>6</th>\n",
       "      <td>pt</td>\n",
       "      <td>100</td>\n",
       "      <td>0.911274</td>\n",
       "      <td>tokenizer_2024_120k</td>\n",
       "    </tr>\n",
       "    <tr>\n",
       "      <th>7</th>\n",
       "      <td>pt</td>\n",
       "      <td>100</td>\n",
       "      <td>0.901728</td>\n",
       "      <td>tokenizer_2024_150k</td>\n",
       "    </tr>\n",
       "    <tr>\n",
       "      <th>8</th>\n",
       "      <td>en</td>\n",
       "      <td>100</td>\n",
       "      <td>1.000000</td>\n",
       "      <td>tokenizer_2024_32k</td>\n",
       "    </tr>\n",
       "    <tr>\n",
       "      <th>9</th>\n",
       "      <td>en</td>\n",
       "      <td>100</td>\n",
       "      <td>0.968008</td>\n",
       "      <td>tokenizer_2024_50k</td>\n",
       "    </tr>\n",
       "    <tr>\n",
       "      <th>10</th>\n",
       "      <td>en</td>\n",
       "      <td>100</td>\n",
       "      <td>0.956906</td>\n",
       "      <td>tokenizer_2024_60k</td>\n",
       "    </tr>\n",
       "    <tr>\n",
       "      <th>11</th>\n",
       "      <td>en</td>\n",
       "      <td>100</td>\n",
       "      <td>0.940812</td>\n",
       "      <td>tokenizer_2024_80k</td>\n",
       "    </tr>\n",
       "    <tr>\n",
       "      <th>12</th>\n",
       "      <td>en</td>\n",
       "      <td>100</td>\n",
       "      <td>0.935123</td>\n",
       "      <td>tokenizer_2024_90k</td>\n",
       "    </tr>\n",
       "    <tr>\n",
       "      <th>13</th>\n",
       "      <td>en</td>\n",
       "      <td>100</td>\n",
       "      <td>0.930477</td>\n",
       "      <td>tokenizer_2024_100k</td>\n",
       "    </tr>\n",
       "    <tr>\n",
       "      <th>14</th>\n",
       "      <td>en</td>\n",
       "      <td>100</td>\n",
       "      <td>0.922973</td>\n",
       "      <td>tokenizer_2024_120k</td>\n",
       "    </tr>\n",
       "    <tr>\n",
       "      <th>15</th>\n",
       "      <td>en</td>\n",
       "      <td>100</td>\n",
       "      <td>0.914799</td>\n",
       "      <td>tokenizer_2024_150k</td>\n",
       "    </tr>\n",
       "    <tr>\n",
       "      <th>16</th>\n",
       "      <td>es</td>\n",
       "      <td>100</td>\n",
       "      <td>1.000000</td>\n",
       "      <td>tokenizer_2024_32k</td>\n",
       "    </tr>\n",
       "    <tr>\n",
       "      <th>17</th>\n",
       "      <td>es</td>\n",
       "      <td>100</td>\n",
       "      <td>0.962097</td>\n",
       "      <td>tokenizer_2024_50k</td>\n",
       "    </tr>\n",
       "    <tr>\n",
       "      <th>18</th>\n",
       "      <td>es</td>\n",
       "      <td>100</td>\n",
       "      <td>0.947293</td>\n",
       "      <td>tokenizer_2024_60k</td>\n",
       "    </tr>\n",
       "    <tr>\n",
       "      <th>19</th>\n",
       "      <td>es</td>\n",
       "      <td>100</td>\n",
       "      <td>0.925953</td>\n",
       "      <td>tokenizer_2024_80k</td>\n",
       "    </tr>\n",
       "    <tr>\n",
       "      <th>20</th>\n",
       "      <td>es</td>\n",
       "      <td>100</td>\n",
       "      <td>0.916823</td>\n",
       "      <td>tokenizer_2024_90k</td>\n",
       "    </tr>\n",
       "    <tr>\n",
       "      <th>21</th>\n",
       "      <td>es</td>\n",
       "      <td>100</td>\n",
       "      <td>0.910446</td>\n",
       "      <td>tokenizer_2024_100k</td>\n",
       "    </tr>\n",
       "    <tr>\n",
       "      <th>22</th>\n",
       "      <td>es</td>\n",
       "      <td>100</td>\n",
       "      <td>0.898614</td>\n",
       "      <td>tokenizer_2024_120k</td>\n",
       "    </tr>\n",
       "    <tr>\n",
       "      <th>23</th>\n",
       "      <td>es</td>\n",
       "      <td>100</td>\n",
       "      <td>0.883392</td>\n",
       "      <td>tokenizer_2024_150k</td>\n",
       "    </tr>\n",
       "    <tr>\n",
       "      <th>24</th>\n",
       "      <td>it</td>\n",
       "      <td>100</td>\n",
       "      <td>1.000000</td>\n",
       "      <td>tokenizer_2024_32k</td>\n",
       "    </tr>\n",
       "    <tr>\n",
       "      <th>25</th>\n",
       "      <td>it</td>\n",
       "      <td>100</td>\n",
       "      <td>0.958781</td>\n",
       "      <td>tokenizer_2024_50k</td>\n",
       "    </tr>\n",
       "    <tr>\n",
       "      <th>26</th>\n",
       "      <td>it</td>\n",
       "      <td>100</td>\n",
       "      <td>0.938639</td>\n",
       "      <td>tokenizer_2024_60k</td>\n",
       "    </tr>\n",
       "    <tr>\n",
       "      <th>27</th>\n",
       "      <td>it</td>\n",
       "      <td>100</td>\n",
       "      <td>0.911237</td>\n",
       "      <td>tokenizer_2024_80k</td>\n",
       "    </tr>\n",
       "    <tr>\n",
       "      <th>28</th>\n",
       "      <td>it</td>\n",
       "      <td>100</td>\n",
       "      <td>0.898686</td>\n",
       "      <td>tokenizer_2024_90k</td>\n",
       "    </tr>\n",
       "    <tr>\n",
       "      <th>29</th>\n",
       "      <td>it</td>\n",
       "      <td>100</td>\n",
       "      <td>0.890132</td>\n",
       "      <td>tokenizer_2024_100k</td>\n",
       "    </tr>\n",
       "    <tr>\n",
       "      <th>30</th>\n",
       "      <td>it</td>\n",
       "      <td>100</td>\n",
       "      <td>0.876229</td>\n",
       "      <td>tokenizer_2024_120k</td>\n",
       "    </tr>\n",
       "    <tr>\n",
       "      <th>31</th>\n",
       "      <td>it</td>\n",
       "      <td>100</td>\n",
       "      <td>0.862629</td>\n",
       "      <td>tokenizer_2024_150k</td>\n",
       "    </tr>\n",
       "    <tr>\n",
       "      <th>32</th>\n",
       "      <td>fr</td>\n",
       "      <td>100</td>\n",
       "      <td>1.000000</td>\n",
       "      <td>tokenizer_2024_32k</td>\n",
       "    </tr>\n",
       "    <tr>\n",
       "      <th>33</th>\n",
       "      <td>fr</td>\n",
       "      <td>100</td>\n",
       "      <td>0.965473</td>\n",
       "      <td>tokenizer_2024_50k</td>\n",
       "    </tr>\n",
       "    <tr>\n",
       "      <th>34</th>\n",
       "      <td>fr</td>\n",
       "      <td>100</td>\n",
       "      <td>0.950312</td>\n",
       "      <td>tokenizer_2024_60k</td>\n",
       "    </tr>\n",
       "    <tr>\n",
       "      <th>35</th>\n",
       "      <td>fr</td>\n",
       "      <td>100</td>\n",
       "      <td>0.930445</td>\n",
       "      <td>tokenizer_2024_80k</td>\n",
       "    </tr>\n",
       "    <tr>\n",
       "      <th>36</th>\n",
       "      <td>fr</td>\n",
       "      <td>100</td>\n",
       "      <td>0.922315</td>\n",
       "      <td>tokenizer_2024_90k</td>\n",
       "    </tr>\n",
       "    <tr>\n",
       "      <th>37</th>\n",
       "      <td>fr</td>\n",
       "      <td>100</td>\n",
       "      <td>0.915686</td>\n",
       "      <td>tokenizer_2024_100k</td>\n",
       "    </tr>\n",
       "    <tr>\n",
       "      <th>38</th>\n",
       "      <td>fr</td>\n",
       "      <td>100</td>\n",
       "      <td>0.904503</td>\n",
       "      <td>tokenizer_2024_120k</td>\n",
       "    </tr>\n",
       "    <tr>\n",
       "      <th>39</th>\n",
       "      <td>fr</td>\n",
       "      <td>100</td>\n",
       "      <td>0.891104</td>\n",
       "      <td>tokenizer_2024_150k</td>\n",
       "    </tr>\n",
       "  </tbody>\n",
       "</table>\n",
       "</div>"
      ],
      "text/plain": [
       "   lang    p     value            tokenizer\n",
       "0    pt  100  1.000000   tokenizer_2024_32k\n",
       "1    pt  100  0.962904   tokenizer_2024_50k\n",
       "2    pt  100  0.950176   tokenizer_2024_60k\n",
       "3    pt  100  0.932575   tokenizer_2024_80k\n",
       "4    pt  100  0.925552   tokenizer_2024_90k\n",
       "5    pt  100  0.920035  tokenizer_2024_100k\n",
       "6    pt  100  0.911274  tokenizer_2024_120k\n",
       "7    pt  100  0.901728  tokenizer_2024_150k\n",
       "8    en  100  1.000000   tokenizer_2024_32k\n",
       "9    en  100  0.968008   tokenizer_2024_50k\n",
       "10   en  100  0.956906   tokenizer_2024_60k\n",
       "11   en  100  0.940812   tokenizer_2024_80k\n",
       "12   en  100  0.935123   tokenizer_2024_90k\n",
       "13   en  100  0.930477  tokenizer_2024_100k\n",
       "14   en  100  0.922973  tokenizer_2024_120k\n",
       "15   en  100  0.914799  tokenizer_2024_150k\n",
       "16   es  100  1.000000   tokenizer_2024_32k\n",
       "17   es  100  0.962097   tokenizer_2024_50k\n",
       "18   es  100  0.947293   tokenizer_2024_60k\n",
       "19   es  100  0.925953   tokenizer_2024_80k\n",
       "20   es  100  0.916823   tokenizer_2024_90k\n",
       "21   es  100  0.910446  tokenizer_2024_100k\n",
       "22   es  100  0.898614  tokenizer_2024_120k\n",
       "23   es  100  0.883392  tokenizer_2024_150k\n",
       "24   it  100  1.000000   tokenizer_2024_32k\n",
       "25   it  100  0.958781   tokenizer_2024_50k\n",
       "26   it  100  0.938639   tokenizer_2024_60k\n",
       "27   it  100  0.911237   tokenizer_2024_80k\n",
       "28   it  100  0.898686   tokenizer_2024_90k\n",
       "29   it  100  0.890132  tokenizer_2024_100k\n",
       "30   it  100  0.876229  tokenizer_2024_120k\n",
       "31   it  100  0.862629  tokenizer_2024_150k\n",
       "32   fr  100  1.000000   tokenizer_2024_32k\n",
       "33   fr  100  0.965473   tokenizer_2024_50k\n",
       "34   fr  100  0.950312   tokenizer_2024_60k\n",
       "35   fr  100  0.930445   tokenizer_2024_80k\n",
       "36   fr  100  0.922315   tokenizer_2024_90k\n",
       "37   fr  100  0.915686  tokenizer_2024_100k\n",
       "38   fr  100  0.904503  tokenizer_2024_120k\n",
       "39   fr  100  0.891104  tokenizer_2024_150k"
      ]
     },
     "execution_count": 12,
     "metadata": {},
     "output_type": "execute_result"
    }
   ],
   "source": [
    "# normaliza pelo maior\n",
    "normalizada_base = []\n",
    "for base in dados_df_base.base.unique():\n",
    "    for p in dados_df_base.p.unique():\n",
    "        local = dados_df_base[(dados_df_base.base == base) & (dados_df_base.p == p)]\n",
    "        local.value  = local.value / local.value.max()\n",
    "        normalizada_base.append(local)\n",
    "normalizada_base = pd.concat(normalizada_base).reset_index(drop=True)\n",
    "\n",
    "normalizada_lang = []\n",
    "for lang in dados_df_lang.lang.unique():\n",
    "    for p in dados_df_lang.p.unique():\n",
    "        local = dados_df_lang[(dados_df_lang.lang == lang) & (dados_df_lang.p == p)]\n",
    "        local.value  = local.value / local.value.max()\n",
    "        normalizada_lang.append(local)\n",
    "normalizada_lang = pd.concat(normalizada_lang).reset_index(drop=True)\n",
    "normalizada_lang"
   ]
  },
  {
   "cell_type": "code",
   "execution_count": 13,
   "metadata": {},
   "outputs": [],
   "source": [
    "normalizada_base[\"tokenizer_size\"] = normalizada_base.tokenizer.apply(lambda x: int(x.split(\"_\")[-1].replace(\"k\", \"\")))\n",
    "normalizada_lang[\"tokenizer_size\"] = normalizada_lang.tokenizer.apply(lambda x: int(x.split(\"_\")[-1].replace(\"k\", \"\")))"
   ]
  },
  {
   "cell_type": "code",
   "execution_count": 14,
   "metadata": {},
   "outputs": [
    {
     "data": {
      "text/html": [
       "<div>\n",
       "<style scoped>\n",
       "    .dataframe tbody tr th:only-of-type {\n",
       "        vertical-align: middle;\n",
       "    }\n",
       "\n",
       "    .dataframe tbody tr th {\n",
       "        vertical-align: top;\n",
       "    }\n",
       "\n",
       "    .dataframe thead th {\n",
       "        text-align: right;\n",
       "    }\n",
       "</style>\n",
       "<table border=\"1\" class=\"dataframe\">\n",
       "  <thead>\n",
       "    <tr style=\"text-align: right;\">\n",
       "      <th></th>\n",
       "      <th></th>\n",
       "      <th>p</th>\n",
       "      <th>100</th>\n",
       "    </tr>\n",
       "    <tr>\n",
       "      <th>base</th>\n",
       "      <th>tokenizer_size</th>\n",
       "      <th>lang</th>\n",
       "      <th></th>\n",
       "    </tr>\n",
       "  </thead>\n",
       "  <tbody>\n",
       "    <tr>\n",
       "      <th rowspan=\"5\" valign=\"top\">ajibawa_2023_Code_290k_ShareGPT</th>\n",
       "      <th>32</th>\n",
       "      <th>en</th>\n",
       "      <td>1.000000</td>\n",
       "    </tr>\n",
       "    <tr>\n",
       "      <th>50</th>\n",
       "      <th>en</th>\n",
       "      <td>0.970518</td>\n",
       "    </tr>\n",
       "    <tr>\n",
       "      <th>60</th>\n",
       "      <th>en</th>\n",
       "      <td>0.961211</td>\n",
       "    </tr>\n",
       "    <tr>\n",
       "      <th>80</th>\n",
       "      <th>en</th>\n",
       "      <td>0.947480</td>\n",
       "    </tr>\n",
       "    <tr>\n",
       "      <th>90</th>\n",
       "      <th>en</th>\n",
       "      <td>0.943068</td>\n",
       "    </tr>\n",
       "    <tr>\n",
       "      <th>...</th>\n",
       "      <th>...</th>\n",
       "      <th>...</th>\n",
       "      <td>...</td>\n",
       "    </tr>\n",
       "    <tr>\n",
       "      <th rowspan=\"5\" valign=\"top\">wikipedia_pt</th>\n",
       "      <th>80</th>\n",
       "      <th>pt</th>\n",
       "      <td>0.915138</td>\n",
       "    </tr>\n",
       "    <tr>\n",
       "      <th>90</th>\n",
       "      <th>pt</th>\n",
       "      <td>0.906992</td>\n",
       "    </tr>\n",
       "    <tr>\n",
       "      <th>100</th>\n",
       "      <th>pt</th>\n",
       "      <td>0.900062</td>\n",
       "    </tr>\n",
       "    <tr>\n",
       "      <th>120</th>\n",
       "      <th>pt</th>\n",
       "      <td>0.888601</td>\n",
       "    </tr>\n",
       "    <tr>\n",
       "      <th>150</th>\n",
       "      <th>pt</th>\n",
       "      <td>0.876629</td>\n",
       "    </tr>\n",
       "  </tbody>\n",
       "</table>\n",
       "<p>176 rows × 1 columns</p>\n",
       "</div>"
      ],
      "text/plain": [
       "p                                                         100\n",
       "base                            tokenizer_size lang          \n",
       "ajibawa_2023_Code_290k_ShareGPT 32             en    1.000000\n",
       "                                50             en    0.970518\n",
       "                                60             en    0.961211\n",
       "                                80             en    0.947480\n",
       "                                90             en    0.943068\n",
       "...                                                       ...\n",
       "wikipedia_pt                    80             pt    0.915138\n",
       "                                90             pt    0.906992\n",
       "                                100            pt    0.900062\n",
       "                                120            pt    0.888601\n",
       "                                150            pt    0.876629\n",
       "\n",
       "[176 rows x 1 columns]"
      ]
     },
     "execution_count": 14,
     "metadata": {},
     "output_type": "execute_result"
    }
   ],
   "source": [
    "pt_base = pd.pivot_table(data=normalizada_base[normalizada_base.p.isin([100, 20, 50, 90, 99])], values=\"value\", index=[\"base\", \"tokenizer_size\", \"lang\"], columns=\"p\")\n",
    "pt_base"
   ]
  },
  {
   "cell_type": "code",
   "execution_count": 15,
   "metadata": {},
   "outputs": [
    {
     "data": {
      "text/html": [
       "<div>\n",
       "<style scoped>\n",
       "    .dataframe tbody tr th:only-of-type {\n",
       "        vertical-align: middle;\n",
       "    }\n",
       "\n",
       "    .dataframe tbody tr th {\n",
       "        vertical-align: top;\n",
       "    }\n",
       "\n",
       "    .dataframe thead th {\n",
       "        text-align: right;\n",
       "    }\n",
       "</style>\n",
       "<table border=\"1\" class=\"dataframe\">\n",
       "  <thead>\n",
       "    <tr style=\"text-align: right;\">\n",
       "      <th></th>\n",
       "      <th>p</th>\n",
       "      <th>100</th>\n",
       "    </tr>\n",
       "    <tr>\n",
       "      <th>lang</th>\n",
       "      <th>tokenizer_size</th>\n",
       "      <th></th>\n",
       "    </tr>\n",
       "  </thead>\n",
       "  <tbody>\n",
       "    <tr>\n",
       "      <th rowspan=\"8\" valign=\"top\">en</th>\n",
       "      <th>32</th>\n",
       "      <td>1.000000</td>\n",
       "    </tr>\n",
       "    <tr>\n",
       "      <th>50</th>\n",
       "      <td>0.968008</td>\n",
       "    </tr>\n",
       "    <tr>\n",
       "      <th>60</th>\n",
       "      <td>0.956906</td>\n",
       "    </tr>\n",
       "    <tr>\n",
       "      <th>80</th>\n",
       "      <td>0.940812</td>\n",
       "    </tr>\n",
       "    <tr>\n",
       "      <th>90</th>\n",
       "      <td>0.935123</td>\n",
       "    </tr>\n",
       "    <tr>\n",
       "      <th>100</th>\n",
       "      <td>0.930477</td>\n",
       "    </tr>\n",
       "    <tr>\n",
       "      <th>120</th>\n",
       "      <td>0.922973</td>\n",
       "    </tr>\n",
       "    <tr>\n",
       "      <th>150</th>\n",
       "      <td>0.914799</td>\n",
       "    </tr>\n",
       "    <tr>\n",
       "      <th rowspan=\"8\" valign=\"top\">es</th>\n",
       "      <th>32</th>\n",
       "      <td>1.000000</td>\n",
       "    </tr>\n",
       "    <tr>\n",
       "      <th>50</th>\n",
       "      <td>0.962097</td>\n",
       "    </tr>\n",
       "    <tr>\n",
       "      <th>60</th>\n",
       "      <td>0.947293</td>\n",
       "    </tr>\n",
       "    <tr>\n",
       "      <th>80</th>\n",
       "      <td>0.925953</td>\n",
       "    </tr>\n",
       "    <tr>\n",
       "      <th>90</th>\n",
       "      <td>0.916823</td>\n",
       "    </tr>\n",
       "    <tr>\n",
       "      <th>100</th>\n",
       "      <td>0.910446</td>\n",
       "    </tr>\n",
       "    <tr>\n",
       "      <th>120</th>\n",
       "      <td>0.898614</td>\n",
       "    </tr>\n",
       "    <tr>\n",
       "      <th>150</th>\n",
       "      <td>0.883392</td>\n",
       "    </tr>\n",
       "    <tr>\n",
       "      <th rowspan=\"8\" valign=\"top\">fr</th>\n",
       "      <th>32</th>\n",
       "      <td>1.000000</td>\n",
       "    </tr>\n",
       "    <tr>\n",
       "      <th>50</th>\n",
       "      <td>0.965473</td>\n",
       "    </tr>\n",
       "    <tr>\n",
       "      <th>60</th>\n",
       "      <td>0.950312</td>\n",
       "    </tr>\n",
       "    <tr>\n",
       "      <th>80</th>\n",
       "      <td>0.930445</td>\n",
       "    </tr>\n",
       "    <tr>\n",
       "      <th>90</th>\n",
       "      <td>0.922315</td>\n",
       "    </tr>\n",
       "    <tr>\n",
       "      <th>100</th>\n",
       "      <td>0.915686</td>\n",
       "    </tr>\n",
       "    <tr>\n",
       "      <th>120</th>\n",
       "      <td>0.904503</td>\n",
       "    </tr>\n",
       "    <tr>\n",
       "      <th>150</th>\n",
       "      <td>0.891104</td>\n",
       "    </tr>\n",
       "    <tr>\n",
       "      <th rowspan=\"8\" valign=\"top\">it</th>\n",
       "      <th>32</th>\n",
       "      <td>1.000000</td>\n",
       "    </tr>\n",
       "    <tr>\n",
       "      <th>50</th>\n",
       "      <td>0.958781</td>\n",
       "    </tr>\n",
       "    <tr>\n",
       "      <th>60</th>\n",
       "      <td>0.938639</td>\n",
       "    </tr>\n",
       "    <tr>\n",
       "      <th>80</th>\n",
       "      <td>0.911237</td>\n",
       "    </tr>\n",
       "    <tr>\n",
       "      <th>90</th>\n",
       "      <td>0.898686</td>\n",
       "    </tr>\n",
       "    <tr>\n",
       "      <th>100</th>\n",
       "      <td>0.890132</td>\n",
       "    </tr>\n",
       "    <tr>\n",
       "      <th>120</th>\n",
       "      <td>0.876229</td>\n",
       "    </tr>\n",
       "    <tr>\n",
       "      <th>150</th>\n",
       "      <td>0.862629</td>\n",
       "    </tr>\n",
       "    <tr>\n",
       "      <th rowspan=\"8\" valign=\"top\">pt</th>\n",
       "      <th>32</th>\n",
       "      <td>1.000000</td>\n",
       "    </tr>\n",
       "    <tr>\n",
       "      <th>50</th>\n",
       "      <td>0.962904</td>\n",
       "    </tr>\n",
       "    <tr>\n",
       "      <th>60</th>\n",
       "      <td>0.950176</td>\n",
       "    </tr>\n",
       "    <tr>\n",
       "      <th>80</th>\n",
       "      <td>0.932575</td>\n",
       "    </tr>\n",
       "    <tr>\n",
       "      <th>90</th>\n",
       "      <td>0.925552</td>\n",
       "    </tr>\n",
       "    <tr>\n",
       "      <th>100</th>\n",
       "      <td>0.920035</td>\n",
       "    </tr>\n",
       "    <tr>\n",
       "      <th>120</th>\n",
       "      <td>0.911274</td>\n",
       "    </tr>\n",
       "    <tr>\n",
       "      <th>150</th>\n",
       "      <td>0.901728</td>\n",
       "    </tr>\n",
       "  </tbody>\n",
       "</table>\n",
       "</div>"
      ],
      "text/plain": [
       "p                         100\n",
       "lang tokenizer_size          \n",
       "en   32              1.000000\n",
       "     50              0.968008\n",
       "     60              0.956906\n",
       "     80              0.940812\n",
       "     90              0.935123\n",
       "     100             0.930477\n",
       "     120             0.922973\n",
       "     150             0.914799\n",
       "es   32              1.000000\n",
       "     50              0.962097\n",
       "     60              0.947293\n",
       "     80              0.925953\n",
       "     90              0.916823\n",
       "     100             0.910446\n",
       "     120             0.898614\n",
       "     150             0.883392\n",
       "fr   32              1.000000\n",
       "     50              0.965473\n",
       "     60              0.950312\n",
       "     80              0.930445\n",
       "     90              0.922315\n",
       "     100             0.915686\n",
       "     120             0.904503\n",
       "     150             0.891104\n",
       "it   32              1.000000\n",
       "     50              0.958781\n",
       "     60              0.938639\n",
       "     80              0.911237\n",
       "     90              0.898686\n",
       "     100             0.890132\n",
       "     120             0.876229\n",
       "     150             0.862629\n",
       "pt   32              1.000000\n",
       "     50              0.962904\n",
       "     60              0.950176\n",
       "     80              0.932575\n",
       "     90              0.925552\n",
       "     100             0.920035\n",
       "     120             0.911274\n",
       "     150             0.901728"
      ]
     },
     "execution_count": 15,
     "metadata": {},
     "output_type": "execute_result"
    }
   ],
   "source": [
    "pt_lang = pd.pivot_table(data=normalizada_lang[normalizada_lang.p.isin([20, 50, 90, 99, 100])], values=\"value\", index=[\"lang\", \"tokenizer_size\"], columns=\"p\")\n",
    "pt_lang"
   ]
  },
  {
   "cell_type": "code",
   "execution_count": 16,
   "metadata": {},
   "outputs": [
    {
     "data": {
      "text/plain": [
       "<matplotlib.legend.Legend at 0x79b774165030>"
      ]
     },
     "execution_count": 16,
     "metadata": {},
     "output_type": "execute_result"
    },
    {
     "data": {
      "image/png": "[encoded data removed]",
      "text/plain": [
       "<Figure size 1000x1000 with 1 Axes>"
      ]
     },
     "metadata": {},
     "output_type": "display_data"
    }
   ],
   "source": [
    "num_tokenizers = len(tokenizers)\n",
    "\n",
    "import matplotlib.pyplot as plt\n",
    "\n",
    "fig, ax = plt.subplots()\n",
    "fig.set_size_inches(10, 10)\n",
    "\n",
    "for i in range(0, len(pt_lang), num_tokenizers):\n",
    "    indexes = [ind[1] for ind in pt_lang.iloc[i:i + num_tokenizers].index]\n",
    "    bases = [ind[0] for ind in pt_lang.iloc[i:i + num_tokenizers].index]\n",
    "    ax.plot(indexes, pt_lang.iloc[i:i + num_tokenizers][100].values, label=bases[0])\n",
    "ax.grid()\n",
    "ax.legend()"
   ]
  },
  {
   "cell_type": "code",
   "execution_count": 17,
   "metadata": {},
   "outputs": [
    {
     "data": {
      "application/vnd.plotly.v1+json": {
       "config": {
        "plotlyServerURL": "https://plot.ly"
       },
       "data": [
        {
         "name": "en",
         "type": "scatter",
         "x": [
          32,
          50,
          60,
          80,
          90,
          100,
          120,
          150
         ],
         "y": [
          1,
          0.9680081341136264,
          0.9569060977046718,
          0.9408124604091049,
          0.935122978897617,
          0.9304772034980394,
          0.9229726573171855,
          0.9147988762561865
         ]
        },
        {
         "name": "es",
         "type": "scatter",
         "x": [
          32,
          50,
          60,
          80,
          90,
          100,
          120,
          150
         ],
         "y": [
          1,
          0.9620973842417486,
          0.9472933338641822,
          0.9259532056641584,
          0.9168226035487252,
          0.9104457804143277,
          0.898614484213879,
          0.8833923902801556
         ]
        },
        {
         "name": "fr",
         "type": "scatter",
         "x": [
          32,
          50,
          60,
          80,
          90,
          100,
          120,
          150
         ],
         "y": [
          1,
          0.9654730619761323,
          0.9503116173299867,
          0.9304447837683743,
          0.9223152086296046,
          0.9156863773092777,
          0.9045028868019739,
          0.8911043246325143
         ]
        },
        {
         "name": "it",
         "type": "scatter",
         "x": [
          32,
          50,
          60,
          80,
          90,
          100,
          120,
          150
         ],
         "y": [
          1,
          0.9587814135372937,
          0.9386393697164874,
          0.9112369889010293,
          0.8986859508884927,
          0.8901316924492495,
          0.8762292253723618,
          0.8626286732992121
         ]
        },
        {
         "name": "pt",
         "type": "scatter",
         "x": [
          32,
          50,
          60,
          80,
          90,
          100,
          120,
          150
         ],
         "y": [
          1,
          0.9629041538133978,
          0.9501760753420249,
          0.9325746809996088,
          0.9255518199238459,
          0.9200346109853981,
          0.9112741695096529,
          0.9017275288548666
         ]
        }
       ],
       "layout": {
        "height": 1000,
        "template": {
         "data": {
          "bar": [
           {
            "error_x": {
             "color": "#2a3f5f"
            },
            "error_y": {
             "color": "#2a3f5f"
            },
            "marker": {
             "line": {
              "color": "#E5ECF6",
              "width": 0.5
             },
             "pattern": {
              "fillmode": "overlay",
              "size": 10,
              "solidity": 0.2
             }
            },
            "type": "bar"
           }
          ],
          "barpolar": [
           {
            "marker": {
             "line": {
              "color": "#E5ECF6",
              "width": 0.5
             },
             "pattern": {
              "fillmode": "overlay",
              "size": 10,
              "solidity": 0.2
             }
            },
            "type": "barpolar"
           }
          ],
          "carpet": [
           {
            "aaxis": {
             "endlinecolor": "#2a3f5f",
             "gridcolor": "white",
             "linecolor": "white",
             "minorgridcolor": "white",
             "startlinecolor": "#2a3f5f"
            },
            "baxis": {
             "endlinecolor": "#2a3f5f",
             "gridcolor": "white",
             "linecolor": "white",
             "minorgridcolor": "white",
             "startlinecolor": "#2a3f5f"
            },
            "type": "carpet"
           }
          ],
          "choropleth": [
           {
            "colorbar": {
             "outlinewidth": 0,
             "ticks": ""
            },
            "type": "choropleth"
           }
          ],
          "contour": [
           {
            "colorbar": {
             "outlinewidth": 0,
             "ticks": ""
            },
            "colorscale": [
             [
              0,
              "#0d0887"
             ],
             [
              0.1111111111111111,
              "#46039f"
             ],
             [
              0.2222222222222222,
              "#7201a8"
             ],
             [
              0.3333333333333333,
              "#9c179e"
             ],
             [
              0.4444444444444444,
              "#bd3786"
             ],
             [
              0.5555555555555556,
              "#d8576b"
             ],
             [
              0.6666666666666666,
              "#ed7953"
             ],
             [
              0.7777777777777778,
              "#fb9f3a"
             ],
             [
              0.8888888888888888,
              "#fdca26"
             ],
             [
              1,
              "#f0f921"
             ]
            ],
            "type": "contour"
           }
          ],
          "contourcarpet": [
           {
            "colorbar": {
             "outlinewidth": 0,
             "ticks": ""
            },
            "type": "contourcarpet"
           }
          ],
          "heatmap": [
           {
            "colorbar": {
             "outlinewidth": 0,
             "ticks": ""
            },
            "colorscale": [
             [
              0,
              "#0d0887"
             ],
             [
              0.1111111111111111,
              "#46039f"
             ],
             [
              0.2222222222222222,
              "#7201a8"
             ],
             [
              0.3333333333333333,
              "#9c179e"
             ],
             [
              0.4444444444444444,
              "#bd3786"
             ],
             [
              0.5555555555555556,
              "#d8576b"
             ],
             [
              0.6666666666666666,
              "#ed7953"
             ],
             [
              0.7777777777777778,
              "#fb9f3a"
             ],
             [
              0.8888888888888888,
              "#fdca26"
             ],
             [
              1,
              "#f0f921"
             ]
            ],
            "type": "heatmap"
           }
          ],
          "heatmapgl": [
           {
            "colorbar": {
             "outlinewidth": 0,
             "ticks": ""
            },
            "colorscale": [
             [
              0,
              "#0d0887"
             ],
             [
              0.1111111111111111,
              "#46039f"
             ],
             [
              0.2222222222222222,
              "#7201a8"
             ],
             [
              0.3333333333333333,
              "#9c179e"
             ],
             [
              0.4444444444444444,
              "#bd3786"
             ],
             [
              0.5555555555555556,
              "#d8576b"
             ],
             [
              0.6666666666666666,
              "#ed7953"
             ],
             [
              0.7777777777777778,
              "#fb9f3a"
             ],
             [
              0.8888888888888888,
              "#fdca26"
             ],
             [
              1,
              "#f0f921"
             ]
            ],
            "type": "heatmapgl"
           }
          ],
          "histogram": [
           {
            "marker": {
             "pattern": {
              "fillmode": "overlay",
              "size": 10,
              "solidity": 0.2
             }
            },
            "type": "histogram"
           }
          ],
          "histogram2d": [
           {
            "colorbar": {
             "outlinewidth": 0,
             "ticks": ""
            },
            "colorscale": [
             [
              0,
              "#0d0887"
             ],
             [
              0.1111111111111111,
              "#46039f"
             ],
             [
              0.2222222222222222,
              "#7201a8"
             ],
             [
              0.3333333333333333,
              "#9c179e"
             ],
             [
              0.4444444444444444,
              "#bd3786"
             ],
             [
              0.5555555555555556,
              "#d8576b"
             ],
             [
              0.6666666666666666,
              "#ed7953"
             ],
             [
              0.7777777777777778,
              "#fb9f3a"
             ],
             [
              0.8888888888888888,
              "#fdca26"
             ],
             [
              1,
              "#f0f921"
             ]
            ],
            "type": "histogram2d"
           }
          ],
          "histogram2dcontour": [
           {
            "colorbar": {
             "outlinewidth": 0,
             "ticks": ""
            },
            "colorscale": [
             [
              0,
              "#0d0887"
             ],
             [
              0.1111111111111111,
              "#46039f"
             ],
             [
              0.2222222222222222,
              "#7201a8"
             ],
             [
              0.3333333333333333,
              "#9c179e"
             ],
             [
              0.4444444444444444,
              "#bd3786"
             ],
             [
              0.5555555555555556,
              "#d8576b"
             ],
             [
              0.6666666666666666,
              "#ed7953"
             ],
             [
              0.7777777777777778,
              "#fb9f3a"
             ],
             [
              0.8888888888888888,
              "#fdca26"
             ],
             [
              1,
              "#f0f921"
             ]
            ],
            "type": "histogram2dcontour"
           }
          ],
          "mesh3d": [
           {
            "colorbar": {
             "outlinewidth": 0,
             "ticks": ""
            },
            "type": "mesh3d"
           }
          ],
          "parcoords": [
           {
            "line": {
             "colorbar": {
              "outlinewidth": 0,
              "ticks": ""
             }
            },
            "type": "parcoords"
           }
          ],
          "pie": [
           {
            "automargin": true,
            "type": "pie"
           }
          ],
          "scatter": [
           {
            "fillpattern": {
             "fillmode": "overlay",
             "size": 10,
             "solidity": 0.2
            },
            "type": "scatter"
           }
          ],
          "scatter3d": [
           {
            "line": {
             "colorbar": {
              "outlinewidth": 0,
              "ticks": ""
             }
            },
            "marker": {
             "colorbar": {
              "outlinewidth": 0,
              "ticks": ""
             }
            },
            "type": "scatter3d"
           }
          ],
          "scattercarpet": [
           {
            "marker": {
             "colorbar": {
              "outlinewidth": 0,
              "ticks": ""
             }
            },
            "type": "scattercarpet"
           }
          ],
          "scattergeo": [
           {
            "marker": {
             "colorbar": {
              "outlinewidth": 0,
              "ticks": ""
             }
            },
            "type": "scattergeo"
           }
          ],
          "scattergl": [
           {
            "marker": {
             "colorbar": {
              "outlinewidth": 0,
              "ticks": ""
             }
            },
            "type": "scattergl"
           }
          ],
          "scattermapbox": [
           {
            "marker": {
             "colorbar": {
              "outlinewidth": 0,
              "ticks": ""
             }
            },
            "type": "scattermapbox"
           }
          ],
          "scatterpolar": [
           {
            "marker": {
             "colorbar": {
              "outlinewidth": 0,
              "ticks": ""
             }
            },
            "type": "scatterpolar"
           }
          ],
          "scatterpolargl": [
           {
            "marker": {
             "colorbar": {
              "outlinewidth": 0,
              "ticks": ""
             }
            },
            "type": "scatterpolargl"
           }
          ],
          "scatterternary": [
           {
            "marker": {
             "colorbar": {
              "outlinewidth": 0,
              "ticks": ""
             }
            },
            "type": "scatterternary"
           }
          ],
          "surface": [
           {
            "colorbar": {
             "outlinewidth": 0,
             "ticks": ""
            },
            "colorscale": [
             [
              0,
              "#0d0887"
             ],
             [
              0.1111111111111111,
              "#46039f"
             ],
             [
              0.2222222222222222,
              "#7201a8"
             ],
             [
              0.3333333333333333,
              "#9c179e"
             ],
             [
              0.4444444444444444,
              "#bd3786"
             ],
             [
              0.5555555555555556,
              "#d8576b"
             ],
             [
              0.6666666666666666,
              "#ed7953"
             ],
             [
              0.7777777777777778,
              "#fb9f3a"
             ],
             [
              0.8888888888888888,
              "#fdca26"
             ],
             [
              1,
              "#f0f921"
             ]
            ],
            "type": "surface"
           }
          ],
          "table": [
           {
            "cells": {
             "fill": {
              "color": "#EBF0F8"
             },
             "line": {
              "color": "white"
             }
            },
            "header": {
             "fill": {
              "color": "#C8D4E3"
             },
             "line": {
              "color": "white"
             }
            },
            "type": "table"
           }
          ]
         },
         "layout": {
          "annotationdefaults": {
           "arrowcolor": "#2a3f5f",
           "arrowhead": 0,
           "arrowwidth": 1
          },
          "autotypenumbers": "strict",
          "coloraxis": {
           "colorbar": {
            "outlinewidth": 0,
            "ticks": ""
           }
          },
          "colorscale": {
           "diverging": [
            [
             0,
             "#8e0152"
            ],
            [
             0.1,
             "#c51b7d"
            ],
            [
             0.2,
             "#de77ae"
            ],
            [
             0.3,
             "#f1b6da"
            ],
            [
             0.4,
             "#fde0ef"
            ],
            [
             0.5,
             "#f7f7f7"
            ],
            [
             0.6,
             "#e6f5d0"
            ],
            [
             0.7,
             "#b8e186"
            ],
            [
             0.8,
             "#7fbc41"
            ],
            [
             0.9,
             "#4d9221"
            ],
            [
             1,
             "#276419"
            ]
           ],
           "sequential": [
            [
             0,
             "#0d0887"
            ],
            [
             0.1111111111111111,
             "#46039f"
            ],
            [
             0.2222222222222222,
             "#7201a8"
            ],
            [
             0.3333333333333333,
             "#9c179e"
            ],
            [
             0.4444444444444444,
             "#bd3786"
            ],
            [
             0.5555555555555556,
             "#d8576b"
            ],
            [
             0.6666666666666666,
             "#ed7953"
            ],
            [
             0.7777777777777778,
             "#fb9f3a"
            ],
            [
             0.8888888888888888,
             "#fdca26"
            ],
            [
             1,
             "#f0f921"
            ]
           ],
           "sequentialminus": [
            [
             0,
             "#0d0887"
            ],
            [
             0.1111111111111111,
             "#46039f"
            ],
            [
             0.2222222222222222,
             "#7201a8"
            ],
            [
             0.3333333333333333,
             "#9c179e"
            ],
            [
             0.4444444444444444,
             "#bd3786"
            ],
            [
             0.5555555555555556,
             "#d8576b"
            ],
            [
             0.6666666666666666,
             "#ed7953"
            ],
            [
             0.7777777777777778,
             "#fb9f3a"
            ],
            [
             0.8888888888888888,
             "#fdca26"
            ],
            [
             1,
             "#f0f921"
            ]
           ]
          },
          "colorway": [
           "#636efa",
           "#EF553B",
           "#00cc96",
           "#ab63fa",
           "#FFA15A",
           "#19d3f3",
           "#FF6692",
           "#B6E880",
           "#FF97FF",
           "#FECB52"
          ],
          "font": {
           "color": "#2a3f5f"
          },
          "geo": {
           "bgcolor": "white",
           "lakecolor": "white",
           "landcolor": "#E5ECF6",
           "showlakes": true,
           "showland": true,
           "subunitcolor": "white"
          },
          "hoverlabel": {
           "align": "left"
          },
          "hovermode": "closest",
          "mapbox": {
           "style": "light"
          },
          "paper_bgcolor": "white",
          "plot_bgcolor": "#E5ECF6",
          "polar": {
           "angularaxis": {
            "gridcolor": "white",
            "linecolor": "white",
            "ticks": ""
           },
           "bgcolor": "#E5ECF6",
           "radialaxis": {
            "gridcolor": "white",
            "linecolor": "white",
            "ticks": ""
           }
          },
          "scene": {
           "xaxis": {
            "backgroundcolor": "#E5ECF6",
            "gridcolor": "white",
            "gridwidth": 2,
            "linecolor": "white",
            "showbackground": true,
            "ticks": "",
            "zerolinecolor": "white"
           },
           "yaxis": {
            "backgroundcolor": "#E5ECF6",
            "gridcolor": "white",
            "gridwidth": 2,
            "linecolor": "white",
            "showbackground": true,
            "ticks": "",
            "zerolinecolor": "white"
           },
           "zaxis": {
            "backgroundcolor": "#E5ECF6",
            "gridcolor": "white",
            "gridwidth": 2,
            "linecolor": "white",
            "showbackground": true,
            "ticks": "",
            "zerolinecolor": "white"
           }
          },
          "shapedefaults": {
           "line": {
            "color": "#2a3f5f"
           }
          },
          "ternary": {
           "aaxis": {
            "gridcolor": "white",
            "linecolor": "white",
            "ticks": ""
           },
           "baxis": {
            "gridcolor": "white",
            "linecolor": "white",
            "ticks": ""
           },
           "bgcolor": "#E5ECF6",
           "caxis": {
            "gridcolor": "white",
            "linecolor": "white",
            "ticks": ""
           }
          },
          "title": {
           "x": 0.05
          },
          "xaxis": {
           "automargin": true,
           "gridcolor": "white",
           "linecolor": "white",
           "ticks": "",
           "title": {
            "standoff": 15
           },
           "zerolinecolor": "white",
           "zerolinewidth": 2
          },
          "yaxis": {
           "automargin": true,
           "gridcolor": "white",
           "linecolor": "white",
           "ticks": "",
           "title": {
            "standoff": 15
           },
           "zerolinecolor": "white",
           "zerolinewidth": 2
          }
         }
        }
       }
      }
     },
     "metadata": {},
     "output_type": "display_data"
    }
   ],
   "source": [
    "num_tokenizers = len(tokenizers)\n",
    "\n",
    "import plotly.graph_objects as go\n",
    "\n",
    "fig = go.Figure()\n",
    "\n",
    "for i in range(0, len(pt_lang), num_tokenizers):\n",
    "    indexes = [ind[1] for ind in pt_lang.iloc[i:i + num_tokenizers].index]\n",
    "    bases = [ind[0] for ind in pt_lang.iloc[i:i + num_tokenizers].index]\n",
    "    fig.add_trace(\n",
    "        go.Scatter(\n",
    "            x = indexes,\n",
    "            y = pt_lang.iloc[i:i + num_tokenizers][100].values,\n",
    "            name = bases[0],\n",
    "        )\n",
    "    )\n",
    "fig.update_layout(\n",
    "    height=1000\n",
    ")\n",
    "fig.show()"
   ]
  },
  {
   "cell_type": "code",
   "execution_count": 18,
   "metadata": {},
   "outputs": [
    {
     "data": {
      "application/vnd.plotly.v1+json": {
       "config": {
        "plotlyServerURL": "https://plot.ly"
       },
       "data": [
        {
         "line": {
          "color": "red",
          "dash": "dot"
         },
         "name": "ajibawa_2023_Code_290k_ShareGPT",
         "type": "scatter",
         "x": [
          32,
          50,
          60,
          80,
          90,
          100,
          120,
          150
         ],
         "y": [
          1,
          0.9705183961259282,
          0.9612107860202259,
          0.9474797229539799,
          0.9430683937877677,
          0.939453771106227,
          0.933594514502656,
          0.9274408228938804
         ]
        },
        {
         "line": {
          "color": "green",
          "dash": "dot"
         },
         "name": "alpaca",
         "type": "scatter",
         "x": [
          32,
          50,
          60,
          80,
          90,
          100,
          120,
          150
         ],
         "y": [
          1,
          0.9541393015192942,
          0.9404684725314992,
          0.9223722411703357,
          0.9155791075908335,
          0.9096034050229727,
          0.902443836852045,
          0.8946641486033204
         ]
        },
        {
         "line": {
          "color": "green",
          "dash": "dash"
         },
         "name": "blogset_br",
         "type": "scatter",
         "x": [
          32,
          50,
          60,
          80,
          90,
          100,
          120,
          150
         ],
         "y": [
          1,
          0.9604826089151396,
          0.9467279182863009,
          0.9280495397714843,
          0.9208793982533192,
          0.9147979874467834,
          0.9056405337641139,
          0.8953102125296583
         ]
        },
        {
         "line": {
          "color": "green",
          "dash": "dash"
         },
         "name": "cc100",
         "type": "scatter",
         "x": [
          32,
          50,
          60,
          80,
          90,
          100,
          120,
          150
         ],
         "y": [
          1,
          0.9574493316822087,
          0.9429495380727909,
          0.9230402587066038,
          0.9156786145148453,
          0.9098586281525877,
          0.9007341119161484,
          0.8907087749065541
         ]
        },
        {
         "line": {
          "color": "green",
          "dash": "dash"
         },
         "name": "commom_crawl",
         "type": "scatter",
         "x": [
          32,
          50,
          60,
          80,
          90,
          100,
          120,
          150
         ],
         "y": [
          1,
          0.9528079159692335,
          0.9365161158870223,
          0.9150014155966769,
          0.9064936203381558,
          0.8998752616484653,
          0.8882531537006303,
          0.8759961002976899
         ]
        },
        {
         "line": {
          "color": "red",
          "dash": "dash"
         },
         "name": "cshorten_ml_arxiv_papers",
         "type": "scatter",
         "x": [
          32,
          50,
          60,
          80,
          90,
          100,
          120,
          150
         ],
         "y": [
          1,
          0.939082129794278,
          0.9201471715025082,
          0.8919597808330081,
          0.8820098017955501,
          0.8753270879414784,
          0.8626917349756401,
          0.8491022249208483
         ]
        },
        {
         "line": {
          "color": "red",
          "dash": "dash"
         },
         "name": "dkyoon_slimpajama_6b",
         "type": "scatter",
         "x": [
          32,
          50,
          60,
          80,
          90,
          100,
          120,
          150
         ],
         "y": [
          1,
          0.9521753746059392,
          0.935557102535665,
          0.9123038739499432,
          0.9038893021031577,
          0.8972278763462918,
          0.8856025855155018,
          0.8733614436677193
         ]
        },
        {
         "line": {
          "color": "green",
          "dash": "dashdot"
         },
         "name": "itd_stj",
         "type": "scatter",
         "x": [
          32,
          50,
          60,
          80,
          90,
          100,
          120,
          150
         ],
         "y": [
          1,
          0.9546356578883715,
          0.9389472665748353,
          0.917763762606652,
          0.9093069619527994,
          0.9031620704317516,
          0.8940183170421822,
          0.8836641213599525
         ]
        },
        {
         "line": {
          "color": "green",
          "dash": "dashdot"
         },
         "name": "livros",
         "type": "scatter",
         "x": [
          32,
          50,
          60,
          80,
          90,
          100,
          120,
          150
         ],
         "y": [
          1,
          0.9613535978459816,
          0.9474995840203301,
          0.9288618039903795,
          0.9212351949053835,
          0.915032370781588,
          0.9050148240027833,
          0.8937379933140722
         ]
        },
        {
         "line": {
          "color": "red",
          "dash": "dot"
         },
         "name": "open_orca_slimorca_dedup",
         "type": "scatter",
         "x": [
          32,
          50,
          60,
          80,
          90,
          100,
          120,
          150
         ],
         "y": [
          1,
          0.9552785859120162,
          0.9406241734990743,
          0.9193401216609363,
          0.9116128890064357,
          0.9056312263069735,
          0.8961407916776867,
          0.8861875165300185
         ]
        },
        {
         "line": {
          "color": "blue",
          "dash": "dashdot"
         },
         "name": "pdfs_dominio_publico",
         "type": "scatter",
         "x": [
          32,
          50,
          60,
          80,
          90,
          100,
          120,
          150
         ],
         "y": [
          1,
          0.9670531485979525,
          0.9552350882195164,
          0.938324607190864,
          0.9317713537011942,
          0.9264164500192724,
          0.918037604402782,
          0.9088051033821665
         ]
        },
        {
         "line": {
          "color": "green",
          "dash": "dashdot"
         },
         "name": "pdfs_tjsp",
         "type": "scatter",
         "x": [
          32,
          50,
          60,
          80,
          90,
          100,
          120,
          150
         ],
         "y": [
          1,
          0.9587731841161737,
          0.9452537085613074,
          0.926936999745037,
          0.9191834816441833,
          0.9139853502897877,
          0.9044298223486466,
          0.894272608671656
         ]
        },
        {
         "line": {
          "color": "green",
          "dash": "dashdot"
         },
         "name": "sentencas",
         "type": "scatter",
         "x": [
          32,
          50,
          60,
          80,
          90,
          100,
          120,
          150
         ],
         "y": [
          1,
          0.9590123563262922,
          0.9461224016779647,
          0.9292403409561785,
          0.922109125651286,
          0.9167741896361558,
          0.908417380922382,
          0.8995404193159989
         ]
        },
        {
         "line": {
          "color": "red",
          "dash": "dot"
         },
         "name": "the_stack_v1_html",
         "type": "scatter",
         "x": [
          32,
          50,
          60,
          80,
          90,
          100,
          120,
          150
         ],
         "y": [
          1,
          0.9810902650123828,
          0.9744900588042991,
          0.9650575249508089,
          0.9618564284569969,
          0.9588206360726276,
          0.9543859136982416,
          0.9494510584650739
         ]
        },
        {
         "line": {
          "color": "red",
          "dash": "dot"
         },
         "name": "the_stack_v1_markdown",
         "type": "scatter",
         "x": [
          32,
          50,
          60,
          80,
          90,
          100,
          120,
          150
         ],
         "y": [
          1,
          0.9595951582941648,
          0.9466414136406005,
          0.9273744124704996,
          0.9201455684905698,
          0.914504954749486,
          0.9056878805307101,
          0.8957635073941125
         ]
        },
        {
         "line": {
          "color": "red",
          "dash": "dot"
         },
         "name": "the_stack_v1_powershell",
         "type": "scatter",
         "x": [
          32,
          50,
          60,
          80,
          90,
          100,
          120,
          150
         ],
         "y": [
          1,
          0.9643294130481406,
          0.9521042968590198,
          0.9344307817801574,
          0.9283104756780747,
          0.9237032004849632,
          0.9160636650678912,
          0.9076580066670055
         ]
        },
        {
         "line": {
          "color": "red",
          "dash": "dot"
         },
         "name": "the_stack_v1_python",
         "type": "scatter",
         "x": [
          32,
          50,
          60,
          80,
          90,
          100,
          120,
          150
         ],
         "y": [
          1,
          0.9686663507904975,
          0.9570165271070177,
          0.940893970422467,
          0.9347209001122321,
          0.9295389781181177,
          0.9214675860175146,
          0.9127023288001221
         ]
        },
        {
         "line": {
          "color": "red",
          "dash": "dot"
         },
         "name": "the_stack_v1_shell",
         "type": "scatter",
         "x": [
          32,
          50,
          60,
          80,
          90,
          100,
          120,
          150
         ],
         "y": [
          1,
          0.9723819467562469,
          0.9631402011520342,
          0.9484913597433647,
          0.9433591582685188,
          0.9398057077141906,
          0.9327605947805385,
          0.9252564839754259
         ]
        },
        {
         "line": {
          "color": "red",
          "dash": "dot"
         },
         "name": "the_stack_v1_sql",
         "type": "scatter",
         "x": [
          32,
          50,
          60,
          80,
          90,
          100,
          120,
          150
         ],
         "y": [
          1,
          0.9735894410401049,
          0.9614551760338397,
          0.9444176386214399,
          0.9380514993471564,
          0.9326335551393342,
          0.9238234558749348,
          0.9138465722419367
         ]
        },
        {
         "line": {
          "color": "red",
          "dash": "dot"
         },
         "name": "vikp_textbook_quality_programming",
         "type": "scatter",
         "x": [
          32,
          50,
          60,
          80,
          90,
          100,
          120,
          150
         ],
         "y": [
          1,
          0.9586266918574039,
          0.9466825657385325,
          0.9287372626753801,
          0.9231684578932697,
          0.9185542168674699,
          0.9116604206027193,
          0.9042729271843156
         ]
        },
        {
         "line": {
          "color": "red",
          "dash": "dash"
         },
         "name": "wikipedia_en",
         "type": "scatter",
         "x": [
          32,
          50,
          60,
          80,
          90,
          100,
          120,
          150
         ],
         "y": [
          1,
          0.9483132715603922,
          0.9314147158156049,
          0.9065227222430697,
          0.8971846164208258,
          0.8896698707771652,
          0.8771721559911093,
          0.8641789106024305
         ]
        },
        {
         "line": {
          "color": "green",
          "dash": "dash"
         },
         "name": "wikipedia_pt",
         "type": "scatter",
         "x": [
          32,
          50,
          60,
          80,
          90,
          100,
          120,
          150
         ],
         "y": [
          1,
          0.953718023373915,
          0.9378654713378384,
          0.915137521498314,
          0.9069918611107349,
          0.9000622943271536,
          0.8886014923554026,
          0.87662879352139
         ]
        }
       ],
       "layout": {
        "height": 1000,
        "template": {
         "data": {
          "bar": [
           {
            "error_x": {
             "color": "#2a3f5f"
            },
            "error_y": {
             "color": "#2a3f5f"
            },
            "marker": {
             "line": {
              "color": "#E5ECF6",
              "width": 0.5
             },
             "pattern": {
              "fillmode": "overlay",
              "size": 10,
              "solidity": 0.2
             }
            },
            "type": "bar"
           }
          ],
          "barpolar": [
           {
            "marker": {
             "line": {
              "color": "#E5ECF6",
              "width": 0.5
             },
             "pattern": {
              "fillmode": "overlay",
              "size": 10,
              "solidity": 0.2
             }
            },
            "type": "barpolar"
           }
          ],
          "carpet": [
           {
            "aaxis": {
             "endlinecolor": "#2a3f5f",
             "gridcolor": "white",
             "linecolor": "white",
             "minorgridcolor": "white",
             "startlinecolor": "#2a3f5f"
            },
            "baxis": {
             "endlinecolor": "#2a3f5f",
             "gridcolor": "white",
             "linecolor": "white",
             "minorgridcolor": "white",
             "startlinecolor": "#2a3f5f"
            },
            "type": "carpet"
           }
          ],
          "choropleth": [
           {
            "colorbar": {
             "outlinewidth": 0,
             "ticks": ""
            },
            "type": "choropleth"
           }
          ],
          "contour": [
           {
            "colorbar": {
             "outlinewidth": 0,
             "ticks": ""
            },
            "colorscale": [
             [
              0,
              "#0d0887"
             ],
             [
              0.1111111111111111,
              "#46039f"
             ],
             [
              0.2222222222222222,
              "#7201a8"
             ],
             [
              0.3333333333333333,
              "#9c179e"
             ],
             [
              0.4444444444444444,
              "#bd3786"
             ],
             [
              0.5555555555555556,
              "#d8576b"
             ],
             [
              0.6666666666666666,
              "#ed7953"
             ],
             [
              0.7777777777777778,
              "#fb9f3a"
             ],
             [
              0.8888888888888888,
              "#fdca26"
             ],
             [
              1,
              "#f0f921"
             ]
            ],
            "type": "contour"
           }
          ],
          "contourcarpet": [
           {
            "colorbar": {
             "outlinewidth": 0,
             "ticks": ""
            },
            "type": "contourcarpet"
           }
          ],
          "heatmap": [
           {
            "colorbar": {
             "outlinewidth": 0,
             "ticks": ""
            },
            "colorscale": [
             [
              0,
              "#0d0887"
             ],
             [
              0.1111111111111111,
              "#46039f"
             ],
             [
              0.2222222222222222,
              "#7201a8"
             ],
             [
              0.3333333333333333,
              "#9c179e"
             ],
             [
              0.4444444444444444,
              "#bd3786"
             ],
             [
              0.5555555555555556,
              "#d8576b"
             ],
             [
              0.6666666666666666,
              "#ed7953"
             ],
             [
              0.7777777777777778,
              "#fb9f3a"
             ],
             [
              0.8888888888888888,
              "#fdca26"
             ],
             [
              1,
              "#f0f921"
             ]
            ],
            "type": "heatmap"
           }
          ],
          "heatmapgl": [
           {
            "colorbar": {
             "outlinewidth": 0,
             "ticks": ""
            },
            "colorscale": [
             [
              0,
              "#0d0887"
             ],
             [
              0.1111111111111111,
              "#46039f"
             ],
             [
              0.2222222222222222,
              "#7201a8"
             ],
             [
              0.3333333333333333,
              "#9c179e"
             ],
             [
              0.4444444444444444,
              "#bd3786"
             ],
             [
              0.5555555555555556,
              "#d8576b"
             ],
             [
              0.6666666666666666,
              "#ed7953"
             ],
             [
              0.7777777777777778,
              "#fb9f3a"
             ],
             [
              0.8888888888888888,
              "#fdca26"
             ],
             [
              1,
              "#f0f921"
             ]
            ],
            "type": "heatmapgl"
           }
          ],
          "histogram": [
           {
            "marker": {
             "pattern": {
              "fillmode": "overlay",
              "size": 10,
              "solidity": 0.2
             }
            },
            "type": "histogram"
           }
          ],
          "histogram2d": [
           {
            "colorbar": {
             "outlinewidth": 0,
             "ticks": ""
            },
            "colorscale": [
             [
              0,
              "#0d0887"
             ],
             [
              0.1111111111111111,
              "#46039f"
             ],
             [
              0.2222222222222222,
              "#7201a8"
             ],
             [
              0.3333333333333333,
              "#9c179e"
             ],
             [
              0.4444444444444444,
              "#bd3786"
             ],
             [
              0.5555555555555556,
              "#d8576b"
             ],
             [
              0.6666666666666666,
              "#ed7953"
             ],
             [
              0.7777777777777778,
              "#fb9f3a"
             ],
             [
              0.8888888888888888,
              "#fdca26"
             ],
             [
              1,
              "#f0f921"
             ]
            ],
            "type": "histogram2d"
           }
          ],
          "histogram2dcontour": [
           {
            "colorbar": {
             "outlinewidth": 0,
             "ticks": ""
            },
            "colorscale": [
             [
              0,
              "#0d0887"
             ],
             [
              0.1111111111111111,
              "#46039f"
             ],
             [
              0.2222222222222222,
              "#7201a8"
             ],
             [
              0.3333333333333333,
              "#9c179e"
             ],
             [
              0.4444444444444444,
              "#bd3786"
             ],
             [
              0.5555555555555556,
              "#d8576b"
             ],
             [
              0.6666666666666666,
              "#ed7953"
             ],
             [
              0.7777777777777778,
              "#fb9f3a"
             ],
             [
              0.8888888888888888,
              "#fdca26"
             ],
             [
              1,
              "#f0f921"
             ]
            ],
            "type": "histogram2dcontour"
           }
          ],
          "mesh3d": [
           {
            "colorbar": {
             "outlinewidth": 0,
             "ticks": ""
            },
            "type": "mesh3d"
           }
          ],
          "parcoords": [
           {
            "line": {
             "colorbar": {
              "outlinewidth": 0,
              "ticks": ""
             }
            },
            "type": "parcoords"
           }
          ],
          "pie": [
           {
            "automargin": true,
            "type": "pie"
           }
          ],
          "scatter": [
           {
            "fillpattern": {
             "fillmode": "overlay",
             "size": 10,
             "solidity": 0.2
            },
            "type": "scatter"
           }
          ],
          "scatter3d": [
           {
            "line": {
             "colorbar": {
              "outlinewidth": 0,
              "ticks": ""
             }
            },
            "marker": {
             "colorbar": {
              "outlinewidth": 0,
              "ticks": ""
             }
            },
            "type": "scatter3d"
           }
          ],
          "scattercarpet": [
           {
            "marker": {
             "colorbar": {
              "outlinewidth": 0,
              "ticks": ""
             }
            },
            "type": "scattercarpet"
           }
          ],
          "scattergeo": [
           {
            "marker": {
             "colorbar": {
              "outlinewidth": 0,
              "ticks": ""
             }
            },
            "type": "scattergeo"
           }
          ],
          "scattergl": [
           {
            "marker": {
             "colorbar": {
              "outlinewidth": 0,
              "ticks": ""
             }
            },
            "type": "scattergl"
           }
          ],
          "scattermapbox": [
           {
            "marker": {
             "colorbar": {
              "outlinewidth": 0,
              "ticks": ""
             }
            },
            "type": "scattermapbox"
           }
          ],
          "scatterpolar": [
           {
            "marker": {
             "colorbar": {
              "outlinewidth": 0,
              "ticks": ""
             }
            },
            "type": "scatterpolar"
           }
          ],
          "scatterpolargl": [
           {
            "marker": {
             "colorbar": {
              "outlinewidth": 0,
              "ticks": ""
             }
            },
            "type": "scatterpolargl"
           }
          ],
          "scatterternary": [
           {
            "marker": {
             "colorbar": {
              "outlinewidth": 0,
              "ticks": ""
             }
            },
            "type": "scatterternary"
           }
          ],
          "surface": [
           {
            "colorbar": {
             "outlinewidth": 0,
             "ticks": ""
            },
            "colorscale": [
             [
              0,
              "#0d0887"
             ],
             [
              0.1111111111111111,
              "#46039f"
             ],
             [
              0.2222222222222222,
              "#7201a8"
             ],
             [
              0.3333333333333333,
              "#9c179e"
             ],
             [
              0.4444444444444444,
              "#bd3786"
             ],
             [
              0.5555555555555556,
              "#d8576b"
             ],
             [
              0.6666666666666666,
              "#ed7953"
             ],
             [
              0.7777777777777778,
              "#fb9f3a"
             ],
             [
              0.8888888888888888,
              "#fdca26"
             ],
             [
              1,
              "#f0f921"
             ]
            ],
            "type": "surface"
           }
          ],
          "table": [
           {
            "cells": {
             "fill": {
              "color": "#EBF0F8"
             },
             "line": {
              "color": "white"
             }
            },
            "header": {
             "fill": {
              "color": "#C8D4E3"
             },
             "line": {
              "color": "white"
             }
            },
            "type": "table"
           }
          ]
         },
         "layout": {
          "annotationdefaults": {
           "arrowcolor": "#2a3f5f",
           "arrowhead": 0,
           "arrowwidth": 1
          },
          "autotypenumbers": "strict",
          "coloraxis": {
           "colorbar": {
            "outlinewidth": 0,
            "ticks": ""
           }
          },
          "colorscale": {
           "diverging": [
            [
             0,
             "#8e0152"
            ],
            [
             0.1,
             "#c51b7d"
            ],
            [
             0.2,
             "#de77ae"
            ],
            [
             0.3,
             "#f1b6da"
            ],
            [
             0.4,
             "#fde0ef"
            ],
            [
             0.5,
             "#f7f7f7"
            ],
            [
             0.6,
             "#e6f5d0"
            ],
            [
             0.7,
             "#b8e186"
            ],
            [
             0.8,
             "#7fbc41"
            ],
            [
             0.9,
             "#4d9221"
            ],
            [
             1,
             "#276419"
            ]
           ],
           "sequential": [
            [
             0,
             "#0d0887"
            ],
            [
             0.1111111111111111,
             "#46039f"
            ],
            [
             0.2222222222222222,
             "#7201a8"
            ],
            [
             0.3333333333333333,
             "#9c179e"
            ],
            [
             0.4444444444444444,
             "#bd3786"
            ],
            [
             0.5555555555555556,
             "#d8576b"
            ],
            [
             0.6666666666666666,
             "#ed7953"
            ],
            [
             0.7777777777777778,
             "#fb9f3a"
            ],
            [
             0.8888888888888888,
             "#fdca26"
            ],
            [
             1,
             "#f0f921"
            ]
           ],
           "sequentialminus": [
            [
             0,
             "#0d0887"
            ],
            [
             0.1111111111111111,
             "#46039f"
            ],
            [
             0.2222222222222222,
             "#7201a8"
            ],
            [
             0.3333333333333333,
             "#9c179e"
            ],
            [
             0.4444444444444444,
             "#bd3786"
            ],
            [
             0.5555555555555556,
             "#d8576b"
            ],
            [
             0.6666666666666666,
             "#ed7953"
            ],
            [
             0.7777777777777778,
             "#fb9f3a"
            ],
            [
             0.8888888888888888,
             "#fdca26"
            ],
            [
             1,
             "#f0f921"
            ]
           ]
          },
          "colorway": [
           "#636efa",
           "#EF553B",
           "#00cc96",
           "#ab63fa",
           "#FFA15A",
           "#19d3f3",
           "#FF6692",
           "#B6E880",
           "#FF97FF",
           "#FECB52"
          ],
          "font": {
           "color": "#2a3f5f"
          },
          "geo": {
           "bgcolor": "white",
           "lakecolor": "white",
           "landcolor": "#E5ECF6",
           "showlakes": true,
           "showland": true,
           "subunitcolor": "white"
          },
          "hoverlabel": {
           "align": "left"
          },
          "hovermode": "closest",
          "mapbox": {
           "style": "light"
          },
          "paper_bgcolor": "white",
          "plot_bgcolor": "#E5ECF6",
          "polar": {
           "angularaxis": {
            "gridcolor": "white",
            "linecolor": "white",
            "ticks": ""
           },
           "bgcolor": "#E5ECF6",
           "radialaxis": {
            "gridcolor": "white",
            "linecolor": "white",
            "ticks": ""
           }
          },
          "scene": {
           "xaxis": {
            "backgroundcolor": "#E5ECF6",
            "gridcolor": "white",
            "gridwidth": 2,
            "linecolor": "white",
            "showbackground": true,
            "ticks": "",
            "zerolinecolor": "white"
           },
           "yaxis": {
            "backgroundcolor": "#E5ECF6",
            "gridcolor": "white",
            "gridwidth": 2,
            "linecolor": "white",
            "showbackground": true,
            "ticks": "",
            "zerolinecolor": "white"
           },
           "zaxis": {
            "backgroundcolor": "#E5ECF6",
            "gridcolor": "white",
            "gridwidth": 2,
            "linecolor": "white",
            "showbackground": true,
            "ticks": "",
            "zerolinecolor": "white"
           }
          },
          "shapedefaults": {
           "line": {
            "color": "#2a3f5f"
           }
          },
          "ternary": {
           "aaxis": {
            "gridcolor": "white",
            "linecolor": "white",
            "ticks": ""
           },
           "baxis": {
            "gridcolor": "white",
            "linecolor": "white",
            "ticks": ""
           },
           "bgcolor": "#E5ECF6",
           "caxis": {
            "gridcolor": "white",
            "linecolor": "white",
            "ticks": ""
           }
          },
          "title": {
           "x": 0.05
          },
          "xaxis": {
           "automargin": true,
           "gridcolor": "white",
           "linecolor": "white",
           "ticks": "",
           "title": {
            "standoff": 15
           },
           "zerolinecolor": "white",
           "zerolinewidth": 2
          },
          "yaxis": {
           "automargin": true,
           "gridcolor": "white",
           "linecolor": "white",
           "ticks": "",
           "title": {
            "standoff": 15
           },
           "zerolinecolor": "white",
           "zerolinewidth": 2
          }
         }
        }
       }
      }
     },
     "metadata": {},
     "output_type": "display_data"
    }
   ],
   "source": [
    "import plotly.graph_objects as go\n",
    "\n",
    "cores_langs = {\n",
    "    \"pt\": \"green\",\n",
    "    \"en\": \"red\",\n",
    "    \"it\": \"blue\",\n",
    "    \"fr\": \"blue\",\n",
    "    \"es\": \"blue\"\n",
    "}\n",
    "\n",
    "dashes_bases = {\n",
    "    \"the_stack_v1_html\": \"dot\",\n",
    "    \"the_stack_v1_markdown\": \"dot\",\n",
    "    \"the_stack_v1_shell\": \"dot\",\n",
    "    \"the_stack_v1_python\": \"dot\",\n",
    "    \"ajibawa_2023_Code_290k_ShareGPT\": \"dot\",\n",
    "    \"the_stack_v1_powershell\": \"dot\",\n",
    "    \"the_stack_v1_sql\": \"dot\",\n",
    "    \"vikp_textbook_quality_programming\": \"dot\",\n",
    "    \"cc100\":\"dash\",\n",
    "    \"dkyoon_slimpajama_6b\":\"dash\",\n",
    "    \"wikipedia_en\":\"dash\",\n",
    "    \"wikipedia_pt\":\"dash\",\n",
    "    \"commom_crawl\":\"dash\",\n",
    "    \"blogset_br\":\"dash\",\n",
    "    \"cshorten_ml_arxiv_papers\":\"dash\",\n",
    "    \"sentencas\": \"dashdot\",\n",
    "    \"itd_stj\": \"dashdot\",\n",
    "    \"pdfs_tjsp\": \"dashdot\",\n",
    "    \"pdfs_dominio_publico\": \"dashdot\",\n",
    "    \"livros\": \"dashdot\",\n",
    "    \"open_orca_slimorca_dedup\": \"dot\",\n",
    "    \"alpaca\": \"dot\",\n",
    "}\n",
    "\n",
    "fig = go.Figure()\n",
    "\n",
    "for i in range(0, len(pt_base), num_tokenizers):\n",
    "    indexes = [ind[1] for ind in pt_base.iloc[i:i + num_tokenizers].index]\n",
    "    bases = [ind[0] for ind in pt_base.iloc[i:i + num_tokenizers].index]\n",
    "    langs = [ind[2] for ind in pt_base.iloc[i: i + num_tokenizers].index]\n",
    "    fig.add_trace(\n",
    "        go.Scatter(\n",
    "            x = indexes,\n",
    "            y = pt_base.iloc[i:i + num_tokenizers][100].values,\n",
    "            name = bases[0],\n",
    "            line=dict(color=cores_langs[langs[0]], dash=dashes_bases[bases[0]])\n",
    "        )\n",
    "    )\n",
    "fig.update_layout(\n",
    "    height=1000\n",
    ")\n",
    "fig.show()\n"
   ]
  },
  {
   "cell_type": "code",
   "execution_count": 18,
   "metadata": {},
   "outputs": [
    {
     "name": "stderr",
     "output_type": "stream",
     "text": [
      "/tmp/ipykernel_449922/821748164.py:21: UserWarning:\n",
      "\n",
      "FigureCanvasAgg is non-interactive, and thus cannot be shown\n",
      "\n"
     ]
    },
    {
     "data": {
      "image/png": "[encoded data removed]",
      "text/plain": [
       "<Figure size 2000x1200 with 1 Axes>"
      ]
     },
     "metadata": {},
     "output_type": "display_data"
    }
   ],
   "source": [
    "import matplotlib.pyplot as plt\n",
    "import numpy as np\n",
    "\n",
    "cores_langs = {\n",
    "    \"pt\": \"green\",\n",
    "    \"en\": \"red\",\n",
    "    \"it\": \"blue\",\n",
    "    \"fr\": \"black\",\n",
    "    \"es\": \"yellow\"\n",
    "}\n",
    "\n",
    "fig, ax = plt.subplots()\n",
    "fig.set_size_inches(20, 12)\n",
    "\n",
    "for i in range(0, len(pt_base), num_tokenizers):\n",
    "    indexes = [ind[1] for ind in pt_base.iloc[i:i + num_tokenizers].index]\n",
    "    bases = [ind[0] for ind in pt_base.iloc[i:i + num_tokenizers].index]\n",
    "    langs = [ind[2] for ind in pt_base.iloc[i: i + num_tokenizers].index]\n",
    "    ax.plot(indexes, pt_base.iloc[i:i + num_tokenizers][100].values, label=bases[0], linestyle=np.random.choice([\"-.\", \"--\", \"-.\", \":\"]), color=cores_langs[langs[0]])\n",
    "ax.grid()\n",
    "ax.legend()"
   ]
  },
  {
   "cell_type": "code",
   "execution_count": 199,
   "metadata": {},
   "outputs": [
    {
     "data": {
      "text/plain": [
       "<matplotlib.legend.Legend at 0x7fea003eba60>"
      ]
     },
     "execution_count": 199,
     "metadata": {},
     "output_type": "execute_result"
    },
    {
     "data": {
      "image/png": "[encoded data removed]",
      "text/plain": [
       "<Figure size 1500x1000 with 1 Axes>"
      ]
     },
     "metadata": {},
     "output_type": "display_data"
    }
   ],
   "source": [
    "import matplotlib.pyplot as plt\n",
    "\n",
    "fig, ax = plt.subplots()\n",
    "fig.set_size_inches(15, 10)\n",
    "\n",
    "for i in range(0, len(pt_base), num_tokenizers):\n",
    "    indexes = [ind[1] for ind in pt_base.iloc[i:i + num_tokenizers].index]\n",
    "    bases = [ind[0] for ind in pt_base.iloc[i:i + num_tokenizers].index]\n",
    "    ax.plot(indexes, pt_base.iloc[i:i + num_tokenizers][100].values, label=bases[0])\n",
    "ax.legend()"
   ]
  },
  {
   "cell_type": "code",
   "execution_count": null,
   "metadata": {},
   "outputs": [],
   "source": []
  }
 ],
 "metadata": {
  "kernelspec": {
   "display_name": "venv",
   "language": "python",
   "name": "python3"
  },
  "language_info": {
   "codemirror_mode": {
    "name": "ipython",
    "version": 3
   },
   "file_extension": ".py",
   "mimetype": "text/x-python",
   "name": "python",
   "nbconvert_exporter": "python",
   "pygments_lexer": "ipython3",
   "version": "3.10.12"
  }
 },
 "nbformat": 4,
 "nbformat_minor": 2
}
